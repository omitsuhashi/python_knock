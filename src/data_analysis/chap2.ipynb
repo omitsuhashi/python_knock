{
 "cells": [
  {
   "cell_type": "code",
   "id": "initial_id",
   "metadata": {
    "collapsed": true,
    "ExecuteTime": {
     "end_time": "2024-04-15T07:07:48.357357Z",
     "start_time": "2024-04-15T07:07:47.726973Z"
    }
   },
   "source": [
    "from pathlib import Path\n",
    "\n",
    "import ibis\n",
    "from ibis import selectors as s\n",
    "import altair as alt\n",
    "\n",
    "ibis.options.interactive = True\n",
    "\n",
    "data_path = Path.cwd().joinpath('data', 'chap2')"
   ],
   "outputs": [],
   "execution_count": 1
  },
  {
   "metadata": {
    "ExecuteTime": {
     "end_time": "2024-04-15T07:11:49.019859Z",
     "start_time": "2024-04-15T07:11:48.839095Z"
    }
   },
   "cell_type": "code",
   "source": [
    "# knock11\n",
    "t = ibis.read_csv(data_path.joinpath('dump_data.csv'))\n",
    "t.head()"
   ],
   "id": "b139f70ef6232885",
   "outputs": [
    {
     "data": {
      "text/plain": [
       "┏━━━━━━━━━━━━━━━━━━━━━┳━━━━━━━━━━━━━━━━┳━━━━━━━━━━━┳━━━━━━━━━━━━┳━━━━━━━━┳━━━━━━━━━┳━━━━━━━━┳━━━━━━━━━━━━━━━━━━━━━━━━━━━━┳━━━━━━━━━━━━━━━━━━━━━┓\n",
       "┃\u001B[1m \u001B[0m\u001B[1mpurchase_date\u001B[0m\u001B[1m      \u001B[0m\u001B[1m \u001B[0m┃\u001B[1m \u001B[0m\u001B[1mpurchase_month\u001B[0m\u001B[1m \u001B[0m┃\u001B[1m \u001B[0m\u001B[1mitem_name\u001B[0m\u001B[1m \u001B[0m┃\u001B[1m \u001B[0m\u001B[1mitem_price\u001B[0m\u001B[1m \u001B[0m┃\u001B[1m \u001B[0m\u001B[1m顧客名\u001B[0m\u001B[1m \u001B[0m┃\u001B[1m \u001B[0m\u001B[1mかな\u001B[0m\u001B[1m   \u001B[0m\u001B[1m \u001B[0m┃\u001B[1m \u001B[0m\u001B[1m地域\u001B[0m\u001B[1m  \u001B[0m\u001B[1m \u001B[0m┃\u001B[1m \u001B[0m\u001B[1mメールアドレス\u001B[0m\u001B[1m            \u001B[0m\u001B[1m \u001B[0m┃\u001B[1m \u001B[0m\u001B[1m登録日\u001B[0m\u001B[1m             \u001B[0m\u001B[1m \u001B[0m┃\n",
       "┡━━━━━━━━━━━━━━━━━━━━━╇━━━━━━━━━━━━━━━━╇━━━━━━━━━━━╇━━━━━━━━━━━━╇━━━━━━━━╇━━━━━━━━━╇━━━━━━━━╇━━━━━━━━━━━━━━━━━━━━━━━━━━━━╇━━━━━━━━━━━━━━━━━━━━━┩\n",
       "│ \u001B[2mtimestamp\u001B[0m           │ \u001B[2mint64\u001B[0m          │ \u001B[2mstring\u001B[0m    │ \u001B[2mfloat64\u001B[0m    │ \u001B[2mstring\u001B[0m │ \u001B[2mstring\u001B[0m  │ \u001B[2mstring\u001B[0m │ \u001B[2mstring\u001B[0m                     │ \u001B[2mtimestamp\u001B[0m           │\n",
       "├─────────────────────┼────────────────┼───────────┼────────────┼────────┼─────────┼────────┼────────────────────────────┼─────────────────────┤\n",
       "│ \u001B[35m2019-06-13 18:02:34\u001B[0m │         \u001B[1;36m201906\u001B[0m │ \u001B[32m商品A    \u001B[0m │      \u001B[1;36m100.0\u001B[0m │ \u001B[32m深井 …\u001B[0m │ \u001B[32mふかい…\u001B[0m │ \u001B[32mC市   \u001B[0m │ \u001B[32mfukai_nanami@example.com  \u001B[0m │ \u001B[35m2017-01-26 00:00:00\u001B[0m │\n",
       "│ \u001B[35m2019-07-13 13:05:29\u001B[0m │         \u001B[1;36m201907\u001B[0m │ \u001B[32m商品S    \u001B[0m │     \u001B[1;36m1900.0\u001B[0m │ \u001B[32m浅田 …\u001B[0m │ \u001B[32mあさだ…\u001B[0m │ \u001B[32mC市   \u001B[0m │ \u001B[32masada_kenji@example.com   \u001B[0m │ \u001B[35m2018-04-07 00:00:00\u001B[0m │\n",
       "│ \u001B[35m2019-05-11 19:42:07\u001B[0m │         \u001B[1;36m201905\u001B[0m │ \u001B[32m商品A    \u001B[0m │      \u001B[1;36m100.0\u001B[0m │ \u001B[32m南部 …\u001B[0m │ \u001B[32mなんぶ…\u001B[0m │ \u001B[32mA市   \u001B[0m │ \u001B[32mnannbu_keiji@example.com  \u001B[0m │ \u001B[35m2018-06-19 00:00:00\u001B[0m │\n",
       "│ \u001B[35m2019-02-12 23:40:45\u001B[0m │         \u001B[1;36m201902\u001B[0m │ \u001B[32m商品Z    \u001B[0m │     \u001B[1;36m2600.0\u001B[0m │ \u001B[32m麻生 …\u001B[0m │ \u001B[32mあそう…\u001B[0m │ \u001B[32mD市   \u001B[0m │ \u001B[32masou_rio@example.com      \u001B[0m │ \u001B[35m2018-07-22 00:00:00\u001B[0m │\n",
       "│ \u001B[35m2019-04-22 03:09:35\u001B[0m │         \u001B[1;36m201904\u001B[0m │ \u001B[32m商品A    \u001B[0m │      \u001B[1;36m100.0\u001B[0m │ \u001B[32m平田 …\u001B[0m │ \u001B[32mひらた…\u001B[0m │ \u001B[32mD市   \u001B[0m │ \u001B[32mhirata_tetsuji@example.com\u001B[0m │ \u001B[35m2017-06-07 00:00:00\u001B[0m │\n",
       "└─────────────────────┴────────────────┴───────────┴────────────┴────────┴─────────┴────────┴────────────────────────────┴─────────────────────┘"
      ],
      "text/html": [
       "<pre style=\"white-space:pre;overflow-x:auto;line-height:normal;font-family:Menlo,'DejaVu Sans Mono',consolas,'Courier New',monospace\">┏━━━━━━━━━━━━━━━━━━━━━┳━━━━━━━━━━━━━━━━┳━━━━━━━━━━━┳━━━━━━━━━━━━┳━━━━━━━━┳━━━━━━━━━┳━━━━━━━━┳━━━━━━━━━━━━━━━━━━━━━━━━━━━━┳━━━━━━━━━━━━━━━━━━━━━┓\n",
       "┃<span style=\"font-weight: bold\"> purchase_date       </span>┃<span style=\"font-weight: bold\"> purchase_month </span>┃<span style=\"font-weight: bold\"> item_name </span>┃<span style=\"font-weight: bold\"> item_price </span>┃<span style=\"font-weight: bold\"> 顧客名 </span>┃<span style=\"font-weight: bold\"> かな    </span>┃<span style=\"font-weight: bold\"> 地域   </span>┃<span style=\"font-weight: bold\"> メールアドレス             </span>┃<span style=\"font-weight: bold\"> 登録日              </span>┃\n",
       "┡━━━━━━━━━━━━━━━━━━━━━╇━━━━━━━━━━━━━━━━╇━━━━━━━━━━━╇━━━━━━━━━━━━╇━━━━━━━━╇━━━━━━━━━╇━━━━━━━━╇━━━━━━━━━━━━━━━━━━━━━━━━━━━━╇━━━━━━━━━━━━━━━━━━━━━┩\n",
       "│ <span style=\"color: #7f7f7f; text-decoration-color: #7f7f7f\">timestamp</span>           │ <span style=\"color: #7f7f7f; text-decoration-color: #7f7f7f\">int64</span>          │ <span style=\"color: #7f7f7f; text-decoration-color: #7f7f7f\">string</span>    │ <span style=\"color: #7f7f7f; text-decoration-color: #7f7f7f\">float64</span>    │ <span style=\"color: #7f7f7f; text-decoration-color: #7f7f7f\">string</span> │ <span style=\"color: #7f7f7f; text-decoration-color: #7f7f7f\">string</span>  │ <span style=\"color: #7f7f7f; text-decoration-color: #7f7f7f\">string</span> │ <span style=\"color: #7f7f7f; text-decoration-color: #7f7f7f\">string</span>                     │ <span style=\"color: #7f7f7f; text-decoration-color: #7f7f7f\">timestamp</span>           │\n",
       "├─────────────────────┼────────────────┼───────────┼────────────┼────────┼─────────┼────────┼────────────────────────────┼─────────────────────┤\n",
       "│ <span style=\"color: #800080; text-decoration-color: #800080\">2019-06-13 18:02:34</span> │         <span style=\"color: #008080; text-decoration-color: #008080; font-weight: bold\">201906</span> │ <span style=\"color: #008000; text-decoration-color: #008000\">商品A    </span> │      <span style=\"color: #008080; text-decoration-color: #008080; font-weight: bold\">100.0</span> │ <span style=\"color: #008000; text-decoration-color: #008000\">深井 …</span> │ <span style=\"color: #008000; text-decoration-color: #008000\">ふかい…</span> │ <span style=\"color: #008000; text-decoration-color: #008000\">C市   </span> │ <span style=\"color: #008000; text-decoration-color: #008000\">fukai_nanami@example.com  </span> │ <span style=\"color: #800080; text-decoration-color: #800080\">2017-01-26 00:00:00</span> │\n",
       "│ <span style=\"color: #800080; text-decoration-color: #800080\">2019-07-13 13:05:29</span> │         <span style=\"color: #008080; text-decoration-color: #008080; font-weight: bold\">201907</span> │ <span style=\"color: #008000; text-decoration-color: #008000\">商品S    </span> │     <span style=\"color: #008080; text-decoration-color: #008080; font-weight: bold\">1900.0</span> │ <span style=\"color: #008000; text-decoration-color: #008000\">浅田 …</span> │ <span style=\"color: #008000; text-decoration-color: #008000\">あさだ…</span> │ <span style=\"color: #008000; text-decoration-color: #008000\">C市   </span> │ <span style=\"color: #008000; text-decoration-color: #008000\">asada_kenji@example.com   </span> │ <span style=\"color: #800080; text-decoration-color: #800080\">2018-04-07 00:00:00</span> │\n",
       "│ <span style=\"color: #800080; text-decoration-color: #800080\">2019-05-11 19:42:07</span> │         <span style=\"color: #008080; text-decoration-color: #008080; font-weight: bold\">201905</span> │ <span style=\"color: #008000; text-decoration-color: #008000\">商品A    </span> │      <span style=\"color: #008080; text-decoration-color: #008080; font-weight: bold\">100.0</span> │ <span style=\"color: #008000; text-decoration-color: #008000\">南部 …</span> │ <span style=\"color: #008000; text-decoration-color: #008000\">なんぶ…</span> │ <span style=\"color: #008000; text-decoration-color: #008000\">A市   </span> │ <span style=\"color: #008000; text-decoration-color: #008000\">nannbu_keiji@example.com  </span> │ <span style=\"color: #800080; text-decoration-color: #800080\">2018-06-19 00:00:00</span> │\n",
       "│ <span style=\"color: #800080; text-decoration-color: #800080\">2019-02-12 23:40:45</span> │         <span style=\"color: #008080; text-decoration-color: #008080; font-weight: bold\">201902</span> │ <span style=\"color: #008000; text-decoration-color: #008000\">商品Z    </span> │     <span style=\"color: #008080; text-decoration-color: #008080; font-weight: bold\">2600.0</span> │ <span style=\"color: #008000; text-decoration-color: #008000\">麻生 …</span> │ <span style=\"color: #008000; text-decoration-color: #008000\">あそう…</span> │ <span style=\"color: #008000; text-decoration-color: #008000\">D市   </span> │ <span style=\"color: #008000; text-decoration-color: #008000\">asou_rio@example.com      </span> │ <span style=\"color: #800080; text-decoration-color: #800080\">2018-07-22 00:00:00</span> │\n",
       "│ <span style=\"color: #800080; text-decoration-color: #800080\">2019-04-22 03:09:35</span> │         <span style=\"color: #008080; text-decoration-color: #008080; font-weight: bold\">201904</span> │ <span style=\"color: #008000; text-decoration-color: #008000\">商品A    </span> │      <span style=\"color: #008080; text-decoration-color: #008080; font-weight: bold\">100.0</span> │ <span style=\"color: #008000; text-decoration-color: #008000\">平田 …</span> │ <span style=\"color: #008000; text-decoration-color: #008000\">ひらた…</span> │ <span style=\"color: #008000; text-decoration-color: #008000\">D市   </span> │ <span style=\"color: #008000; text-decoration-color: #008000\">hirata_tetsuji@example.com</span> │ <span style=\"color: #800080; text-decoration-color: #800080\">2017-06-07 00:00:00</span> │\n",
       "└─────────────────────┴────────────────┴───────────┴────────────┴────────┴─────────┴────────┴────────────────────────────┴─────────────────────┘\n",
       "</pre>\n"
      ]
     },
     "execution_count": 6,
     "metadata": {},
     "output_type": "execute_result"
    }
   ],
   "execution_count": 6
  },
  {
   "metadata": {
    "ExecuteTime": {
     "end_time": "2024-04-15T07:35:19.767688Z",
     "start_time": "2024-04-15T07:35:19.659101Z"
    }
   },
   "cell_type": "code",
   "source": [
    "sell = ibis.read_csv(data_path.joinpath('uriage.csv'))\n",
    "sell.head()\n"
   ],
   "id": "34caaf20953f2542",
   "outputs": [
    {
     "data": {
      "text/plain": [
       "┏━━━━━━━━━━━━━━━━━━━━━┳━━━━━━━━━━━┳━━━━━━━━━━━━┳━━━━━━━━━━━━━━━┓\n",
       "┃\u001B[1m \u001B[0m\u001B[1mpurchase_date\u001B[0m\u001B[1m      \u001B[0m\u001B[1m \u001B[0m┃\u001B[1m \u001B[0m\u001B[1mitem_name\u001B[0m\u001B[1m \u001B[0m┃\u001B[1m \u001B[0m\u001B[1mitem_price\u001B[0m\u001B[1m \u001B[0m┃\u001B[1m \u001B[0m\u001B[1mcustomer_name\u001B[0m\u001B[1m \u001B[0m┃\n",
       "┡━━━━━━━━━━━━━━━━━━━━━╇━━━━━━━━━━━╇━━━━━━━━━━━━╇━━━━━━━━━━━━━━━┩\n",
       "│ \u001B[2mtimestamp\u001B[0m           │ \u001B[2mstring\u001B[0m    │ \u001B[2mint64\u001B[0m      │ \u001B[2mstring\u001B[0m        │\n",
       "├─────────────────────┼───────────┼────────────┼───────────────┤\n",
       "│ \u001B[35m2019-06-13 18:02:34\u001B[0m │ \u001B[32m商品A    \u001B[0m │        \u001B[1;36m100\u001B[0m │ \u001B[32m深井菜々美   \u001B[0m │\n",
       "│ \u001B[35m2019-07-13 13:05:29\u001B[0m │ \u001B[32m商 品 S  \u001B[0m │       \u001B[2mNULL\u001B[0m │ \u001B[32m浅田賢二     \u001B[0m │\n",
       "│ \u001B[35m2019-05-11 19:42:07\u001B[0m │ \u001B[32m商 品 a  \u001B[0m │       \u001B[2mNULL\u001B[0m │ \u001B[32m南部慶二     \u001B[0m │\n",
       "│ \u001B[35m2019-02-12 23:40:45\u001B[0m │ \u001B[32m商品Z    \u001B[0m │       \u001B[1;36m2600\u001B[0m │ \u001B[32m麻生莉緒     \u001B[0m │\n",
       "│ \u001B[35m2019-04-22 03:09:35\u001B[0m │ \u001B[32m商品a    \u001B[0m │       \u001B[2mNULL\u001B[0m │ \u001B[32m平田鉄二     \u001B[0m │\n",
       "└─────────────────────┴───────────┴────────────┴───────────────┘"
      ],
      "text/html": [
       "<pre style=\"white-space:pre;overflow-x:auto;line-height:normal;font-family:Menlo,'DejaVu Sans Mono',consolas,'Courier New',monospace\">┏━━━━━━━━━━━━━━━━━━━━━┳━━━━━━━━━━━┳━━━━━━━━━━━━┳━━━━━━━━━━━━━━━┓\n",
       "┃<span style=\"font-weight: bold\"> purchase_date       </span>┃<span style=\"font-weight: bold\"> item_name </span>┃<span style=\"font-weight: bold\"> item_price </span>┃<span style=\"font-weight: bold\"> customer_name </span>┃\n",
       "┡━━━━━━━━━━━━━━━━━━━━━╇━━━━━━━━━━━╇━━━━━━━━━━━━╇━━━━━━━━━━━━━━━┩\n",
       "│ <span style=\"color: #7f7f7f; text-decoration-color: #7f7f7f\">timestamp</span>           │ <span style=\"color: #7f7f7f; text-decoration-color: #7f7f7f\">string</span>    │ <span style=\"color: #7f7f7f; text-decoration-color: #7f7f7f\">int64</span>      │ <span style=\"color: #7f7f7f; text-decoration-color: #7f7f7f\">string</span>        │\n",
       "├─────────────────────┼───────────┼────────────┼───────────────┤\n",
       "│ <span style=\"color: #800080; text-decoration-color: #800080\">2019-06-13 18:02:34</span> │ <span style=\"color: #008000; text-decoration-color: #008000\">商品A    </span> │        <span style=\"color: #008080; text-decoration-color: #008080; font-weight: bold\">100</span> │ <span style=\"color: #008000; text-decoration-color: #008000\">深井菜々美   </span> │\n",
       "│ <span style=\"color: #800080; text-decoration-color: #800080\">2019-07-13 13:05:29</span> │ <span style=\"color: #008000; text-decoration-color: #008000\">商 品 S  </span> │       <span style=\"color: #7f7f7f; text-decoration-color: #7f7f7f\">NULL</span> │ <span style=\"color: #008000; text-decoration-color: #008000\">浅田賢二     </span> │\n",
       "│ <span style=\"color: #800080; text-decoration-color: #800080\">2019-05-11 19:42:07</span> │ <span style=\"color: #008000; text-decoration-color: #008000\">商 品 a  </span> │       <span style=\"color: #7f7f7f; text-decoration-color: #7f7f7f\">NULL</span> │ <span style=\"color: #008000; text-decoration-color: #008000\">南部慶二     </span> │\n",
       "│ <span style=\"color: #800080; text-decoration-color: #800080\">2019-02-12 23:40:45</span> │ <span style=\"color: #008000; text-decoration-color: #008000\">商品Z    </span> │       <span style=\"color: #008080; text-decoration-color: #008080; font-weight: bold\">2600</span> │ <span style=\"color: #008000; text-decoration-color: #008000\">麻生莉緒     </span> │\n",
       "│ <span style=\"color: #800080; text-decoration-color: #800080\">2019-04-22 03:09:35</span> │ <span style=\"color: #008000; text-decoration-color: #008000\">商品a    </span> │       <span style=\"color: #7f7f7f; text-decoration-color: #7f7f7f\">NULL</span> │ <span style=\"color: #008000; text-decoration-color: #008000\">平田鉄二     </span> │\n",
       "└─────────────────────┴───────────┴────────────┴───────────────┘\n",
       "</pre>\n"
      ]
     },
     "execution_count": 24,
     "metadata": {},
     "output_type": "execute_result"
    }
   ],
   "execution_count": 24
  },
  {
   "metadata": {
    "ExecuteTime": {
     "end_time": "2024-04-15T07:33:58.783318Z",
     "start_time": "2024-04-15T07:33:58.781044Z"
    }
   },
   "cell_type": "code",
   "source": [
    "if not data_path.joinpath('kokyaku_daicho.csv').exists():\n",
    "    import pandas as pd\n",
    "    customer_df = pd.read_excel(data_path.joinpath('kokyaku_daicho.xlsx'))\n",
    "    customer_df.to_csv(data_path.joinpath('kokyaku_daicho.csv'), index=True)"
   ],
   "id": "b9f3bf6565c26aca",
   "outputs": [],
   "execution_count": 21
  },
  {
   "metadata": {
    "ExecuteTime": {
     "end_time": "2024-04-15T07:33:59.615784Z",
     "start_time": "2024-04-15T07:33:59.551648Z"
    }
   },
   "cell_type": "code",
   "source": [
    "customers = ibis.read_csv(data_path.joinpath('kokyaku_daicho.csv'))\n",
    "customers.head()"
   ],
   "id": "2d340d39ea09a8f7",
   "outputs": [
    {
     "data": {
      "text/plain": [
       "┏━━━━━━━━━┳━━━━━━━━━━━━━┳━━━━━━━━━━┳━━━━━━━━┳━━━━━━━━━━━━━━━━━━━━━━━━━━━━┳━━━━━━━━━━━━┓\n",
       "┃\u001B[1m \u001B[0m\u001B[1mcolumn0\u001B[0m\u001B[1m \u001B[0m┃\u001B[1m \u001B[0m\u001B[1m顧客名\u001B[0m\u001B[1m     \u001B[0m\u001B[1m \u001B[0m┃\u001B[1m \u001B[0m\u001B[1mかな\u001B[0m\u001B[1m    \u001B[0m\u001B[1m \u001B[0m┃\u001B[1m \u001B[0m\u001B[1m地域\u001B[0m\u001B[1m  \u001B[0m\u001B[1m \u001B[0m┃\u001B[1m \u001B[0m\u001B[1mメールアドレス\u001B[0m\u001B[1m            \u001B[0m\u001B[1m \u001B[0m┃\u001B[1m \u001B[0m\u001B[1m登録日\u001B[0m\u001B[1m    \u001B[0m\u001B[1m \u001B[0m┃\n",
       "┡━━━━━━━━━╇━━━━━━━━━━━━━╇━━━━━━━━━━╇━━━━━━━━╇━━━━━━━━━━━━━━━━━━━━━━━━━━━━╇━━━━━━━━━━━━┩\n",
       "│ \u001B[2mint64\u001B[0m   │ \u001B[2mstring\u001B[0m      │ \u001B[2mstring\u001B[0m   │ \u001B[2mstring\u001B[0m │ \u001B[2mstring\u001B[0m                     │ \u001B[2mstring\u001B[0m     │\n",
       "├─────────┼─────────────┼──────────┼────────┼────────────────────────────┼────────────┤\n",
       "│       \u001B[1;36m0\u001B[0m │ \u001B[32m須賀ひとみ \u001B[0m │ \u001B[32mすが ひ…\u001B[0m │ \u001B[32mH市   \u001B[0m │ \u001B[32msuga_hitomi@example.com   \u001B[0m │ \u001B[32m2018/01/04\u001B[0m │\n",
       "│       \u001B[1;36m1\u001B[0m │ \u001B[32m岡田\u001B[0m\u001B[2;32m\\u3000\u001B[0m\u001B[32m…\u001B[0m │ \u001B[32mおかだ …\u001B[0m │ \u001B[32mE市   \u001B[0m │ \u001B[32mokada_toshiya@example.com \u001B[0m │ \u001B[32m42782     \u001B[0m │\n",
       "│       \u001B[1;36m2\u001B[0m │ \u001B[32m芳賀 希    \u001B[0m │ \u001B[32mはが の…\u001B[0m │ \u001B[32mA市   \u001B[0m │ \u001B[32mhaga_nozomi@example.com   \u001B[0m │ \u001B[32m2018/01/07\u001B[0m │\n",
       "│       \u001B[1;36m3\u001B[0m │ \u001B[32m荻野  愛   \u001B[0m │ \u001B[32mおぎの …\u001B[0m │ \u001B[32mF市   \u001B[0m │ \u001B[32mogino_ai@example.com      \u001B[0m │ \u001B[32m42872     \u001B[0m │\n",
       "│       \u001B[1;36m4\u001B[0m │ \u001B[32m栗田 憲一  \u001B[0m │ \u001B[32mくりた …\u001B[0m │ \u001B[32mE市   \u001B[0m │ \u001B[32mkurita_kenichi@example.com\u001B[0m │ \u001B[32m43127     \u001B[0m │\n",
       "└─────────┴─────────────┴──────────┴────────┴────────────────────────────┴────────────┘"
      ],
      "text/html": [
       "<pre style=\"white-space:pre;overflow-x:auto;line-height:normal;font-family:Menlo,'DejaVu Sans Mono',consolas,'Courier New',monospace\">┏━━━━━━━━━┳━━━━━━━━━━━━━┳━━━━━━━━━━┳━━━━━━━━┳━━━━━━━━━━━━━━━━━━━━━━━━━━━━┳━━━━━━━━━━━━┓\n",
       "┃<span style=\"font-weight: bold\"> column0 </span>┃<span style=\"font-weight: bold\"> 顧客名      </span>┃<span style=\"font-weight: bold\"> かな     </span>┃<span style=\"font-weight: bold\"> 地域   </span>┃<span style=\"font-weight: bold\"> メールアドレス             </span>┃<span style=\"font-weight: bold\"> 登録日     </span>┃\n",
       "┡━━━━━━━━━╇━━━━━━━━━━━━━╇━━━━━━━━━━╇━━━━━━━━╇━━━━━━━━━━━━━━━━━━━━━━━━━━━━╇━━━━━━━━━━━━┩\n",
       "│ <span style=\"color: #7f7f7f; text-decoration-color: #7f7f7f\">int64</span>   │ <span style=\"color: #7f7f7f; text-decoration-color: #7f7f7f\">string</span>      │ <span style=\"color: #7f7f7f; text-decoration-color: #7f7f7f\">string</span>   │ <span style=\"color: #7f7f7f; text-decoration-color: #7f7f7f\">string</span> │ <span style=\"color: #7f7f7f; text-decoration-color: #7f7f7f\">string</span>                     │ <span style=\"color: #7f7f7f; text-decoration-color: #7f7f7f\">string</span>     │\n",
       "├─────────┼─────────────┼──────────┼────────┼────────────────────────────┼────────────┤\n",
       "│       <span style=\"color: #008080; text-decoration-color: #008080; font-weight: bold\">0</span> │ <span style=\"color: #008000; text-decoration-color: #008000\">須賀ひとみ </span> │ <span style=\"color: #008000; text-decoration-color: #008000\">すが ひ…</span> │ <span style=\"color: #008000; text-decoration-color: #008000\">H市   </span> │ <span style=\"color: #008000; text-decoration-color: #008000\">suga_hitomi@example.com   </span> │ <span style=\"color: #008000; text-decoration-color: #008000\">2018/01/04</span> │\n",
       "│       <span style=\"color: #008080; text-decoration-color: #008080; font-weight: bold\">1</span> │ <span style=\"color: #008000; text-decoration-color: #008000\">岡田</span><span style=\"color: #7fbf7f; text-decoration-color: #7fbf7f\">\\u3000</span><span style=\"color: #008000; text-decoration-color: #008000\">…</span> │ <span style=\"color: #008000; text-decoration-color: #008000\">おかだ …</span> │ <span style=\"color: #008000; text-decoration-color: #008000\">E市   </span> │ <span style=\"color: #008000; text-decoration-color: #008000\">okada_toshiya@example.com </span> │ <span style=\"color: #008000; text-decoration-color: #008000\">42782     </span> │\n",
       "│       <span style=\"color: #008080; text-decoration-color: #008080; font-weight: bold\">2</span> │ <span style=\"color: #008000; text-decoration-color: #008000\">芳賀 希    </span> │ <span style=\"color: #008000; text-decoration-color: #008000\">はが の…</span> │ <span style=\"color: #008000; text-decoration-color: #008000\">A市   </span> │ <span style=\"color: #008000; text-decoration-color: #008000\">haga_nozomi@example.com   </span> │ <span style=\"color: #008000; text-decoration-color: #008000\">2018/01/07</span> │\n",
       "│       <span style=\"color: #008080; text-decoration-color: #008080; font-weight: bold\">3</span> │ <span style=\"color: #008000; text-decoration-color: #008000\">荻野  愛   </span> │ <span style=\"color: #008000; text-decoration-color: #008000\">おぎの …</span> │ <span style=\"color: #008000; text-decoration-color: #008000\">F市   </span> │ <span style=\"color: #008000; text-decoration-color: #008000\">ogino_ai@example.com      </span> │ <span style=\"color: #008000; text-decoration-color: #008000\">42872     </span> │\n",
       "│       <span style=\"color: #008080; text-decoration-color: #008080; font-weight: bold\">4</span> │ <span style=\"color: #008000; text-decoration-color: #008000\">栗田 憲一  </span> │ <span style=\"color: #008000; text-decoration-color: #008000\">くりた …</span> │ <span style=\"color: #008000; text-decoration-color: #008000\">E市   </span> │ <span style=\"color: #008000; text-decoration-color: #008000\">kurita_kenichi@example.com</span> │ <span style=\"color: #008000; text-decoration-color: #008000\">43127     </span> │\n",
       "└─────────┴─────────────┴──────────┴────────┴────────────────────────────┴────────────┘\n",
       "</pre>\n"
      ]
     },
     "execution_count": 22,
     "metadata": {},
     "output_type": "execute_result"
    }
   ],
   "execution_count": 22
  },
  {
   "metadata": {
    "ExecuteTime": {
     "end_time": "2024-04-15T07:36:04.423071Z",
     "start_time": "2024-04-15T07:36:04.347515Z"
    }
   },
   "cell_type": "code",
   "source": "sell[['item_name', 'item_price']].head()",
   "id": "95be0f787a4070ae",
   "outputs": [
    {
     "data": {
      "text/plain": [
       "┏━━━━━━━━━━━┳━━━━━━━━━━━━┓\n",
       "┃\u001B[1m \u001B[0m\u001B[1mitem_name\u001B[0m\u001B[1m \u001B[0m┃\u001B[1m \u001B[0m\u001B[1mitem_price\u001B[0m\u001B[1m \u001B[0m┃\n",
       "┡━━━━━━━━━━━╇━━━━━━━━━━━━┩\n",
       "│ \u001B[2mstring\u001B[0m    │ \u001B[2mint64\u001B[0m      │\n",
       "├───────────┼────────────┤\n",
       "│ \u001B[32m商品A    \u001B[0m │        \u001B[1;36m100\u001B[0m │\n",
       "│ \u001B[32m商 品 S  \u001B[0m │       \u001B[2mNULL\u001B[0m │\n",
       "│ \u001B[32m商 品 a  \u001B[0m │       \u001B[2mNULL\u001B[0m │\n",
       "│ \u001B[32m商品Z    \u001B[0m │       \u001B[1;36m2600\u001B[0m │\n",
       "│ \u001B[32m商品a    \u001B[0m │       \u001B[2mNULL\u001B[0m │\n",
       "└───────────┴────────────┘"
      ],
      "text/html": [
       "<pre style=\"white-space:pre;overflow-x:auto;line-height:normal;font-family:Menlo,'DejaVu Sans Mono',consolas,'Courier New',monospace\">┏━━━━━━━━━━━┳━━━━━━━━━━━━┓\n",
       "┃<span style=\"font-weight: bold\"> item_name </span>┃<span style=\"font-weight: bold\"> item_price </span>┃\n",
       "┡━━━━━━━━━━━╇━━━━━━━━━━━━┩\n",
       "│ <span style=\"color: #7f7f7f; text-decoration-color: #7f7f7f\">string</span>    │ <span style=\"color: #7f7f7f; text-decoration-color: #7f7f7f\">int64</span>      │\n",
       "├───────────┼────────────┤\n",
       "│ <span style=\"color: #008000; text-decoration-color: #008000\">商品A    </span> │        <span style=\"color: #008080; text-decoration-color: #008080; font-weight: bold\">100</span> │\n",
       "│ <span style=\"color: #008000; text-decoration-color: #008000\">商 品 S  </span> │       <span style=\"color: #7f7f7f; text-decoration-color: #7f7f7f\">NULL</span> │\n",
       "│ <span style=\"color: #008000; text-decoration-color: #008000\">商 品 a  </span> │       <span style=\"color: #7f7f7f; text-decoration-color: #7f7f7f\">NULL</span> │\n",
       "│ <span style=\"color: #008000; text-decoration-color: #008000\">商品Z    </span> │       <span style=\"color: #008080; text-decoration-color: #008080; font-weight: bold\">2600</span> │\n",
       "│ <span style=\"color: #008000; text-decoration-color: #008000\">商品a    </span> │       <span style=\"color: #7f7f7f; text-decoration-color: #7f7f7f\">NULL</span> │\n",
       "└───────────┴────────────┘\n",
       "</pre>\n"
      ]
     },
     "execution_count": 26,
     "metadata": {},
     "output_type": "execute_result"
    }
   ],
   "execution_count": 26
  },
  {
   "metadata": {
    "ExecuteTime": {
     "end_time": "2024-04-15T07:39:12.196708Z",
     "start_time": "2024-04-15T07:39:12.133212Z"
    }
   },
   "cell_type": "code",
   "source": "sell['item_name'].nunique().execute()",
   "id": "9f56662037dc65d4",
   "outputs": [
    {
     "data": {
      "text/plain": [
       "99"
      ]
     },
     "execution_count": 32,
     "metadata": {},
     "output_type": "execute_result"
    }
   ],
   "execution_count": 32
  },
  {
   "metadata": {
    "ExecuteTime": {
     "end_time": "2024-04-15T07:44:12.472222Z",
     "start_time": "2024-04-15T07:44:12.383495Z"
    }
   },
   "cell_type": "code",
   "source": [
    "sell_fix = sell.mutate(item_name=sell['item_name'].upper().replace(\"　\", \"\").replace(\" \", \"\")).order_by('item_name')\n",
    "sell_fix['item_name'].nunique().execute()"
   ],
   "id": "1eb30d7ba2fb9e62",
   "outputs": [
    {
     "data": {
      "text/plain": [
       "26"
      ]
     },
     "execution_count": 33,
     "metadata": {},
     "output_type": "execute_result"
    }
   ],
   "execution_count": 33
  },
  {
   "metadata": {
    "ExecuteTime": {
     "end_time": "2024-04-15T07:53:41.270207Z",
     "start_time": "2024-04-15T07:53:41.207290Z"
    }
   },
   "cell_type": "code",
   "source": [
    "# knock15\n",
    "# 欠損地チェック\n",
    "null_checks = [sell[col].isnull().any().name(f\"{col}_has_nulls\") for col in sell.columns]\n",
    "\n",
    "# 式を実行して結果を取得\n",
    "result = sell.projection(null_checks).distinct().execute()\n",
    "result"
   ],
   "id": "242d1dc874a34c91",
   "outputs": [
    {
     "data": {
      "text/plain": [
       "   purchase_date_has_nulls  item_name_has_nulls  item_price_has_nulls  \\\n",
       "0                    False                False                  True   \n",
       "\n",
       "   customer_name_has_nulls  \n",
       "0                    False  "
      ],
      "text/html": [
       "<div>\n",
       "<style scoped>\n",
       "    .dataframe tbody tr th:only-of-type {\n",
       "        vertical-align: middle;\n",
       "    }\n",
       "\n",
       "    .dataframe tbody tr th {\n",
       "        vertical-align: top;\n",
       "    }\n",
       "\n",
       "    .dataframe thead th {\n",
       "        text-align: right;\n",
       "    }\n",
       "</style>\n",
       "<table border=\"1\" class=\"dataframe\">\n",
       "  <thead>\n",
       "    <tr style=\"text-align: right;\">\n",
       "      <th></th>\n",
       "      <th>purchase_date_has_nulls</th>\n",
       "      <th>item_name_has_nulls</th>\n",
       "      <th>item_price_has_nulls</th>\n",
       "      <th>customer_name_has_nulls</th>\n",
       "    </tr>\n",
       "  </thead>\n",
       "  <tbody>\n",
       "    <tr>\n",
       "      <th>0</th>\n",
       "      <td>False</td>\n",
       "      <td>False</td>\n",
       "      <td>True</td>\n",
       "      <td>False</td>\n",
       "    </tr>\n",
       "  </tbody>\n",
       "</table>\n",
       "</div>"
      ]
     },
     "execution_count": 38,
     "metadata": {},
     "output_type": "execute_result"
    }
   ],
   "execution_count": 38
  },
  {
   "metadata": {
    "ExecuteTime": {
     "end_time": "2024-04-15T08:26:24.731445Z",
     "start_time": "2024-04-15T08:26:24.642914Z"
    }
   },
   "cell_type": "code",
   "source": [
    "prices = sell_fix.select(['item_name', 'item_price']).filter(sell_fix['item_price'].notnull()).distinct()\n",
    "prices"
   ],
   "id": "33ba78ca007b6edf",
   "outputs": [
    {
     "data": {
      "text/plain": [
       "┏━━━━━━━━━━━┳━━━━━━━━━━━━┓\n",
       "┃\u001B[1m \u001B[0m\u001B[1mitem_name\u001B[0m\u001B[1m \u001B[0m┃\u001B[1m \u001B[0m\u001B[1mitem_price\u001B[0m\u001B[1m \u001B[0m┃\n",
       "┡━━━━━━━━━━━╇━━━━━━━━━━━━┩\n",
       "│ \u001B[2mstring\u001B[0m    │ \u001B[2mint64\u001B[0m      │\n",
       "├───────────┼────────────┤\n",
       "│ \u001B[32m商品P    \u001B[0m │       \u001B[1;36m1600\u001B[0m │\n",
       "│ \u001B[32m商品Q    \u001B[0m │       \u001B[1;36m1700\u001B[0m │\n",
       "│ \u001B[32m商品B    \u001B[0m │        \u001B[1;36m200\u001B[0m │\n",
       "│ \u001B[32m商品E    \u001B[0m │        \u001B[1;36m500\u001B[0m │\n",
       "│ \u001B[32m商品K    \u001B[0m │       \u001B[1;36m1100\u001B[0m │\n",
       "│ \u001B[32m商品R    \u001B[0m │       \u001B[1;36m1800\u001B[0m │\n",
       "│ \u001B[32m商品U    \u001B[0m │       \u001B[1;36m2100\u001B[0m │\n",
       "│ \u001B[32m商品V    \u001B[0m │       \u001B[1;36m2200\u001B[0m │\n",
       "│ \u001B[32m商品Y    \u001B[0m │       \u001B[1;36m2500\u001B[0m │\n",
       "│ \u001B[32m商品C    \u001B[0m │        \u001B[1;36m300\u001B[0m │\n",
       "│ \u001B[2m…\u001B[0m         │          \u001B[2m…\u001B[0m │\n",
       "└───────────┴────────────┘"
      ],
      "text/html": [
       "<pre style=\"white-space:pre;overflow-x:auto;line-height:normal;font-family:Menlo,'DejaVu Sans Mono',consolas,'Courier New',monospace\">┏━━━━━━━━━━━┳━━━━━━━━━━━━┓\n",
       "┃<span style=\"font-weight: bold\"> item_name </span>┃<span style=\"font-weight: bold\"> item_price </span>┃\n",
       "┡━━━━━━━━━━━╇━━━━━━━━━━━━┩\n",
       "│ <span style=\"color: #7f7f7f; text-decoration-color: #7f7f7f\">string</span>    │ <span style=\"color: #7f7f7f; text-decoration-color: #7f7f7f\">int64</span>      │\n",
       "├───────────┼────────────┤\n",
       "│ <span style=\"color: #008000; text-decoration-color: #008000\">商品P    </span> │       <span style=\"color: #008080; text-decoration-color: #008080; font-weight: bold\">1600</span> │\n",
       "│ <span style=\"color: #008000; text-decoration-color: #008000\">商品Q    </span> │       <span style=\"color: #008080; text-decoration-color: #008080; font-weight: bold\">1700</span> │\n",
       "│ <span style=\"color: #008000; text-decoration-color: #008000\">商品B    </span> │        <span style=\"color: #008080; text-decoration-color: #008080; font-weight: bold\">200</span> │\n",
       "│ <span style=\"color: #008000; text-decoration-color: #008000\">商品E    </span> │        <span style=\"color: #008080; text-decoration-color: #008080; font-weight: bold\">500</span> │\n",
       "│ <span style=\"color: #008000; text-decoration-color: #008000\">商品K    </span> │       <span style=\"color: #008080; text-decoration-color: #008080; font-weight: bold\">1100</span> │\n",
       "│ <span style=\"color: #008000; text-decoration-color: #008000\">商品R    </span> │       <span style=\"color: #008080; text-decoration-color: #008080; font-weight: bold\">1800</span> │\n",
       "│ <span style=\"color: #008000; text-decoration-color: #008000\">商品U    </span> │       <span style=\"color: #008080; text-decoration-color: #008080; font-weight: bold\">2100</span> │\n",
       "│ <span style=\"color: #008000; text-decoration-color: #008000\">商品V    </span> │       <span style=\"color: #008080; text-decoration-color: #008080; font-weight: bold\">2200</span> │\n",
       "│ <span style=\"color: #008000; text-decoration-color: #008000\">商品Y    </span> │       <span style=\"color: #008080; text-decoration-color: #008080; font-weight: bold\">2500</span> │\n",
       "│ <span style=\"color: #008000; text-decoration-color: #008000\">商品C    </span> │        <span style=\"color: #008080; text-decoration-color: #008080; font-weight: bold\">300</span> │\n",
       "│ <span style=\"color: #7f7f7f; text-decoration-color: #7f7f7f\">…</span>         │          <span style=\"color: #7f7f7f; text-decoration-color: #7f7f7f\">…</span> │\n",
       "└───────────┴────────────┘\n",
       "</pre>\n"
      ]
     },
     "execution_count": 55,
     "metadata": {},
     "output_type": "execute_result"
    }
   ],
   "execution_count": 55
  },
  {
   "metadata": {},
   "cell_type": "code",
   "outputs": [],
   "execution_count": null,
   "source": "sell_fix['item_price'].fillna(prices['item_name'])",
   "id": "dc06c005b66f7e11"
  }
 ],
 "metadata": {
  "kernelspec": {
   "display_name": "Python 3",
   "language": "python",
   "name": "python3"
  },
  "language_info": {
   "codemirror_mode": {
    "name": "ipython",
    "version": 2
   },
   "file_extension": ".py",
   "mimetype": "text/x-python",
   "name": "python",
   "nbconvert_exporter": "python",
   "pygments_lexer": "ipython2",
   "version": "2.7.6"
  }
 },
 "nbformat": 4,
 "nbformat_minor": 5
}
