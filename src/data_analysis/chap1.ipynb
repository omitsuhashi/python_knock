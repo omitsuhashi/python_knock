{
 "cells": [
  {
   "cell_type": "code",
   "id": "initial_id",
   "metadata": {
    "collapsed": true,
    "ExecuteTime": {
     "end_time": "2024-04-15T06:35:20.486927Z",
     "start_time": "2024-04-15T06:35:20.270726Z"
    }
   },
   "source": [
    "from pathlib import Path\n",
    "\n",
    "import ibis\n",
    "from ibis import selectors as s\n",
    "\n",
    "ibis.options.interactive = True\n",
    "\n",
    "data_path = Path.cwd().joinpath('data', 'chap1')"
   ],
   "outputs": [],
   "execution_count": 2
  },
  {
   "metadata": {
    "ExecuteTime": {
     "end_time": "2024-04-15T06:35:21.510117Z",
     "start_time": "2024-04-15T06:35:20.488117Z"
    }
   },
   "cell_type": "code",
   "source": [
    "customer_master = ibis.read_csv(data_path.joinpath('customer_master.csv'))\n",
    "customer_master.head(5)"
   ],
   "id": "d00645aa6ee8b894",
   "outputs": [
    {
     "data": {
      "text/plain": [
       "┏━━━━━━━━━━━━━┳━━━━━━━━━━━━━━━┳━━━━━━━━━━━━━━━━━━━━━┳━━━━━━━━━━━━━━━━━━━━┳━━━━━━━━━━━━━━━━━━━━━━━━━━━━━┳━━━━━━━━┳━━━━━━━┳━━━━━━━━━━━━┳━━━━━━━━┓\n",
       "┃\u001B[1m \u001B[0m\u001B[1mcustomer_id\u001B[0m\u001B[1m \u001B[0m┃\u001B[1m \u001B[0m\u001B[1mcustomer_name\u001B[0m\u001B[1m \u001B[0m┃\u001B[1m \u001B[0m\u001B[1mregistration_date\u001B[0m\u001B[1m  \u001B[0m\u001B[1m \u001B[0m┃\u001B[1m \u001B[0m\u001B[1mcustomer_name_kana\u001B[0m\u001B[1m \u001B[0m┃\u001B[1m \u001B[0m\u001B[1memail\u001B[0m\u001B[1m                      \u001B[0m\u001B[1m \u001B[0m┃\u001B[1m \u001B[0m\u001B[1mgender\u001B[0m\u001B[1m \u001B[0m┃\u001B[1m \u001B[0m\u001B[1mage\u001B[0m\u001B[1m  \u001B[0m\u001B[1m \u001B[0m┃\u001B[1m \u001B[0m\u001B[1mbirth\u001B[0m\u001B[1m     \u001B[0m\u001B[1m \u001B[0m┃\u001B[1m \u001B[0m\u001B[1mpref\u001B[0m\u001B[1m  \u001B[0m\u001B[1m \u001B[0m┃\n",
       "┡━━━━━━━━━━━━━╇━━━━━━━━━━━━━━━╇━━━━━━━━━━━━━━━━━━━━━╇━━━━━━━━━━━━━━━━━━━━╇━━━━━━━━━━━━━━━━━━━━━━━━━━━━━╇━━━━━━━━╇━━━━━━━╇━━━━━━━━━━━━╇━━━━━━━━┩\n",
       "│ \u001B[2mstring\u001B[0m      │ \u001B[2mstring\u001B[0m        │ \u001B[2mtimestamp\u001B[0m           │ \u001B[2mstring\u001B[0m             │ \u001B[2mstring\u001B[0m                      │ \u001B[2mstring\u001B[0m │ \u001B[2mint64\u001B[0m │ \u001B[2mdate\u001B[0m       │ \u001B[2mstring\u001B[0m │\n",
       "├─────────────┼───────────────┼─────────────────────┼────────────────────┼─────────────────────────────┼────────┼───────┼────────────┼────────┤\n",
       "│ \u001B[32mIK152942   \u001B[0m │ \u001B[32m平田 裕次郎  \u001B[0m │ \u001B[35m2019-01-01 00:25:33\u001B[0m │ \u001B[32mひらた ゆうじろう \u001B[0m │ \u001B[32mhirata_yuujirou@example.com\u001B[0m │ \u001B[32mM     \u001B[0m │    \u001B[1;36m29\u001B[0m │ \u001B[35m1990-06-10\u001B[0m │ \u001B[32m石川県\u001B[0m │\n",
       "│ \u001B[32mTS808488   \u001B[0m │ \u001B[32m田村 詩織    \u001B[0m │ \u001B[35m2019-01-01 01:13:45\u001B[0m │ \u001B[32mたむら しおり     \u001B[0m │ \u001B[32mtamura_shiori@example.com  \u001B[0m │ \u001B[32mF     \u001B[0m │    \u001B[1;36m33\u001B[0m │ \u001B[35m1986-05-20\u001B[0m │ \u001B[32m東京都\u001B[0m │\n",
       "│ \u001B[32mAS834628   \u001B[0m │ \u001B[32m久野 由樹    \u001B[0m │ \u001B[35m2019-01-01 02:00:14\u001B[0m │ \u001B[32mひさの ゆき       \u001B[0m │ \u001B[32mhisano_yuki@example.com    \u001B[0m │ \u001B[32mF     \u001B[0m │    \u001B[1;36m63\u001B[0m │ \u001B[35m1956-01-02\u001B[0m │ \u001B[32m茨城県\u001B[0m │\n",
       "│ \u001B[32mAS345469   \u001B[0m │ \u001B[32m鶴岡 薫      \u001B[0m │ \u001B[35m2019-01-01 04:48:22\u001B[0m │ \u001B[32mつるおか かおる   \u001B[0m │ \u001B[32mtsuruoka_kaoru@example.com \u001B[0m │ \u001B[32mM     \u001B[0m │    \u001B[1;36m74\u001B[0m │ \u001B[35m1945-03-25\u001B[0m │ \u001B[32m東京都\u001B[0m │\n",
       "│ \u001B[32mGD892565   \u001B[0m │ \u001B[32m大内 高史    \u001B[0m │ \u001B[35m2019-01-01 04:54:51\u001B[0m │ \u001B[32mおおうち たかし   \u001B[0m │ \u001B[32moouchi_takashi@example.com \u001B[0m │ \u001B[32mM     \u001B[0m │    \u001B[1;36m54\u001B[0m │ \u001B[35m1965-08-05\u001B[0m │ \u001B[32m千葉県\u001B[0m │\n",
       "└─────────────┴───────────────┴─────────────────────┴────────────────────┴─────────────────────────────┴────────┴───────┴────────────┴────────┘"
      ],
      "text/html": [
       "<pre style=\"white-space:pre;overflow-x:auto;line-height:normal;font-family:Menlo,'DejaVu Sans Mono',consolas,'Courier New',monospace\">┏━━━━━━━━━━━━━┳━━━━━━━━━━━━━━━┳━━━━━━━━━━━━━━━━━━━━━┳━━━━━━━━━━━━━━━━━━━━┳━━━━━━━━━━━━━━━━━━━━━━━━━━━━━┳━━━━━━━━┳━━━━━━━┳━━━━━━━━━━━━┳━━━━━━━━┓\n",
       "┃<span style=\"font-weight: bold\"> customer_id </span>┃<span style=\"font-weight: bold\"> customer_name </span>┃<span style=\"font-weight: bold\"> registration_date   </span>┃<span style=\"font-weight: bold\"> customer_name_kana </span>┃<span style=\"font-weight: bold\"> email                       </span>┃<span style=\"font-weight: bold\"> gender </span>┃<span style=\"font-weight: bold\"> age   </span>┃<span style=\"font-weight: bold\"> birth      </span>┃<span style=\"font-weight: bold\"> pref   </span>┃\n",
       "┡━━━━━━━━━━━━━╇━━━━━━━━━━━━━━━╇━━━━━━━━━━━━━━━━━━━━━╇━━━━━━━━━━━━━━━━━━━━╇━━━━━━━━━━━━━━━━━━━━━━━━━━━━━╇━━━━━━━━╇━━━━━━━╇━━━━━━━━━━━━╇━━━━━━━━┩\n",
       "│ <span style=\"color: #7f7f7f; text-decoration-color: #7f7f7f\">string</span>      │ <span style=\"color: #7f7f7f; text-decoration-color: #7f7f7f\">string</span>        │ <span style=\"color: #7f7f7f; text-decoration-color: #7f7f7f\">timestamp</span>           │ <span style=\"color: #7f7f7f; text-decoration-color: #7f7f7f\">string</span>             │ <span style=\"color: #7f7f7f; text-decoration-color: #7f7f7f\">string</span>                      │ <span style=\"color: #7f7f7f; text-decoration-color: #7f7f7f\">string</span> │ <span style=\"color: #7f7f7f; text-decoration-color: #7f7f7f\">int64</span> │ <span style=\"color: #7f7f7f; text-decoration-color: #7f7f7f\">date</span>       │ <span style=\"color: #7f7f7f; text-decoration-color: #7f7f7f\">string</span> │\n",
       "├─────────────┼───────────────┼─────────────────────┼────────────────────┼─────────────────────────────┼────────┼───────┼────────────┼────────┤\n",
       "│ <span style=\"color: #008000; text-decoration-color: #008000\">IK152942   </span> │ <span style=\"color: #008000; text-decoration-color: #008000\">平田 裕次郎  </span> │ <span style=\"color: #800080; text-decoration-color: #800080\">2019-01-01 00:25:33</span> │ <span style=\"color: #008000; text-decoration-color: #008000\">ひらた ゆうじろう </span> │ <span style=\"color: #008000; text-decoration-color: #008000\">hirata_yuujirou@example.com</span> │ <span style=\"color: #008000; text-decoration-color: #008000\">M     </span> │    <span style=\"color: #008080; text-decoration-color: #008080; font-weight: bold\">29</span> │ <span style=\"color: #800080; text-decoration-color: #800080\">1990-06-10</span> │ <span style=\"color: #008000; text-decoration-color: #008000\">石川県</span> │\n",
       "│ <span style=\"color: #008000; text-decoration-color: #008000\">TS808488   </span> │ <span style=\"color: #008000; text-decoration-color: #008000\">田村 詩織    </span> │ <span style=\"color: #800080; text-decoration-color: #800080\">2019-01-01 01:13:45</span> │ <span style=\"color: #008000; text-decoration-color: #008000\">たむら しおり     </span> │ <span style=\"color: #008000; text-decoration-color: #008000\">tamura_shiori@example.com  </span> │ <span style=\"color: #008000; text-decoration-color: #008000\">F     </span> │    <span style=\"color: #008080; text-decoration-color: #008080; font-weight: bold\">33</span> │ <span style=\"color: #800080; text-decoration-color: #800080\">1986-05-20</span> │ <span style=\"color: #008000; text-decoration-color: #008000\">東京都</span> │\n",
       "│ <span style=\"color: #008000; text-decoration-color: #008000\">AS834628   </span> │ <span style=\"color: #008000; text-decoration-color: #008000\">久野 由樹    </span> │ <span style=\"color: #800080; text-decoration-color: #800080\">2019-01-01 02:00:14</span> │ <span style=\"color: #008000; text-decoration-color: #008000\">ひさの ゆき       </span> │ <span style=\"color: #008000; text-decoration-color: #008000\">hisano_yuki@example.com    </span> │ <span style=\"color: #008000; text-decoration-color: #008000\">F     </span> │    <span style=\"color: #008080; text-decoration-color: #008080; font-weight: bold\">63</span> │ <span style=\"color: #800080; text-decoration-color: #800080\">1956-01-02</span> │ <span style=\"color: #008000; text-decoration-color: #008000\">茨城県</span> │\n",
       "│ <span style=\"color: #008000; text-decoration-color: #008000\">AS345469   </span> │ <span style=\"color: #008000; text-decoration-color: #008000\">鶴岡 薫      </span> │ <span style=\"color: #800080; text-decoration-color: #800080\">2019-01-01 04:48:22</span> │ <span style=\"color: #008000; text-decoration-color: #008000\">つるおか かおる   </span> │ <span style=\"color: #008000; text-decoration-color: #008000\">tsuruoka_kaoru@example.com </span> │ <span style=\"color: #008000; text-decoration-color: #008000\">M     </span> │    <span style=\"color: #008080; text-decoration-color: #008080; font-weight: bold\">74</span> │ <span style=\"color: #800080; text-decoration-color: #800080\">1945-03-25</span> │ <span style=\"color: #008000; text-decoration-color: #008000\">東京都</span> │\n",
       "│ <span style=\"color: #008000; text-decoration-color: #008000\">GD892565   </span> │ <span style=\"color: #008000; text-decoration-color: #008000\">大内 高史    </span> │ <span style=\"color: #800080; text-decoration-color: #800080\">2019-01-01 04:54:51</span> │ <span style=\"color: #008000; text-decoration-color: #008000\">おおうち たかし   </span> │ <span style=\"color: #008000; text-decoration-color: #008000\">oouchi_takashi@example.com </span> │ <span style=\"color: #008000; text-decoration-color: #008000\">M     </span> │    <span style=\"color: #008080; text-decoration-color: #008080; font-weight: bold\">54</span> │ <span style=\"color: #800080; text-decoration-color: #800080\">1965-08-05</span> │ <span style=\"color: #008000; text-decoration-color: #008000\">千葉県</span> │\n",
       "└─────────────┴───────────────┴─────────────────────┴────────────────────┴─────────────────────────────┴────────┴───────┴────────────┴────────┘\n",
       "</pre>\n"
      ]
     },
     "execution_count": 3,
     "metadata": {},
     "output_type": "execute_result"
    }
   ],
   "execution_count": 3
  },
  {
   "metadata": {
    "ExecuteTime": {
     "end_time": "2024-04-15T06:35:21.535671Z",
     "start_time": "2024-04-15T06:35:21.511856Z"
    }
   },
   "cell_type": "code",
   "source": [
    "item_master = ibis.read_csv(data_path.joinpath('item_master.csv'))\n",
    "item_master.head(5)"
   ],
   "id": "41d4e16d12d4f201",
   "outputs": [
    {
     "data": {
      "text/plain": [
       "┏━━━━━━━━━┳━━━━━━━━━━━┳━━━━━━━━━━━━┓\n",
       "┃\u001B[1m \u001B[0m\u001B[1mitem_id\u001B[0m\u001B[1m \u001B[0m┃\u001B[1m \u001B[0m\u001B[1mitem_name\u001B[0m\u001B[1m \u001B[0m┃\u001B[1m \u001B[0m\u001B[1mitem_price\u001B[0m\u001B[1m \u001B[0m┃\n",
       "┡━━━━━━━━━╇━━━━━━━━━━━╇━━━━━━━━━━━━┩\n",
       "│ \u001B[2mstring\u001B[0m  │ \u001B[2mstring\u001B[0m    │ \u001B[2mint64\u001B[0m      │\n",
       "├─────────┼───────────┼────────────┤\n",
       "│ \u001B[32mS001   \u001B[0m │ \u001B[32mPC-A     \u001B[0m │      \u001B[1;36m50000\u001B[0m │\n",
       "│ \u001B[32mS002   \u001B[0m │ \u001B[32mPC-B     \u001B[0m │      \u001B[1;36m85000\u001B[0m │\n",
       "│ \u001B[32mS003   \u001B[0m │ \u001B[32mPC-C     \u001B[0m │     \u001B[1;36m120000\u001B[0m │\n",
       "│ \u001B[32mS004   \u001B[0m │ \u001B[32mPC-D     \u001B[0m │     \u001B[1;36m180000\u001B[0m │\n",
       "│ \u001B[32mS005   \u001B[0m │ \u001B[32mPC-E     \u001B[0m │     \u001B[1;36m210000\u001B[0m │\n",
       "└─────────┴───────────┴────────────┘"
      ],
      "text/html": [
       "<pre style=\"white-space:pre;overflow-x:auto;line-height:normal;font-family:Menlo,'DejaVu Sans Mono',consolas,'Courier New',monospace\">┏━━━━━━━━━┳━━━━━━━━━━━┳━━━━━━━━━━━━┓\n",
       "┃<span style=\"font-weight: bold\"> item_id </span>┃<span style=\"font-weight: bold\"> item_name </span>┃<span style=\"font-weight: bold\"> item_price </span>┃\n",
       "┡━━━━━━━━━╇━━━━━━━━━━━╇━━━━━━━━━━━━┩\n",
       "│ <span style=\"color: #7f7f7f; text-decoration-color: #7f7f7f\">string</span>  │ <span style=\"color: #7f7f7f; text-decoration-color: #7f7f7f\">string</span>    │ <span style=\"color: #7f7f7f; text-decoration-color: #7f7f7f\">int64</span>      │\n",
       "├─────────┼───────────┼────────────┤\n",
       "│ <span style=\"color: #008000; text-decoration-color: #008000\">S001   </span> │ <span style=\"color: #008000; text-decoration-color: #008000\">PC-A     </span> │      <span style=\"color: #008080; text-decoration-color: #008080; font-weight: bold\">50000</span> │\n",
       "│ <span style=\"color: #008000; text-decoration-color: #008000\">S002   </span> │ <span style=\"color: #008000; text-decoration-color: #008000\">PC-B     </span> │      <span style=\"color: #008080; text-decoration-color: #008080; font-weight: bold\">85000</span> │\n",
       "│ <span style=\"color: #008000; text-decoration-color: #008000\">S003   </span> │ <span style=\"color: #008000; text-decoration-color: #008000\">PC-C     </span> │     <span style=\"color: #008080; text-decoration-color: #008080; font-weight: bold\">120000</span> │\n",
       "│ <span style=\"color: #008000; text-decoration-color: #008000\">S004   </span> │ <span style=\"color: #008000; text-decoration-color: #008000\">PC-D     </span> │     <span style=\"color: #008080; text-decoration-color: #008080; font-weight: bold\">180000</span> │\n",
       "│ <span style=\"color: #008000; text-decoration-color: #008000\">S005   </span> │ <span style=\"color: #008000; text-decoration-color: #008000\">PC-E     </span> │     <span style=\"color: #008080; text-decoration-color: #008080; font-weight: bold\">210000</span> │\n",
       "└─────────┴───────────┴────────────┘\n",
       "</pre>\n"
      ]
     },
     "execution_count": 4,
     "metadata": {},
     "output_type": "execute_result"
    }
   ],
   "execution_count": 4
  },
  {
   "metadata": {
    "ExecuteTime": {
     "end_time": "2024-04-15T06:35:21.649849Z",
     "start_time": "2024-04-15T06:35:21.538502Z"
    }
   },
   "cell_type": "code",
   "source": [
    "transaction = ibis.read_csv(data_path.joinpath('transaction_1.csv'))\n",
    "transaction.head(5)"
   ],
   "id": "b476200dc8484719",
   "outputs": [
    {
     "data": {
      "text/plain": [
       "┏━━━━━━━━━━━━━━━━┳━━━━━━━━┳━━━━━━━━━━━━━━━━━━━━━┳━━━━━━━━━━━━━┓\n",
       "┃\u001B[1m \u001B[0m\u001B[1mtransaction_id\u001B[0m\u001B[1m \u001B[0m┃\u001B[1m \u001B[0m\u001B[1mprice\u001B[0m\u001B[1m \u001B[0m\u001B[1m \u001B[0m┃\u001B[1m \u001B[0m\u001B[1mpayment_date\u001B[0m\u001B[1m       \u001B[0m\u001B[1m \u001B[0m┃\u001B[1m \u001B[0m\u001B[1mcustomer_id\u001B[0m\u001B[1m \u001B[0m┃\n",
       "┡━━━━━━━━━━━━━━━━╇━━━━━━━━╇━━━━━━━━━━━━━━━━━━━━━╇━━━━━━━━━━━━━┩\n",
       "│ \u001B[2mstring\u001B[0m         │ \u001B[2mint64\u001B[0m  │ \u001B[2mtimestamp\u001B[0m           │ \u001B[2mstring\u001B[0m      │\n",
       "├────────────────┼────────┼─────────────────────┼─────────────┤\n",
       "│ \u001B[32mT0000000113   \u001B[0m │ \u001B[1;36m210000\u001B[0m │ \u001B[35m2019-02-01 01:36:57\u001B[0m │ \u001B[32mPL563502   \u001B[0m │\n",
       "│ \u001B[32mT0000000114   \u001B[0m │  \u001B[1;36m50000\u001B[0m │ \u001B[35m2019-02-01 01:37:23\u001B[0m │ \u001B[32mHD678019   \u001B[0m │\n",
       "│ \u001B[32mT0000000115   \u001B[0m │ \u001B[1;36m120000\u001B[0m │ \u001B[35m2019-02-01 02:34:19\u001B[0m │ \u001B[32mHD298120   \u001B[0m │\n",
       "│ \u001B[32mT0000000116   \u001B[0m │ \u001B[1;36m210000\u001B[0m │ \u001B[35m2019-02-01 02:47:23\u001B[0m │ \u001B[32mIK452215   \u001B[0m │\n",
       "│ \u001B[32mT0000000117   \u001B[0m │ \u001B[1;36m170000\u001B[0m │ \u001B[35m2019-02-01 04:33:46\u001B[0m │ \u001B[32mPL542865   \u001B[0m │\n",
       "└────────────────┴────────┴─────────────────────┴─────────────┘"
      ],
      "text/html": [
       "<pre style=\"white-space:pre;overflow-x:auto;line-height:normal;font-family:Menlo,'DejaVu Sans Mono',consolas,'Courier New',monospace\">┏━━━━━━━━━━━━━━━━┳━━━━━━━━┳━━━━━━━━━━━━━━━━━━━━━┳━━━━━━━━━━━━━┓\n",
       "┃<span style=\"font-weight: bold\"> transaction_id </span>┃<span style=\"font-weight: bold\"> price  </span>┃<span style=\"font-weight: bold\"> payment_date        </span>┃<span style=\"font-weight: bold\"> customer_id </span>┃\n",
       "┡━━━━━━━━━━━━━━━━╇━━━━━━━━╇━━━━━━━━━━━━━━━━━━━━━╇━━━━━━━━━━━━━┩\n",
       "│ <span style=\"color: #7f7f7f; text-decoration-color: #7f7f7f\">string</span>         │ <span style=\"color: #7f7f7f; text-decoration-color: #7f7f7f\">int64</span>  │ <span style=\"color: #7f7f7f; text-decoration-color: #7f7f7f\">timestamp</span>           │ <span style=\"color: #7f7f7f; text-decoration-color: #7f7f7f\">string</span>      │\n",
       "├────────────────┼────────┼─────────────────────┼─────────────┤\n",
       "│ <span style=\"color: #008000; text-decoration-color: #008000\">T0000000113   </span> │ <span style=\"color: #008080; text-decoration-color: #008080; font-weight: bold\">210000</span> │ <span style=\"color: #800080; text-decoration-color: #800080\">2019-02-01 01:36:57</span> │ <span style=\"color: #008000; text-decoration-color: #008000\">PL563502   </span> │\n",
       "│ <span style=\"color: #008000; text-decoration-color: #008000\">T0000000114   </span> │  <span style=\"color: #008080; text-decoration-color: #008080; font-weight: bold\">50000</span> │ <span style=\"color: #800080; text-decoration-color: #800080\">2019-02-01 01:37:23</span> │ <span style=\"color: #008000; text-decoration-color: #008000\">HD678019   </span> │\n",
       "│ <span style=\"color: #008000; text-decoration-color: #008000\">T0000000115   </span> │ <span style=\"color: #008080; text-decoration-color: #008080; font-weight: bold\">120000</span> │ <span style=\"color: #800080; text-decoration-color: #800080\">2019-02-01 02:34:19</span> │ <span style=\"color: #008000; text-decoration-color: #008000\">HD298120   </span> │\n",
       "│ <span style=\"color: #008000; text-decoration-color: #008000\">T0000000116   </span> │ <span style=\"color: #008080; text-decoration-color: #008080; font-weight: bold\">210000</span> │ <span style=\"color: #800080; text-decoration-color: #800080\">2019-02-01 02:47:23</span> │ <span style=\"color: #008000; text-decoration-color: #008000\">IK452215   </span> │\n",
       "│ <span style=\"color: #008000; text-decoration-color: #008000\">T0000000117   </span> │ <span style=\"color: #008080; text-decoration-color: #008080; font-weight: bold\">170000</span> │ <span style=\"color: #800080; text-decoration-color: #800080\">2019-02-01 04:33:46</span> │ <span style=\"color: #008000; text-decoration-color: #008000\">PL542865   </span> │\n",
       "└────────────────┴────────┴─────────────────────┴─────────────┘\n",
       "</pre>\n"
      ]
     },
     "execution_count": 5,
     "metadata": {},
     "output_type": "execute_result"
    }
   ],
   "execution_count": 5
  },
  {
   "metadata": {
    "ExecuteTime": {
     "end_time": "2024-04-15T06:35:21.691365Z",
     "start_time": "2024-04-15T06:35:21.651178Z"
    }
   },
   "cell_type": "code",
   "source": [
    "transaction_detail = ibis.read_csv(data_path.joinpath('transaction_detail_1.csv'))\n",
    "transaction_detail.head(5)"
   ],
   "id": "d92cace5c1c6f0b2",
   "outputs": [
    {
     "data": {
      "text/plain": [
       "┏━━━━━━━━━━━┳━━━━━━━━━━━━━━━━┳━━━━━━━━━┳━━━━━━━━━━┓\n",
       "┃\u001B[1m \u001B[0m\u001B[1mdetail_id\u001B[0m\u001B[1m \u001B[0m┃\u001B[1m \u001B[0m\u001B[1mtransaction_id\u001B[0m\u001B[1m \u001B[0m┃\u001B[1m \u001B[0m\u001B[1mitem_id\u001B[0m\u001B[1m \u001B[0m┃\u001B[1m \u001B[0m\u001B[1mquantity\u001B[0m\u001B[1m \u001B[0m┃\n",
       "┡━━━━━━━━━━━╇━━━━━━━━━━━━━━━━╇━━━━━━━━━╇━━━━━━━━━━┩\n",
       "│ \u001B[2mint64\u001B[0m     │ \u001B[2mstring\u001B[0m         │ \u001B[2mstring\u001B[0m  │ \u001B[2mint64\u001B[0m    │\n",
       "├───────────┼────────────────┼─────────┼──────────┤\n",
       "│         \u001B[1;36m0\u001B[0m │ \u001B[32mT0000000113   \u001B[0m │ \u001B[32mS005   \u001B[0m │        \u001B[1;36m1\u001B[0m │\n",
       "│         \u001B[1;36m1\u001B[0m │ \u001B[32mT0000000114   \u001B[0m │ \u001B[32mS001   \u001B[0m │        \u001B[1;36m1\u001B[0m │\n",
       "│         \u001B[1;36m2\u001B[0m │ \u001B[32mT0000000115   \u001B[0m │ \u001B[32mS003   \u001B[0m │        \u001B[1;36m1\u001B[0m │\n",
       "│         \u001B[1;36m3\u001B[0m │ \u001B[32mT0000000116   \u001B[0m │ \u001B[32mS005   \u001B[0m │        \u001B[1;36m1\u001B[0m │\n",
       "│         \u001B[1;36m4\u001B[0m │ \u001B[32mT0000000117   \u001B[0m │ \u001B[32mS002   \u001B[0m │        \u001B[1;36m2\u001B[0m │\n",
       "└───────────┴────────────────┴─────────┴──────────┘"
      ],
      "text/html": [
       "<pre style=\"white-space:pre;overflow-x:auto;line-height:normal;font-family:Menlo,'DejaVu Sans Mono',consolas,'Courier New',monospace\">┏━━━━━━━━━━━┳━━━━━━━━━━━━━━━━┳━━━━━━━━━┳━━━━━━━━━━┓\n",
       "┃<span style=\"font-weight: bold\"> detail_id </span>┃<span style=\"font-weight: bold\"> transaction_id </span>┃<span style=\"font-weight: bold\"> item_id </span>┃<span style=\"font-weight: bold\"> quantity </span>┃\n",
       "┡━━━━━━━━━━━╇━━━━━━━━━━━━━━━━╇━━━━━━━━━╇━━━━━━━━━━┩\n",
       "│ <span style=\"color: #7f7f7f; text-decoration-color: #7f7f7f\">int64</span>     │ <span style=\"color: #7f7f7f; text-decoration-color: #7f7f7f\">string</span>         │ <span style=\"color: #7f7f7f; text-decoration-color: #7f7f7f\">string</span>  │ <span style=\"color: #7f7f7f; text-decoration-color: #7f7f7f\">int64</span>    │\n",
       "├───────────┼────────────────┼─────────┼──────────┤\n",
       "│         <span style=\"color: #008080; text-decoration-color: #008080; font-weight: bold\">0</span> │ <span style=\"color: #008000; text-decoration-color: #008000\">T0000000113   </span> │ <span style=\"color: #008000; text-decoration-color: #008000\">S005   </span> │        <span style=\"color: #008080; text-decoration-color: #008080; font-weight: bold\">1</span> │\n",
       "│         <span style=\"color: #008080; text-decoration-color: #008080; font-weight: bold\">1</span> │ <span style=\"color: #008000; text-decoration-color: #008000\">T0000000114   </span> │ <span style=\"color: #008000; text-decoration-color: #008000\">S001   </span> │        <span style=\"color: #008080; text-decoration-color: #008080; font-weight: bold\">1</span> │\n",
       "│         <span style=\"color: #008080; text-decoration-color: #008080; font-weight: bold\">2</span> │ <span style=\"color: #008000; text-decoration-color: #008000\">T0000000115   </span> │ <span style=\"color: #008000; text-decoration-color: #008000\">S003   </span> │        <span style=\"color: #008080; text-decoration-color: #008080; font-weight: bold\">1</span> │\n",
       "│         <span style=\"color: #008080; text-decoration-color: #008080; font-weight: bold\">3</span> │ <span style=\"color: #008000; text-decoration-color: #008000\">T0000000116   </span> │ <span style=\"color: #008000; text-decoration-color: #008000\">S005   </span> │        <span style=\"color: #008080; text-decoration-color: #008080; font-weight: bold\">1</span> │\n",
       "│         <span style=\"color: #008080; text-decoration-color: #008080; font-weight: bold\">4</span> │ <span style=\"color: #008000; text-decoration-color: #008000\">T0000000117   </span> │ <span style=\"color: #008000; text-decoration-color: #008000\">S002   </span> │        <span style=\"color: #008080; text-decoration-color: #008080; font-weight: bold\">2</span> │\n",
       "└───────────┴────────────────┴─────────┴──────────┘\n",
       "</pre>\n"
      ]
     },
     "execution_count": 6,
     "metadata": {},
     "output_type": "execute_result"
    }
   ],
   "execution_count": 6
  },
  {
   "metadata": {
    "ExecuteTime": {
     "end_time": "2024-04-15T06:35:21.934334Z",
     "start_time": "2024-04-15T06:35:21.692524Z"
    }
   },
   "cell_type": "code",
   "source": [
    "# knock2\n",
    "transaction_2 = ibis.read_csv(data_path.joinpath('transaction_2.csv'))\n",
    "transaction = ibis.union(transaction, transaction_2)\n",
    "transaction.head(5)"
   ],
   "id": "ebdc7ae3042edd99",
   "outputs": [
    {
     "data": {
      "text/plain": [
       "┏━━━━━━━━━━━━━━━━┳━━━━━━━━┳━━━━━━━━━━━━━━━━━━━━━┳━━━━━━━━━━━━━┓\n",
       "┃\u001B[1m \u001B[0m\u001B[1mtransaction_id\u001B[0m\u001B[1m \u001B[0m┃\u001B[1m \u001B[0m\u001B[1mprice\u001B[0m\u001B[1m \u001B[0m\u001B[1m \u001B[0m┃\u001B[1m \u001B[0m\u001B[1mpayment_date\u001B[0m\u001B[1m       \u001B[0m\u001B[1m \u001B[0m┃\u001B[1m \u001B[0m\u001B[1mcustomer_id\u001B[0m\u001B[1m \u001B[0m┃\n",
       "┡━━━━━━━━━━━━━━━━╇━━━━━━━━╇━━━━━━━━━━━━━━━━━━━━━╇━━━━━━━━━━━━━┩\n",
       "│ \u001B[2mstring\u001B[0m         │ \u001B[2mint64\u001B[0m  │ \u001B[2mtimestamp\u001B[0m           │ \u001B[2mstring\u001B[0m      │\n",
       "├────────────────┼────────┼─────────────────────┼─────────────┤\n",
       "│ \u001B[32mT0000000113   \u001B[0m │ \u001B[1;36m210000\u001B[0m │ \u001B[35m2019-02-01 01:36:57\u001B[0m │ \u001B[32mPL563502   \u001B[0m │\n",
       "│ \u001B[32mT0000000114   \u001B[0m │  \u001B[1;36m50000\u001B[0m │ \u001B[35m2019-02-01 01:37:23\u001B[0m │ \u001B[32mHD678019   \u001B[0m │\n",
       "│ \u001B[32mT0000000115   \u001B[0m │ \u001B[1;36m120000\u001B[0m │ \u001B[35m2019-02-01 02:34:19\u001B[0m │ \u001B[32mHD298120   \u001B[0m │\n",
       "│ \u001B[32mT0000000116   \u001B[0m │ \u001B[1;36m210000\u001B[0m │ \u001B[35m2019-02-01 02:47:23\u001B[0m │ \u001B[32mIK452215   \u001B[0m │\n",
       "│ \u001B[32mT0000000117   \u001B[0m │ \u001B[1;36m170000\u001B[0m │ \u001B[35m2019-02-01 04:33:46\u001B[0m │ \u001B[32mPL542865   \u001B[0m │\n",
       "└────────────────┴────────┴─────────────────────┴─────────────┘"
      ],
      "text/html": [
       "<pre style=\"white-space:pre;overflow-x:auto;line-height:normal;font-family:Menlo,'DejaVu Sans Mono',consolas,'Courier New',monospace\">┏━━━━━━━━━━━━━━━━┳━━━━━━━━┳━━━━━━━━━━━━━━━━━━━━━┳━━━━━━━━━━━━━┓\n",
       "┃<span style=\"font-weight: bold\"> transaction_id </span>┃<span style=\"font-weight: bold\"> price  </span>┃<span style=\"font-weight: bold\"> payment_date        </span>┃<span style=\"font-weight: bold\"> customer_id </span>┃\n",
       "┡━━━━━━━━━━━━━━━━╇━━━━━━━━╇━━━━━━━━━━━━━━━━━━━━━╇━━━━━━━━━━━━━┩\n",
       "│ <span style=\"color: #7f7f7f; text-decoration-color: #7f7f7f\">string</span>         │ <span style=\"color: #7f7f7f; text-decoration-color: #7f7f7f\">int64</span>  │ <span style=\"color: #7f7f7f; text-decoration-color: #7f7f7f\">timestamp</span>           │ <span style=\"color: #7f7f7f; text-decoration-color: #7f7f7f\">string</span>      │\n",
       "├────────────────┼────────┼─────────────────────┼─────────────┤\n",
       "│ <span style=\"color: #008000; text-decoration-color: #008000\">T0000000113   </span> │ <span style=\"color: #008080; text-decoration-color: #008080; font-weight: bold\">210000</span> │ <span style=\"color: #800080; text-decoration-color: #800080\">2019-02-01 01:36:57</span> │ <span style=\"color: #008000; text-decoration-color: #008000\">PL563502   </span> │\n",
       "│ <span style=\"color: #008000; text-decoration-color: #008000\">T0000000114   </span> │  <span style=\"color: #008080; text-decoration-color: #008080; font-weight: bold\">50000</span> │ <span style=\"color: #800080; text-decoration-color: #800080\">2019-02-01 01:37:23</span> │ <span style=\"color: #008000; text-decoration-color: #008000\">HD678019   </span> │\n",
       "│ <span style=\"color: #008000; text-decoration-color: #008000\">T0000000115   </span> │ <span style=\"color: #008080; text-decoration-color: #008080; font-weight: bold\">120000</span> │ <span style=\"color: #800080; text-decoration-color: #800080\">2019-02-01 02:34:19</span> │ <span style=\"color: #008000; text-decoration-color: #008000\">HD298120   </span> │\n",
       "│ <span style=\"color: #008000; text-decoration-color: #008000\">T0000000116   </span> │ <span style=\"color: #008080; text-decoration-color: #008080; font-weight: bold\">210000</span> │ <span style=\"color: #800080; text-decoration-color: #800080\">2019-02-01 02:47:23</span> │ <span style=\"color: #008000; text-decoration-color: #008000\">IK452215   </span> │\n",
       "│ <span style=\"color: #008000; text-decoration-color: #008000\">T0000000117   </span> │ <span style=\"color: #008080; text-decoration-color: #008080; font-weight: bold\">170000</span> │ <span style=\"color: #800080; text-decoration-color: #800080\">2019-02-01 04:33:46</span> │ <span style=\"color: #008000; text-decoration-color: #008000\">PL542865   </span> │\n",
       "└────────────────┴────────┴─────────────────────┴─────────────┘\n",
       "</pre>\n"
      ]
     },
     "execution_count": 7,
     "metadata": {},
     "output_type": "execute_result"
    }
   ],
   "execution_count": 7
  },
  {
   "metadata": {
    "ExecuteTime": {
     "end_time": "2024-04-15T06:35:21.998385Z",
     "start_time": "2024-04-15T06:35:21.935268Z"
    }
   },
   "cell_type": "code",
   "source": [
    "transaction_detail_2 = ibis.read_csv(data_path.joinpath('transaction_detail_2.csv'))\n",
    "transaction_detail = ibis.union(transaction_detail, transaction_detail_2)\n",
    "transaction_detail.head(5)"
   ],
   "id": "315726a9d0b7925b",
   "outputs": [
    {
     "data": {
      "text/plain": [
       "┏━━━━━━━━━━━┳━━━━━━━━━━━━━━━━┳━━━━━━━━━┳━━━━━━━━━━┓\n",
       "┃\u001B[1m \u001B[0m\u001B[1mdetail_id\u001B[0m\u001B[1m \u001B[0m┃\u001B[1m \u001B[0m\u001B[1mtransaction_id\u001B[0m\u001B[1m \u001B[0m┃\u001B[1m \u001B[0m\u001B[1mitem_id\u001B[0m\u001B[1m \u001B[0m┃\u001B[1m \u001B[0m\u001B[1mquantity\u001B[0m\u001B[1m \u001B[0m┃\n",
       "┡━━━━━━━━━━━╇━━━━━━━━━━━━━━━━╇━━━━━━━━━╇━━━━━━━━━━┩\n",
       "│ \u001B[2mint64\u001B[0m     │ \u001B[2mstring\u001B[0m         │ \u001B[2mstring\u001B[0m  │ \u001B[2mint64\u001B[0m    │\n",
       "├───────────┼────────────────┼─────────┼──────────┤\n",
       "│         \u001B[1;36m0\u001B[0m │ \u001B[32mT0000000113   \u001B[0m │ \u001B[32mS005   \u001B[0m │        \u001B[1;36m1\u001B[0m │\n",
       "│         \u001B[1;36m1\u001B[0m │ \u001B[32mT0000000114   \u001B[0m │ \u001B[32mS001   \u001B[0m │        \u001B[1;36m1\u001B[0m │\n",
       "│         \u001B[1;36m2\u001B[0m │ \u001B[32mT0000000115   \u001B[0m │ \u001B[32mS003   \u001B[0m │        \u001B[1;36m1\u001B[0m │\n",
       "│         \u001B[1;36m3\u001B[0m │ \u001B[32mT0000000116   \u001B[0m │ \u001B[32mS005   \u001B[0m │        \u001B[1;36m1\u001B[0m │\n",
       "│         \u001B[1;36m4\u001B[0m │ \u001B[32mT0000000117   \u001B[0m │ \u001B[32mS002   \u001B[0m │        \u001B[1;36m2\u001B[0m │\n",
       "└───────────┴────────────────┴─────────┴──────────┘"
      ],
      "text/html": [
       "<pre style=\"white-space:pre;overflow-x:auto;line-height:normal;font-family:Menlo,'DejaVu Sans Mono',consolas,'Courier New',monospace\">┏━━━━━━━━━━━┳━━━━━━━━━━━━━━━━┳━━━━━━━━━┳━━━━━━━━━━┓\n",
       "┃<span style=\"font-weight: bold\"> detail_id </span>┃<span style=\"font-weight: bold\"> transaction_id </span>┃<span style=\"font-weight: bold\"> item_id </span>┃<span style=\"font-weight: bold\"> quantity </span>┃\n",
       "┡━━━━━━━━━━━╇━━━━━━━━━━━━━━━━╇━━━━━━━━━╇━━━━━━━━━━┩\n",
       "│ <span style=\"color: #7f7f7f; text-decoration-color: #7f7f7f\">int64</span>     │ <span style=\"color: #7f7f7f; text-decoration-color: #7f7f7f\">string</span>         │ <span style=\"color: #7f7f7f; text-decoration-color: #7f7f7f\">string</span>  │ <span style=\"color: #7f7f7f; text-decoration-color: #7f7f7f\">int64</span>    │\n",
       "├───────────┼────────────────┼─────────┼──────────┤\n",
       "│         <span style=\"color: #008080; text-decoration-color: #008080; font-weight: bold\">0</span> │ <span style=\"color: #008000; text-decoration-color: #008000\">T0000000113   </span> │ <span style=\"color: #008000; text-decoration-color: #008000\">S005   </span> │        <span style=\"color: #008080; text-decoration-color: #008080; font-weight: bold\">1</span> │\n",
       "│         <span style=\"color: #008080; text-decoration-color: #008080; font-weight: bold\">1</span> │ <span style=\"color: #008000; text-decoration-color: #008000\">T0000000114   </span> │ <span style=\"color: #008000; text-decoration-color: #008000\">S001   </span> │        <span style=\"color: #008080; text-decoration-color: #008080; font-weight: bold\">1</span> │\n",
       "│         <span style=\"color: #008080; text-decoration-color: #008080; font-weight: bold\">2</span> │ <span style=\"color: #008000; text-decoration-color: #008000\">T0000000115   </span> │ <span style=\"color: #008000; text-decoration-color: #008000\">S003   </span> │        <span style=\"color: #008080; text-decoration-color: #008080; font-weight: bold\">1</span> │\n",
       "│         <span style=\"color: #008080; text-decoration-color: #008080; font-weight: bold\">3</span> │ <span style=\"color: #008000; text-decoration-color: #008000\">T0000000116   </span> │ <span style=\"color: #008000; text-decoration-color: #008000\">S005   </span> │        <span style=\"color: #008080; text-decoration-color: #008080; font-weight: bold\">1</span> │\n",
       "│         <span style=\"color: #008080; text-decoration-color: #008080; font-weight: bold\">4</span> │ <span style=\"color: #008000; text-decoration-color: #008000\">T0000000117   </span> │ <span style=\"color: #008000; text-decoration-color: #008000\">S002   </span> │        <span style=\"color: #008080; text-decoration-color: #008080; font-weight: bold\">2</span> │\n",
       "└───────────┴────────────────┴─────────┴──────────┘\n",
       "</pre>\n"
      ]
     },
     "execution_count": 8,
     "metadata": {},
     "output_type": "execute_result"
    }
   ],
   "execution_count": 8
  },
  {
   "metadata": {
    "ExecuteTime": {
     "end_time": "2024-04-15T06:35:22.214486Z",
     "start_time": "2024-04-15T06:35:22.000023Z"
    }
   },
   "cell_type": "code",
   "source": [
    "# knock3\n",
    "join_data = transaction_detail.join(transaction, ibis._.transaction_id == transaction.transaction_id)\n",
    "join_data.head(5)"
   ],
   "id": "2fe9512cffb31a67",
   "outputs": [
    {
     "data": {
      "text/plain": [
       "┏━━━━━━━━━━━┳━━━━━━━━━━━━━━━━┳━━━━━━━━━┳━━━━━━━━━━┳━━━━━━━━┳━━━━━━━━━━━━━━━━━━━━━┳━━━━━━━━━━━━━┓\n",
       "┃\u001B[1m \u001B[0m\u001B[1mdetail_id\u001B[0m\u001B[1m \u001B[0m┃\u001B[1m \u001B[0m\u001B[1mtransaction_id\u001B[0m\u001B[1m \u001B[0m┃\u001B[1m \u001B[0m\u001B[1mitem_id\u001B[0m\u001B[1m \u001B[0m┃\u001B[1m \u001B[0m\u001B[1mquantity\u001B[0m\u001B[1m \u001B[0m┃\u001B[1m \u001B[0m\u001B[1mprice\u001B[0m\u001B[1m \u001B[0m\u001B[1m \u001B[0m┃\u001B[1m \u001B[0m\u001B[1mpayment_date\u001B[0m\u001B[1m       \u001B[0m\u001B[1m \u001B[0m┃\u001B[1m \u001B[0m\u001B[1mcustomer_id\u001B[0m\u001B[1m \u001B[0m┃\n",
       "┡━━━━━━━━━━━╇━━━━━━━━━━━━━━━━╇━━━━━━━━━╇━━━━━━━━━━╇━━━━━━━━╇━━━━━━━━━━━━━━━━━━━━━╇━━━━━━━━━━━━━┩\n",
       "│ \u001B[2mint64\u001B[0m     │ \u001B[2mstring\u001B[0m         │ \u001B[2mstring\u001B[0m  │ \u001B[2mint64\u001B[0m    │ \u001B[2mint64\u001B[0m  │ \u001B[2mtimestamp\u001B[0m           │ \u001B[2mstring\u001B[0m      │\n",
       "├───────────┼────────────────┼─────────┼──────────┼────────┼─────────────────────┼─────────────┤\n",
       "│         \u001B[1;36m0\u001B[0m │ \u001B[32mT0000000113   \u001B[0m │ \u001B[32mS005   \u001B[0m │        \u001B[1;36m1\u001B[0m │ \u001B[1;36m210000\u001B[0m │ \u001B[35m2019-02-01 01:36:57\u001B[0m │ \u001B[32mPL563502   \u001B[0m │\n",
       "│         \u001B[1;36m1\u001B[0m │ \u001B[32mT0000000114   \u001B[0m │ \u001B[32mS001   \u001B[0m │        \u001B[1;36m1\u001B[0m │  \u001B[1;36m50000\u001B[0m │ \u001B[35m2019-02-01 01:37:23\u001B[0m │ \u001B[32mHD678019   \u001B[0m │\n",
       "│         \u001B[1;36m2\u001B[0m │ \u001B[32mT0000000115   \u001B[0m │ \u001B[32mS003   \u001B[0m │        \u001B[1;36m1\u001B[0m │ \u001B[1;36m120000\u001B[0m │ \u001B[35m2019-02-01 02:34:19\u001B[0m │ \u001B[32mHD298120   \u001B[0m │\n",
       "│         \u001B[1;36m3\u001B[0m │ \u001B[32mT0000000116   \u001B[0m │ \u001B[32mS005   \u001B[0m │        \u001B[1;36m1\u001B[0m │ \u001B[1;36m210000\u001B[0m │ \u001B[35m2019-02-01 02:47:23\u001B[0m │ \u001B[32mIK452215   \u001B[0m │\n",
       "│         \u001B[1;36m4\u001B[0m │ \u001B[32mT0000000117   \u001B[0m │ \u001B[32mS002   \u001B[0m │        \u001B[1;36m2\u001B[0m │ \u001B[1;36m170000\u001B[0m │ \u001B[35m2019-02-01 04:33:46\u001B[0m │ \u001B[32mPL542865   \u001B[0m │\n",
       "└───────────┴────────────────┴─────────┴──────────┴────────┴─────────────────────┴─────────────┘"
      ],
      "text/html": [
       "<pre style=\"white-space:pre;overflow-x:auto;line-height:normal;font-family:Menlo,'DejaVu Sans Mono',consolas,'Courier New',monospace\">┏━━━━━━━━━━━┳━━━━━━━━━━━━━━━━┳━━━━━━━━━┳━━━━━━━━━━┳━━━━━━━━┳━━━━━━━━━━━━━━━━━━━━━┳━━━━━━━━━━━━━┓\n",
       "┃<span style=\"font-weight: bold\"> detail_id </span>┃<span style=\"font-weight: bold\"> transaction_id </span>┃<span style=\"font-weight: bold\"> item_id </span>┃<span style=\"font-weight: bold\"> quantity </span>┃<span style=\"font-weight: bold\"> price  </span>┃<span style=\"font-weight: bold\"> payment_date        </span>┃<span style=\"font-weight: bold\"> customer_id </span>┃\n",
       "┡━━━━━━━━━━━╇━━━━━━━━━━━━━━━━╇━━━━━━━━━╇━━━━━━━━━━╇━━━━━━━━╇━━━━━━━━━━━━━━━━━━━━━╇━━━━━━━━━━━━━┩\n",
       "│ <span style=\"color: #7f7f7f; text-decoration-color: #7f7f7f\">int64</span>     │ <span style=\"color: #7f7f7f; text-decoration-color: #7f7f7f\">string</span>         │ <span style=\"color: #7f7f7f; text-decoration-color: #7f7f7f\">string</span>  │ <span style=\"color: #7f7f7f; text-decoration-color: #7f7f7f\">int64</span>    │ <span style=\"color: #7f7f7f; text-decoration-color: #7f7f7f\">int64</span>  │ <span style=\"color: #7f7f7f; text-decoration-color: #7f7f7f\">timestamp</span>           │ <span style=\"color: #7f7f7f; text-decoration-color: #7f7f7f\">string</span>      │\n",
       "├───────────┼────────────────┼─────────┼──────────┼────────┼─────────────────────┼─────────────┤\n",
       "│         <span style=\"color: #008080; text-decoration-color: #008080; font-weight: bold\">0</span> │ <span style=\"color: #008000; text-decoration-color: #008000\">T0000000113   </span> │ <span style=\"color: #008000; text-decoration-color: #008000\">S005   </span> │        <span style=\"color: #008080; text-decoration-color: #008080; font-weight: bold\">1</span> │ <span style=\"color: #008080; text-decoration-color: #008080; font-weight: bold\">210000</span> │ <span style=\"color: #800080; text-decoration-color: #800080\">2019-02-01 01:36:57</span> │ <span style=\"color: #008000; text-decoration-color: #008000\">PL563502   </span> │\n",
       "│         <span style=\"color: #008080; text-decoration-color: #008080; font-weight: bold\">1</span> │ <span style=\"color: #008000; text-decoration-color: #008000\">T0000000114   </span> │ <span style=\"color: #008000; text-decoration-color: #008000\">S001   </span> │        <span style=\"color: #008080; text-decoration-color: #008080; font-weight: bold\">1</span> │  <span style=\"color: #008080; text-decoration-color: #008080; font-weight: bold\">50000</span> │ <span style=\"color: #800080; text-decoration-color: #800080\">2019-02-01 01:37:23</span> │ <span style=\"color: #008000; text-decoration-color: #008000\">HD678019   </span> │\n",
       "│         <span style=\"color: #008080; text-decoration-color: #008080; font-weight: bold\">2</span> │ <span style=\"color: #008000; text-decoration-color: #008000\">T0000000115   </span> │ <span style=\"color: #008000; text-decoration-color: #008000\">S003   </span> │        <span style=\"color: #008080; text-decoration-color: #008080; font-weight: bold\">1</span> │ <span style=\"color: #008080; text-decoration-color: #008080; font-weight: bold\">120000</span> │ <span style=\"color: #800080; text-decoration-color: #800080\">2019-02-01 02:34:19</span> │ <span style=\"color: #008000; text-decoration-color: #008000\">HD298120   </span> │\n",
       "│         <span style=\"color: #008080; text-decoration-color: #008080; font-weight: bold\">3</span> │ <span style=\"color: #008000; text-decoration-color: #008000\">T0000000116   </span> │ <span style=\"color: #008000; text-decoration-color: #008000\">S005   </span> │        <span style=\"color: #008080; text-decoration-color: #008080; font-weight: bold\">1</span> │ <span style=\"color: #008080; text-decoration-color: #008080; font-weight: bold\">210000</span> │ <span style=\"color: #800080; text-decoration-color: #800080\">2019-02-01 02:47:23</span> │ <span style=\"color: #008000; text-decoration-color: #008000\">IK452215   </span> │\n",
       "│         <span style=\"color: #008080; text-decoration-color: #008080; font-weight: bold\">4</span> │ <span style=\"color: #008000; text-decoration-color: #008000\">T0000000117   </span> │ <span style=\"color: #008000; text-decoration-color: #008000\">S002   </span> │        <span style=\"color: #008080; text-decoration-color: #008080; font-weight: bold\">2</span> │ <span style=\"color: #008080; text-decoration-color: #008080; font-weight: bold\">170000</span> │ <span style=\"color: #800080; text-decoration-color: #800080\">2019-02-01 04:33:46</span> │ <span style=\"color: #008000; text-decoration-color: #008000\">PL542865   </span> │\n",
       "└───────────┴────────────────┴─────────┴──────────┴────────┴─────────────────────┴─────────────┘\n",
       "</pre>\n"
      ]
     },
     "execution_count": 9,
     "metadata": {},
     "output_type": "execute_result"
    }
   ],
   "execution_count": 9
  },
  {
   "metadata": {
    "ExecuteTime": {
     "end_time": "2024-04-15T06:35:22.492151Z",
     "start_time": "2024-04-15T06:35:22.215639Z"
    }
   },
   "cell_type": "code",
   "source": [
    "join_data = join_data.join(customer_master, ibis._.customer_id == customer_master.customer_id)\n",
    "join_data.head()"
   ],
   "id": "7a8a8ac1c684c48d",
   "outputs": [
    {
     "data": {
      "text/plain": [
       "┏━━━━━━━━━━━┳━━━━━━━━━━━━━━━━┳━━━━━━━━━┳━━━━━━━━━━┳━━━━━━━━┳━━━━━━━━━━━━━━━━━━━━━┳━━━━━━━━━━━━━┳━━━━━━━━━━━━━━━┳━━━━━━━━━━━━━━━━━━━━━┳━━━━━━━━━━━━━━━━━━━━┳━━━━━━━━━━━━━━━━━━━━━━━━━━━━━━━━┳━━━━━━━━┳━━━━━━━┳━━━━━━━━━━━━┳━━━━━━━━┓\n",
       "┃\u001B[1m \u001B[0m\u001B[1mdetail_id\u001B[0m\u001B[1m \u001B[0m┃\u001B[1m \u001B[0m\u001B[1mtransaction_id\u001B[0m\u001B[1m \u001B[0m┃\u001B[1m \u001B[0m\u001B[1mitem_id\u001B[0m\u001B[1m \u001B[0m┃\u001B[1m \u001B[0m\u001B[1mquantity\u001B[0m\u001B[1m \u001B[0m┃\u001B[1m \u001B[0m\u001B[1mprice\u001B[0m\u001B[1m \u001B[0m\u001B[1m \u001B[0m┃\u001B[1m \u001B[0m\u001B[1mpayment_date\u001B[0m\u001B[1m       \u001B[0m\u001B[1m \u001B[0m┃\u001B[1m \u001B[0m\u001B[1mcustomer_id\u001B[0m\u001B[1m \u001B[0m┃\u001B[1m \u001B[0m\u001B[1mcustomer_name\u001B[0m\u001B[1m \u001B[0m┃\u001B[1m \u001B[0m\u001B[1mregistration_date\u001B[0m\u001B[1m  \u001B[0m\u001B[1m \u001B[0m┃\u001B[1m \u001B[0m\u001B[1mcustomer_name_kana\u001B[0m\u001B[1m \u001B[0m┃\u001B[1m \u001B[0m\u001B[1memail\u001B[0m\u001B[1m                         \u001B[0m\u001B[1m \u001B[0m┃\u001B[1m \u001B[0m\u001B[1mgender\u001B[0m\u001B[1m \u001B[0m┃\u001B[1m \u001B[0m\u001B[1mage\u001B[0m\u001B[1m  \u001B[0m\u001B[1m \u001B[0m┃\u001B[1m \u001B[0m\u001B[1mbirth\u001B[0m\u001B[1m     \u001B[0m\u001B[1m \u001B[0m┃\u001B[1m \u001B[0m\u001B[1mpref\u001B[0m\u001B[1m  \u001B[0m\u001B[1m \u001B[0m┃\n",
       "┡━━━━━━━━━━━╇━━━━━━━━━━━━━━━━╇━━━━━━━━━╇━━━━━━━━━━╇━━━━━━━━╇━━━━━━━━━━━━━━━━━━━━━╇━━━━━━━━━━━━━╇━━━━━━━━━━━━━━━╇━━━━━━━━━━━━━━━━━━━━━╇━━━━━━━━━━━━━━━━━━━━╇━━━━━━━━━━━━━━━━━━━━━━━━━━━━━━━━╇━━━━━━━━╇━━━━━━━╇━━━━━━━━━━━━╇━━━━━━━━┩\n",
       "│ \u001B[2mint64\u001B[0m     │ \u001B[2mstring\u001B[0m         │ \u001B[2mstring\u001B[0m  │ \u001B[2mint64\u001B[0m    │ \u001B[2mint64\u001B[0m  │ \u001B[2mtimestamp\u001B[0m           │ \u001B[2mstring\u001B[0m      │ \u001B[2mstring\u001B[0m        │ \u001B[2mtimestamp\u001B[0m           │ \u001B[2mstring\u001B[0m             │ \u001B[2mstring\u001B[0m                         │ \u001B[2mstring\u001B[0m │ \u001B[2mint64\u001B[0m │ \u001B[2mdate\u001B[0m       │ \u001B[2mstring\u001B[0m │\n",
       "├───────────┼────────────────┼─────────┼──────────┼────────┼─────────────────────┼─────────────┼───────────────┼─────────────────────┼────────────────────┼────────────────────────────────┼────────┼───────┼────────────┼────────┤\n",
       "│         \u001B[1;36m0\u001B[0m │ \u001B[32mT0000000113   \u001B[0m │ \u001B[32mS005   \u001B[0m │        \u001B[1;36m1\u001B[0m │ \u001B[1;36m210000\u001B[0m │ \u001B[35m2019-02-01 01:36:57\u001B[0m │ \u001B[32mPL563502   \u001B[0m │ \u001B[32m井本 芳正    \u001B[0m │ \u001B[35m2019-01-07 14:34:35\u001B[0m │ \u001B[32mいもと よしまさ   \u001B[0m │ \u001B[32mimoto_yoshimasa@example.com   \u001B[0m │ \u001B[32mM     \u001B[0m │    \u001B[1;36m30\u001B[0m │ \u001B[35m1989-07-15\u001B[0m │ \u001B[32m熊本県\u001B[0m │\n",
       "│         \u001B[1;36m1\u001B[0m │ \u001B[32mT0000000114   \u001B[0m │ \u001B[32mS001   \u001B[0m │        \u001B[1;36m1\u001B[0m │  \u001B[1;36m50000\u001B[0m │ \u001B[35m2019-02-01 01:37:23\u001B[0m │ \u001B[32mHD678019   \u001B[0m │ \u001B[32m三船 六郎    \u001B[0m │ \u001B[35m2019-01-27 18:00:11\u001B[0m │ \u001B[32mみふね ろくろう   \u001B[0m │ \u001B[32mmifune_rokurou@example.com    \u001B[0m │ \u001B[32mM     \u001B[0m │    \u001B[1;36m73\u001B[0m │ \u001B[35m1945-11-29\u001B[0m │ \u001B[32m京都府\u001B[0m │\n",
       "│         \u001B[1;36m3\u001B[0m │ \u001B[32mT0000000116   \u001B[0m │ \u001B[32mS005   \u001B[0m │        \u001B[1;36m1\u001B[0m │ \u001B[1;36m210000\u001B[0m │ \u001B[35m2019-02-01 02:47:23\u001B[0m │ \u001B[32mIK452215   \u001B[0m │ \u001B[32m池田 菜摘    \u001B[0m │ \u001B[35m2019-01-10 05:07:38\u001B[0m │ \u001B[32mいけだ なつみ     \u001B[0m │ \u001B[32mikeda_natsumi@example.com     \u001B[0m │ \u001B[32mF     \u001B[0m │    \u001B[1;36m47\u001B[0m │ \u001B[35m1972-03-17\u001B[0m │ \u001B[32m兵庫県\u001B[0m │\n",
       "│         \u001B[1;36m4\u001B[0m │ \u001B[32mT0000000117   \u001B[0m │ \u001B[32mS002   \u001B[0m │        \u001B[1;36m2\u001B[0m │ \u001B[1;36m170000\u001B[0m │ \u001B[35m2019-02-01 04:33:46\u001B[0m │ \u001B[32mPL542865   \u001B[0m │ \u001B[32m栗田 憲一    \u001B[0m │ \u001B[35m2019-01-25 06:46:05\u001B[0m │ \u001B[32mくりた けんいち   \u001B[0m │ \u001B[32mkurita_kenichi@example.com    \u001B[0m │ \u001B[32mM     \u001B[0m │    \u001B[1;36m74\u001B[0m │ \u001B[35m1944-12-17\u001B[0m │ \u001B[32m長崎県\u001B[0m │\n",
       "│         \u001B[1;36m5\u001B[0m │ \u001B[32mT0000000118   \u001B[0m │ \u001B[32mS003   \u001B[0m │        \u001B[1;36m1\u001B[0m │ \u001B[1;36m120000\u001B[0m │ \u001B[35m2019-02-01 04:36:50\u001B[0m │ \u001B[32mGD372798   \u001B[0m │ \u001B[32m藤村 充則    \u001B[0m │ \u001B[35m2019-01-24 07:40:30\u001B[0m │ \u001B[32mふじむら みつのり \u001B[0m │ \u001B[32mfujimura_mitsunori@example.com\u001B[0m │ \u001B[32mM     \u001B[0m │    \u001B[1;36m36\u001B[0m │ \u001B[35m1983-07-18\u001B[0m │ \u001B[32m福島県\u001B[0m │\n",
       "└───────────┴────────────────┴─────────┴──────────┴────────┴─────────────────────┴─────────────┴───────────────┴─────────────────────┴────────────────────┴────────────────────────────────┴────────┴───────┴────────────┴────────┘"
      ],
      "text/html": [
       "<pre style=\"white-space:pre;overflow-x:auto;line-height:normal;font-family:Menlo,'DejaVu Sans Mono',consolas,'Courier New',monospace\">┏━━━━━━━━━━━┳━━━━━━━━━━━━━━━━┳━━━━━━━━━┳━━━━━━━━━━┳━━━━━━━━┳━━━━━━━━━━━━━━━━━━━━━┳━━━━━━━━━━━━━┳━━━━━━━━━━━━━━━┳━━━━━━━━━━━━━━━━━━━━━┳━━━━━━━━━━━━━━━━━━━━┳━━━━━━━━━━━━━━━━━━━━━━━━━━━━━━━━┳━━━━━━━━┳━━━━━━━┳━━━━━━━━━━━━┳━━━━━━━━┓\n",
       "┃<span style=\"font-weight: bold\"> detail_id </span>┃<span style=\"font-weight: bold\"> transaction_id </span>┃<span style=\"font-weight: bold\"> item_id </span>┃<span style=\"font-weight: bold\"> quantity </span>┃<span style=\"font-weight: bold\"> price  </span>┃<span style=\"font-weight: bold\"> payment_date        </span>┃<span style=\"font-weight: bold\"> customer_id </span>┃<span style=\"font-weight: bold\"> customer_name </span>┃<span style=\"font-weight: bold\"> registration_date   </span>┃<span style=\"font-weight: bold\"> customer_name_kana </span>┃<span style=\"font-weight: bold\"> email                          </span>┃<span style=\"font-weight: bold\"> gender </span>┃<span style=\"font-weight: bold\"> age   </span>┃<span style=\"font-weight: bold\"> birth      </span>┃<span style=\"font-weight: bold\"> pref   </span>┃\n",
       "┡━━━━━━━━━━━╇━━━━━━━━━━━━━━━━╇━━━━━━━━━╇━━━━━━━━━━╇━━━━━━━━╇━━━━━━━━━━━━━━━━━━━━━╇━━━━━━━━━━━━━╇━━━━━━━━━━━━━━━╇━━━━━━━━━━━━━━━━━━━━━╇━━━━━━━━━━━━━━━━━━━━╇━━━━━━━━━━━━━━━━━━━━━━━━━━━━━━━━╇━━━━━━━━╇━━━━━━━╇━━━━━━━━━━━━╇━━━━━━━━┩\n",
       "│ <span style=\"color: #7f7f7f; text-decoration-color: #7f7f7f\">int64</span>     │ <span style=\"color: #7f7f7f; text-decoration-color: #7f7f7f\">string</span>         │ <span style=\"color: #7f7f7f; text-decoration-color: #7f7f7f\">string</span>  │ <span style=\"color: #7f7f7f; text-decoration-color: #7f7f7f\">int64</span>    │ <span style=\"color: #7f7f7f; text-decoration-color: #7f7f7f\">int64</span>  │ <span style=\"color: #7f7f7f; text-decoration-color: #7f7f7f\">timestamp</span>           │ <span style=\"color: #7f7f7f; text-decoration-color: #7f7f7f\">string</span>      │ <span style=\"color: #7f7f7f; text-decoration-color: #7f7f7f\">string</span>        │ <span style=\"color: #7f7f7f; text-decoration-color: #7f7f7f\">timestamp</span>           │ <span style=\"color: #7f7f7f; text-decoration-color: #7f7f7f\">string</span>             │ <span style=\"color: #7f7f7f; text-decoration-color: #7f7f7f\">string</span>                         │ <span style=\"color: #7f7f7f; text-decoration-color: #7f7f7f\">string</span> │ <span style=\"color: #7f7f7f; text-decoration-color: #7f7f7f\">int64</span> │ <span style=\"color: #7f7f7f; text-decoration-color: #7f7f7f\">date</span>       │ <span style=\"color: #7f7f7f; text-decoration-color: #7f7f7f\">string</span> │\n",
       "├───────────┼────────────────┼─────────┼──────────┼────────┼─────────────────────┼─────────────┼───────────────┼─────────────────────┼────────────────────┼────────────────────────────────┼────────┼───────┼────────────┼────────┤\n",
       "│         <span style=\"color: #008080; text-decoration-color: #008080; font-weight: bold\">0</span> │ <span style=\"color: #008000; text-decoration-color: #008000\">T0000000113   </span> │ <span style=\"color: #008000; text-decoration-color: #008000\">S005   </span> │        <span style=\"color: #008080; text-decoration-color: #008080; font-weight: bold\">1</span> │ <span style=\"color: #008080; text-decoration-color: #008080; font-weight: bold\">210000</span> │ <span style=\"color: #800080; text-decoration-color: #800080\">2019-02-01 01:36:57</span> │ <span style=\"color: #008000; text-decoration-color: #008000\">PL563502   </span> │ <span style=\"color: #008000; text-decoration-color: #008000\">井本 芳正    </span> │ <span style=\"color: #800080; text-decoration-color: #800080\">2019-01-07 14:34:35</span> │ <span style=\"color: #008000; text-decoration-color: #008000\">いもと よしまさ   </span> │ <span style=\"color: #008000; text-decoration-color: #008000\">imoto_yoshimasa@example.com   </span> │ <span style=\"color: #008000; text-decoration-color: #008000\">M     </span> │    <span style=\"color: #008080; text-decoration-color: #008080; font-weight: bold\">30</span> │ <span style=\"color: #800080; text-decoration-color: #800080\">1989-07-15</span> │ <span style=\"color: #008000; text-decoration-color: #008000\">熊本県</span> │\n",
       "│         <span style=\"color: #008080; text-decoration-color: #008080; font-weight: bold\">1</span> │ <span style=\"color: #008000; text-decoration-color: #008000\">T0000000114   </span> │ <span style=\"color: #008000; text-decoration-color: #008000\">S001   </span> │        <span style=\"color: #008080; text-decoration-color: #008080; font-weight: bold\">1</span> │  <span style=\"color: #008080; text-decoration-color: #008080; font-weight: bold\">50000</span> │ <span style=\"color: #800080; text-decoration-color: #800080\">2019-02-01 01:37:23</span> │ <span style=\"color: #008000; text-decoration-color: #008000\">HD678019   </span> │ <span style=\"color: #008000; text-decoration-color: #008000\">三船 六郎    </span> │ <span style=\"color: #800080; text-decoration-color: #800080\">2019-01-27 18:00:11</span> │ <span style=\"color: #008000; text-decoration-color: #008000\">みふね ろくろう   </span> │ <span style=\"color: #008000; text-decoration-color: #008000\">mifune_rokurou@example.com    </span> │ <span style=\"color: #008000; text-decoration-color: #008000\">M     </span> │    <span style=\"color: #008080; text-decoration-color: #008080; font-weight: bold\">73</span> │ <span style=\"color: #800080; text-decoration-color: #800080\">1945-11-29</span> │ <span style=\"color: #008000; text-decoration-color: #008000\">京都府</span> │\n",
       "│         <span style=\"color: #008080; text-decoration-color: #008080; font-weight: bold\">3</span> │ <span style=\"color: #008000; text-decoration-color: #008000\">T0000000116   </span> │ <span style=\"color: #008000; text-decoration-color: #008000\">S005   </span> │        <span style=\"color: #008080; text-decoration-color: #008080; font-weight: bold\">1</span> │ <span style=\"color: #008080; text-decoration-color: #008080; font-weight: bold\">210000</span> │ <span style=\"color: #800080; text-decoration-color: #800080\">2019-02-01 02:47:23</span> │ <span style=\"color: #008000; text-decoration-color: #008000\">IK452215   </span> │ <span style=\"color: #008000; text-decoration-color: #008000\">池田 菜摘    </span> │ <span style=\"color: #800080; text-decoration-color: #800080\">2019-01-10 05:07:38</span> │ <span style=\"color: #008000; text-decoration-color: #008000\">いけだ なつみ     </span> │ <span style=\"color: #008000; text-decoration-color: #008000\">ikeda_natsumi@example.com     </span> │ <span style=\"color: #008000; text-decoration-color: #008000\">F     </span> │    <span style=\"color: #008080; text-decoration-color: #008080; font-weight: bold\">47</span> │ <span style=\"color: #800080; text-decoration-color: #800080\">1972-03-17</span> │ <span style=\"color: #008000; text-decoration-color: #008000\">兵庫県</span> │\n",
       "│         <span style=\"color: #008080; text-decoration-color: #008080; font-weight: bold\">4</span> │ <span style=\"color: #008000; text-decoration-color: #008000\">T0000000117   </span> │ <span style=\"color: #008000; text-decoration-color: #008000\">S002   </span> │        <span style=\"color: #008080; text-decoration-color: #008080; font-weight: bold\">2</span> │ <span style=\"color: #008080; text-decoration-color: #008080; font-weight: bold\">170000</span> │ <span style=\"color: #800080; text-decoration-color: #800080\">2019-02-01 04:33:46</span> │ <span style=\"color: #008000; text-decoration-color: #008000\">PL542865   </span> │ <span style=\"color: #008000; text-decoration-color: #008000\">栗田 憲一    </span> │ <span style=\"color: #800080; text-decoration-color: #800080\">2019-01-25 06:46:05</span> │ <span style=\"color: #008000; text-decoration-color: #008000\">くりた けんいち   </span> │ <span style=\"color: #008000; text-decoration-color: #008000\">kurita_kenichi@example.com    </span> │ <span style=\"color: #008000; text-decoration-color: #008000\">M     </span> │    <span style=\"color: #008080; text-decoration-color: #008080; font-weight: bold\">74</span> │ <span style=\"color: #800080; text-decoration-color: #800080\">1944-12-17</span> │ <span style=\"color: #008000; text-decoration-color: #008000\">長崎県</span> │\n",
       "│         <span style=\"color: #008080; text-decoration-color: #008080; font-weight: bold\">5</span> │ <span style=\"color: #008000; text-decoration-color: #008000\">T0000000118   </span> │ <span style=\"color: #008000; text-decoration-color: #008000\">S003   </span> │        <span style=\"color: #008080; text-decoration-color: #008080; font-weight: bold\">1</span> │ <span style=\"color: #008080; text-decoration-color: #008080; font-weight: bold\">120000</span> │ <span style=\"color: #800080; text-decoration-color: #800080\">2019-02-01 04:36:50</span> │ <span style=\"color: #008000; text-decoration-color: #008000\">GD372798   </span> │ <span style=\"color: #008000; text-decoration-color: #008000\">藤村 充則    </span> │ <span style=\"color: #800080; text-decoration-color: #800080\">2019-01-24 07:40:30</span> │ <span style=\"color: #008000; text-decoration-color: #008000\">ふじむら みつのり </span> │ <span style=\"color: #008000; text-decoration-color: #008000\">fujimura_mitsunori@example.com</span> │ <span style=\"color: #008000; text-decoration-color: #008000\">M     </span> │    <span style=\"color: #008080; text-decoration-color: #008080; font-weight: bold\">36</span> │ <span style=\"color: #800080; text-decoration-color: #800080\">1983-07-18</span> │ <span style=\"color: #008000; text-decoration-color: #008000\">福島県</span> │\n",
       "└───────────┴────────────────┴─────────┴──────────┴────────┴─────────────────────┴─────────────┴───────────────┴─────────────────────┴────────────────────┴────────────────────────────────┴────────┴───────┴────────────┴────────┘\n",
       "</pre>\n"
      ]
     },
     "execution_count": 10,
     "metadata": {},
     "output_type": "execute_result"
    }
   ],
   "execution_count": 10
  },
  {
   "metadata": {
    "ExecuteTime": {
     "end_time": "2024-04-15T06:35:22.796697Z",
     "start_time": "2024-04-15T06:35:22.495056Z"
    }
   },
   "cell_type": "code",
   "source": [
    "join_data = join_data.join(item_master, join_data.item_id == item_master.item_id)\n",
    "join_data.head()"
   ],
   "id": "d630ce2512b767bf",
   "outputs": [
    {
     "data": {
      "text/plain": [
       "┏━━━━━━━━━━━┳━━━━━━━━━━━━━━━━┳━━━━━━━━━┳━━━━━━━━━━┳━━━━━━━━┳━━━━━━━━━━━━━━━━━━━━━┳━━━━━━━━━━━━━┳━━━━━━━━━━━━━━━┳━━━━━━━━━━━━━━━━━━━━━┳━━━━━━━━━━━━━━━━━━━━┳━━━━━━━━━━━━━━━━━━━━━━━━━━━━━━━━┳━━━━━━━━┳━━━━━━━┳━━━━━━━━━━━━┳━━━━━━━━┳━━━━━━━━━━━┳━━━━━━━━━━━━┓\n",
       "┃\u001B[1m \u001B[0m\u001B[1mdetail_id\u001B[0m\u001B[1m \u001B[0m┃\u001B[1m \u001B[0m\u001B[1mtransaction_id\u001B[0m\u001B[1m \u001B[0m┃\u001B[1m \u001B[0m\u001B[1mitem_id\u001B[0m\u001B[1m \u001B[0m┃\u001B[1m \u001B[0m\u001B[1mquantity\u001B[0m\u001B[1m \u001B[0m┃\u001B[1m \u001B[0m\u001B[1mprice\u001B[0m\u001B[1m \u001B[0m\u001B[1m \u001B[0m┃\u001B[1m \u001B[0m\u001B[1mpayment_date\u001B[0m\u001B[1m       \u001B[0m\u001B[1m \u001B[0m┃\u001B[1m \u001B[0m\u001B[1mcustomer_id\u001B[0m\u001B[1m \u001B[0m┃\u001B[1m \u001B[0m\u001B[1mcustomer_name\u001B[0m\u001B[1m \u001B[0m┃\u001B[1m \u001B[0m\u001B[1mregistration_date\u001B[0m\u001B[1m  \u001B[0m\u001B[1m \u001B[0m┃\u001B[1m \u001B[0m\u001B[1mcustomer_name_kana\u001B[0m\u001B[1m \u001B[0m┃\u001B[1m \u001B[0m\u001B[1memail\u001B[0m\u001B[1m                         \u001B[0m\u001B[1m \u001B[0m┃\u001B[1m \u001B[0m\u001B[1mgender\u001B[0m\u001B[1m \u001B[0m┃\u001B[1m \u001B[0m\u001B[1mage\u001B[0m\u001B[1m  \u001B[0m\u001B[1m \u001B[0m┃\u001B[1m \u001B[0m\u001B[1mbirth\u001B[0m\u001B[1m     \u001B[0m\u001B[1m \u001B[0m┃\u001B[1m \u001B[0m\u001B[1mpref\u001B[0m\u001B[1m  \u001B[0m\u001B[1m \u001B[0m┃\u001B[1m \u001B[0m\u001B[1mitem_name\u001B[0m\u001B[1m \u001B[0m┃\u001B[1m \u001B[0m\u001B[1mitem_price\u001B[0m\u001B[1m \u001B[0m┃\n",
       "┡━━━━━━━━━━━╇━━━━━━━━━━━━━━━━╇━━━━━━━━━╇━━━━━━━━━━╇━━━━━━━━╇━━━━━━━━━━━━━━━━━━━━━╇━━━━━━━━━━━━━╇━━━━━━━━━━━━━━━╇━━━━━━━━━━━━━━━━━━━━━╇━━━━━━━━━━━━━━━━━━━━╇━━━━━━━━━━━━━━━━━━━━━━━━━━━━━━━━╇━━━━━━━━╇━━━━━━━╇━━━━━━━━━━━━╇━━━━━━━━╇━━━━━━━━━━━╇━━━━━━━━━━━━┩\n",
       "│ \u001B[2mint64\u001B[0m     │ \u001B[2mstring\u001B[0m         │ \u001B[2mstring\u001B[0m  │ \u001B[2mint64\u001B[0m    │ \u001B[2mint64\u001B[0m  │ \u001B[2mtimestamp\u001B[0m           │ \u001B[2mstring\u001B[0m      │ \u001B[2mstring\u001B[0m        │ \u001B[2mtimestamp\u001B[0m           │ \u001B[2mstring\u001B[0m             │ \u001B[2mstring\u001B[0m                         │ \u001B[2mstring\u001B[0m │ \u001B[2mint64\u001B[0m │ \u001B[2mdate\u001B[0m       │ \u001B[2mstring\u001B[0m │ \u001B[2mstring\u001B[0m    │ \u001B[2mint64\u001B[0m      │\n",
       "├───────────┼────────────────┼─────────┼──────────┼────────┼─────────────────────┼─────────────┼───────────────┼─────────────────────┼────────────────────┼────────────────────────────────┼────────┼───────┼────────────┼────────┼───────────┼────────────┤\n",
       "│         \u001B[1;36m0\u001B[0m │ \u001B[32mT0000000113   \u001B[0m │ \u001B[32mS005   \u001B[0m │        \u001B[1;36m1\u001B[0m │ \u001B[1;36m210000\u001B[0m │ \u001B[35m2019-02-01 01:36:57\u001B[0m │ \u001B[32mPL563502   \u001B[0m │ \u001B[32m井本 芳正    \u001B[0m │ \u001B[35m2019-01-07 14:34:35\u001B[0m │ \u001B[32mいもと よしまさ   \u001B[0m │ \u001B[32mimoto_yoshimasa@example.com   \u001B[0m │ \u001B[32mM     \u001B[0m │    \u001B[1;36m30\u001B[0m │ \u001B[35m1989-07-15\u001B[0m │ \u001B[32m熊本県\u001B[0m │ \u001B[32mPC-E     \u001B[0m │     \u001B[1;36m210000\u001B[0m │\n",
       "│         \u001B[1;36m1\u001B[0m │ \u001B[32mT0000000114   \u001B[0m │ \u001B[32mS001   \u001B[0m │        \u001B[1;36m1\u001B[0m │  \u001B[1;36m50000\u001B[0m │ \u001B[35m2019-02-01 01:37:23\u001B[0m │ \u001B[32mHD678019   \u001B[0m │ \u001B[32m三船 六郎    \u001B[0m │ \u001B[35m2019-01-27 18:00:11\u001B[0m │ \u001B[32mみふね ろくろう   \u001B[0m │ \u001B[32mmifune_rokurou@example.com    \u001B[0m │ \u001B[32mM     \u001B[0m │    \u001B[1;36m73\u001B[0m │ \u001B[35m1945-11-29\u001B[0m │ \u001B[32m京都府\u001B[0m │ \u001B[32mPC-A     \u001B[0m │      \u001B[1;36m50000\u001B[0m │\n",
       "│         \u001B[1;36m3\u001B[0m │ \u001B[32mT0000000116   \u001B[0m │ \u001B[32mS005   \u001B[0m │        \u001B[1;36m1\u001B[0m │ \u001B[1;36m210000\u001B[0m │ \u001B[35m2019-02-01 02:47:23\u001B[0m │ \u001B[32mIK452215   \u001B[0m │ \u001B[32m池田 菜摘    \u001B[0m │ \u001B[35m2019-01-10 05:07:38\u001B[0m │ \u001B[32mいけだ なつみ     \u001B[0m │ \u001B[32mikeda_natsumi@example.com     \u001B[0m │ \u001B[32mF     \u001B[0m │    \u001B[1;36m47\u001B[0m │ \u001B[35m1972-03-17\u001B[0m │ \u001B[32m兵庫県\u001B[0m │ \u001B[32mPC-E     \u001B[0m │     \u001B[1;36m210000\u001B[0m │\n",
       "│         \u001B[1;36m4\u001B[0m │ \u001B[32mT0000000117   \u001B[0m │ \u001B[32mS002   \u001B[0m │        \u001B[1;36m2\u001B[0m │ \u001B[1;36m170000\u001B[0m │ \u001B[35m2019-02-01 04:33:46\u001B[0m │ \u001B[32mPL542865   \u001B[0m │ \u001B[32m栗田 憲一    \u001B[0m │ \u001B[35m2019-01-25 06:46:05\u001B[0m │ \u001B[32mくりた けんいち   \u001B[0m │ \u001B[32mkurita_kenichi@example.com    \u001B[0m │ \u001B[32mM     \u001B[0m │    \u001B[1;36m74\u001B[0m │ \u001B[35m1944-12-17\u001B[0m │ \u001B[32m長崎県\u001B[0m │ \u001B[32mPC-B     \u001B[0m │      \u001B[1;36m85000\u001B[0m │\n",
       "│         \u001B[1;36m5\u001B[0m │ \u001B[32mT0000000118   \u001B[0m │ \u001B[32mS003   \u001B[0m │        \u001B[1;36m1\u001B[0m │ \u001B[1;36m120000\u001B[0m │ \u001B[35m2019-02-01 04:36:50\u001B[0m │ \u001B[32mGD372798   \u001B[0m │ \u001B[32m藤村 充則    \u001B[0m │ \u001B[35m2019-01-24 07:40:30\u001B[0m │ \u001B[32mふじむら みつのり \u001B[0m │ \u001B[32mfujimura_mitsunori@example.com\u001B[0m │ \u001B[32mM     \u001B[0m │    \u001B[1;36m36\u001B[0m │ \u001B[35m1983-07-18\u001B[0m │ \u001B[32m福島県\u001B[0m │ \u001B[32mPC-C     \u001B[0m │     \u001B[1;36m120000\u001B[0m │\n",
       "└───────────┴────────────────┴─────────┴──────────┴────────┴─────────────────────┴─────────────┴───────────────┴─────────────────────┴────────────────────┴────────────────────────────────┴────────┴───────┴────────────┴────────┴───────────┴────────────┘"
      ],
      "text/html": [
       "<pre style=\"white-space:pre;overflow-x:auto;line-height:normal;font-family:Menlo,'DejaVu Sans Mono',consolas,'Courier New',monospace\">┏━━━━━━━━━━━┳━━━━━━━━━━━━━━━━┳━━━━━━━━━┳━━━━━━━━━━┳━━━━━━━━┳━━━━━━━━━━━━━━━━━━━━━┳━━━━━━━━━━━━━┳━━━━━━━━━━━━━━━┳━━━━━━━━━━━━━━━━━━━━━┳━━━━━━━━━━━━━━━━━━━━┳━━━━━━━━━━━━━━━━━━━━━━━━━━━━━━━━┳━━━━━━━━┳━━━━━━━┳━━━━━━━━━━━━┳━━━━━━━━┳━━━━━━━━━━━┳━━━━━━━━━━━━┓\n",
       "┃<span style=\"font-weight: bold\"> detail_id </span>┃<span style=\"font-weight: bold\"> transaction_id </span>┃<span style=\"font-weight: bold\"> item_id </span>┃<span style=\"font-weight: bold\"> quantity </span>┃<span style=\"font-weight: bold\"> price  </span>┃<span style=\"font-weight: bold\"> payment_date        </span>┃<span style=\"font-weight: bold\"> customer_id </span>┃<span style=\"font-weight: bold\"> customer_name </span>┃<span style=\"font-weight: bold\"> registration_date   </span>┃<span style=\"font-weight: bold\"> customer_name_kana </span>┃<span style=\"font-weight: bold\"> email                          </span>┃<span style=\"font-weight: bold\"> gender </span>┃<span style=\"font-weight: bold\"> age   </span>┃<span style=\"font-weight: bold\"> birth      </span>┃<span style=\"font-weight: bold\"> pref   </span>┃<span style=\"font-weight: bold\"> item_name </span>┃<span style=\"font-weight: bold\"> item_price </span>┃\n",
       "┡━━━━━━━━━━━╇━━━━━━━━━━━━━━━━╇━━━━━━━━━╇━━━━━━━━━━╇━━━━━━━━╇━━━━━━━━━━━━━━━━━━━━━╇━━━━━━━━━━━━━╇━━━━━━━━━━━━━━━╇━━━━━━━━━━━━━━━━━━━━━╇━━━━━━━━━━━━━━━━━━━━╇━━━━━━━━━━━━━━━━━━━━━━━━━━━━━━━━╇━━━━━━━━╇━━━━━━━╇━━━━━━━━━━━━╇━━━━━━━━╇━━━━━━━━━━━╇━━━━━━━━━━━━┩\n",
       "│ <span style=\"color: #7f7f7f; text-decoration-color: #7f7f7f\">int64</span>     │ <span style=\"color: #7f7f7f; text-decoration-color: #7f7f7f\">string</span>         │ <span style=\"color: #7f7f7f; text-decoration-color: #7f7f7f\">string</span>  │ <span style=\"color: #7f7f7f; text-decoration-color: #7f7f7f\">int64</span>    │ <span style=\"color: #7f7f7f; text-decoration-color: #7f7f7f\">int64</span>  │ <span style=\"color: #7f7f7f; text-decoration-color: #7f7f7f\">timestamp</span>           │ <span style=\"color: #7f7f7f; text-decoration-color: #7f7f7f\">string</span>      │ <span style=\"color: #7f7f7f; text-decoration-color: #7f7f7f\">string</span>        │ <span style=\"color: #7f7f7f; text-decoration-color: #7f7f7f\">timestamp</span>           │ <span style=\"color: #7f7f7f; text-decoration-color: #7f7f7f\">string</span>             │ <span style=\"color: #7f7f7f; text-decoration-color: #7f7f7f\">string</span>                         │ <span style=\"color: #7f7f7f; text-decoration-color: #7f7f7f\">string</span> │ <span style=\"color: #7f7f7f; text-decoration-color: #7f7f7f\">int64</span> │ <span style=\"color: #7f7f7f; text-decoration-color: #7f7f7f\">date</span>       │ <span style=\"color: #7f7f7f; text-decoration-color: #7f7f7f\">string</span> │ <span style=\"color: #7f7f7f; text-decoration-color: #7f7f7f\">string</span>    │ <span style=\"color: #7f7f7f; text-decoration-color: #7f7f7f\">int64</span>      │\n",
       "├───────────┼────────────────┼─────────┼──────────┼────────┼─────────────────────┼─────────────┼───────────────┼─────────────────────┼────────────────────┼────────────────────────────────┼────────┼───────┼────────────┼────────┼───────────┼────────────┤\n",
       "│         <span style=\"color: #008080; text-decoration-color: #008080; font-weight: bold\">0</span> │ <span style=\"color: #008000; text-decoration-color: #008000\">T0000000113   </span> │ <span style=\"color: #008000; text-decoration-color: #008000\">S005   </span> │        <span style=\"color: #008080; text-decoration-color: #008080; font-weight: bold\">1</span> │ <span style=\"color: #008080; text-decoration-color: #008080; font-weight: bold\">210000</span> │ <span style=\"color: #800080; text-decoration-color: #800080\">2019-02-01 01:36:57</span> │ <span style=\"color: #008000; text-decoration-color: #008000\">PL563502   </span> │ <span style=\"color: #008000; text-decoration-color: #008000\">井本 芳正    </span> │ <span style=\"color: #800080; text-decoration-color: #800080\">2019-01-07 14:34:35</span> │ <span style=\"color: #008000; text-decoration-color: #008000\">いもと よしまさ   </span> │ <span style=\"color: #008000; text-decoration-color: #008000\">imoto_yoshimasa@example.com   </span> │ <span style=\"color: #008000; text-decoration-color: #008000\">M     </span> │    <span style=\"color: #008080; text-decoration-color: #008080; font-weight: bold\">30</span> │ <span style=\"color: #800080; text-decoration-color: #800080\">1989-07-15</span> │ <span style=\"color: #008000; text-decoration-color: #008000\">熊本県</span> │ <span style=\"color: #008000; text-decoration-color: #008000\">PC-E     </span> │     <span style=\"color: #008080; text-decoration-color: #008080; font-weight: bold\">210000</span> │\n",
       "│         <span style=\"color: #008080; text-decoration-color: #008080; font-weight: bold\">1</span> │ <span style=\"color: #008000; text-decoration-color: #008000\">T0000000114   </span> │ <span style=\"color: #008000; text-decoration-color: #008000\">S001   </span> │        <span style=\"color: #008080; text-decoration-color: #008080; font-weight: bold\">1</span> │  <span style=\"color: #008080; text-decoration-color: #008080; font-weight: bold\">50000</span> │ <span style=\"color: #800080; text-decoration-color: #800080\">2019-02-01 01:37:23</span> │ <span style=\"color: #008000; text-decoration-color: #008000\">HD678019   </span> │ <span style=\"color: #008000; text-decoration-color: #008000\">三船 六郎    </span> │ <span style=\"color: #800080; text-decoration-color: #800080\">2019-01-27 18:00:11</span> │ <span style=\"color: #008000; text-decoration-color: #008000\">みふね ろくろう   </span> │ <span style=\"color: #008000; text-decoration-color: #008000\">mifune_rokurou@example.com    </span> │ <span style=\"color: #008000; text-decoration-color: #008000\">M     </span> │    <span style=\"color: #008080; text-decoration-color: #008080; font-weight: bold\">73</span> │ <span style=\"color: #800080; text-decoration-color: #800080\">1945-11-29</span> │ <span style=\"color: #008000; text-decoration-color: #008000\">京都府</span> │ <span style=\"color: #008000; text-decoration-color: #008000\">PC-A     </span> │      <span style=\"color: #008080; text-decoration-color: #008080; font-weight: bold\">50000</span> │\n",
       "│         <span style=\"color: #008080; text-decoration-color: #008080; font-weight: bold\">3</span> │ <span style=\"color: #008000; text-decoration-color: #008000\">T0000000116   </span> │ <span style=\"color: #008000; text-decoration-color: #008000\">S005   </span> │        <span style=\"color: #008080; text-decoration-color: #008080; font-weight: bold\">1</span> │ <span style=\"color: #008080; text-decoration-color: #008080; font-weight: bold\">210000</span> │ <span style=\"color: #800080; text-decoration-color: #800080\">2019-02-01 02:47:23</span> │ <span style=\"color: #008000; text-decoration-color: #008000\">IK452215   </span> │ <span style=\"color: #008000; text-decoration-color: #008000\">池田 菜摘    </span> │ <span style=\"color: #800080; text-decoration-color: #800080\">2019-01-10 05:07:38</span> │ <span style=\"color: #008000; text-decoration-color: #008000\">いけだ なつみ     </span> │ <span style=\"color: #008000; text-decoration-color: #008000\">ikeda_natsumi@example.com     </span> │ <span style=\"color: #008000; text-decoration-color: #008000\">F     </span> │    <span style=\"color: #008080; text-decoration-color: #008080; font-weight: bold\">47</span> │ <span style=\"color: #800080; text-decoration-color: #800080\">1972-03-17</span> │ <span style=\"color: #008000; text-decoration-color: #008000\">兵庫県</span> │ <span style=\"color: #008000; text-decoration-color: #008000\">PC-E     </span> │     <span style=\"color: #008080; text-decoration-color: #008080; font-weight: bold\">210000</span> │\n",
       "│         <span style=\"color: #008080; text-decoration-color: #008080; font-weight: bold\">4</span> │ <span style=\"color: #008000; text-decoration-color: #008000\">T0000000117   </span> │ <span style=\"color: #008000; text-decoration-color: #008000\">S002   </span> │        <span style=\"color: #008080; text-decoration-color: #008080; font-weight: bold\">2</span> │ <span style=\"color: #008080; text-decoration-color: #008080; font-weight: bold\">170000</span> │ <span style=\"color: #800080; text-decoration-color: #800080\">2019-02-01 04:33:46</span> │ <span style=\"color: #008000; text-decoration-color: #008000\">PL542865   </span> │ <span style=\"color: #008000; text-decoration-color: #008000\">栗田 憲一    </span> │ <span style=\"color: #800080; text-decoration-color: #800080\">2019-01-25 06:46:05</span> │ <span style=\"color: #008000; text-decoration-color: #008000\">くりた けんいち   </span> │ <span style=\"color: #008000; text-decoration-color: #008000\">kurita_kenichi@example.com    </span> │ <span style=\"color: #008000; text-decoration-color: #008000\">M     </span> │    <span style=\"color: #008080; text-decoration-color: #008080; font-weight: bold\">74</span> │ <span style=\"color: #800080; text-decoration-color: #800080\">1944-12-17</span> │ <span style=\"color: #008000; text-decoration-color: #008000\">長崎県</span> │ <span style=\"color: #008000; text-decoration-color: #008000\">PC-B     </span> │      <span style=\"color: #008080; text-decoration-color: #008080; font-weight: bold\">85000</span> │\n",
       "│         <span style=\"color: #008080; text-decoration-color: #008080; font-weight: bold\">5</span> │ <span style=\"color: #008000; text-decoration-color: #008000\">T0000000118   </span> │ <span style=\"color: #008000; text-decoration-color: #008000\">S003   </span> │        <span style=\"color: #008080; text-decoration-color: #008080; font-weight: bold\">1</span> │ <span style=\"color: #008080; text-decoration-color: #008080; font-weight: bold\">120000</span> │ <span style=\"color: #800080; text-decoration-color: #800080\">2019-02-01 04:36:50</span> │ <span style=\"color: #008000; text-decoration-color: #008000\">GD372798   </span> │ <span style=\"color: #008000; text-decoration-color: #008000\">藤村 充則    </span> │ <span style=\"color: #800080; text-decoration-color: #800080\">2019-01-24 07:40:30</span> │ <span style=\"color: #008000; text-decoration-color: #008000\">ふじむら みつのり </span> │ <span style=\"color: #008000; text-decoration-color: #008000\">fujimura_mitsunori@example.com</span> │ <span style=\"color: #008000; text-decoration-color: #008000\">M     </span> │    <span style=\"color: #008080; text-decoration-color: #008080; font-weight: bold\">36</span> │ <span style=\"color: #800080; text-decoration-color: #800080\">1983-07-18</span> │ <span style=\"color: #008000; text-decoration-color: #008000\">福島県</span> │ <span style=\"color: #008000; text-decoration-color: #008000\">PC-C     </span> │     <span style=\"color: #008080; text-decoration-color: #008080; font-weight: bold\">120000</span> │\n",
       "└───────────┴────────────────┴─────────┴──────────┴────────┴─────────────────────┴─────────────┴───────────────┴─────────────────────┴────────────────────┴────────────────────────────────┴────────┴───────┴────────────┴────────┴───────────┴────────────┘\n",
       "</pre>\n"
      ]
     },
     "execution_count": 11,
     "metadata": {},
     "output_type": "execute_result"
    }
   ],
   "execution_count": 11
  },
  {
   "metadata": {
    "ExecuteTime": {
     "end_time": "2024-04-15T06:35:23.129411Z",
     "start_time": "2024-04-15T06:35:22.797679Z"
    }
   },
   "cell_type": "code",
   "source": [
    "join_data = join_data.mutate(calc_price=join_data.item_price * join_data.quantity)\n",
    "join_data.head()"
   ],
   "id": "696d9573c0837d86",
   "outputs": [
    {
     "data": {
      "text/plain": [
       "┏━━━━━━━━━━━┳━━━━━━━━━━━━━━━━┳━━━━━━━━━┳━━━━━━━━━━┳━━━━━━━━┳━━━━━━━━━━━━━━━━━━━━━┳━━━━━━━━━━━━━┳━━━━━━━━━━━━━━━┳━━━━━━━━━━━━━━━━━━━━━┳━━━━━━━━━━━━━━━━━━━━┳━━━━━━━━━━━━━━━━━━━━━━━━━━━━━━━━┳━━━━━━━━┳━━━━━━━┳━━━━━━━━━━━━┳━━━━━━━━┳━━━━━━━━━━━┳━━━━━━━━━━━━┳━━━━━━━━━━━━┓\n",
       "┃\u001B[1m \u001B[0m\u001B[1mdetail_id\u001B[0m\u001B[1m \u001B[0m┃\u001B[1m \u001B[0m\u001B[1mtransaction_id\u001B[0m\u001B[1m \u001B[0m┃\u001B[1m \u001B[0m\u001B[1mitem_id\u001B[0m\u001B[1m \u001B[0m┃\u001B[1m \u001B[0m\u001B[1mquantity\u001B[0m\u001B[1m \u001B[0m┃\u001B[1m \u001B[0m\u001B[1mprice\u001B[0m\u001B[1m \u001B[0m\u001B[1m \u001B[0m┃\u001B[1m \u001B[0m\u001B[1mpayment_date\u001B[0m\u001B[1m       \u001B[0m\u001B[1m \u001B[0m┃\u001B[1m \u001B[0m\u001B[1mcustomer_id\u001B[0m\u001B[1m \u001B[0m┃\u001B[1m \u001B[0m\u001B[1mcustomer_name\u001B[0m\u001B[1m \u001B[0m┃\u001B[1m \u001B[0m\u001B[1mregistration_date\u001B[0m\u001B[1m  \u001B[0m\u001B[1m \u001B[0m┃\u001B[1m \u001B[0m\u001B[1mcustomer_name_kana\u001B[0m\u001B[1m \u001B[0m┃\u001B[1m \u001B[0m\u001B[1memail\u001B[0m\u001B[1m                         \u001B[0m\u001B[1m \u001B[0m┃\u001B[1m \u001B[0m\u001B[1mgender\u001B[0m\u001B[1m \u001B[0m┃\u001B[1m \u001B[0m\u001B[1mage\u001B[0m\u001B[1m  \u001B[0m\u001B[1m \u001B[0m┃\u001B[1m \u001B[0m\u001B[1mbirth\u001B[0m\u001B[1m     \u001B[0m\u001B[1m \u001B[0m┃\u001B[1m \u001B[0m\u001B[1mpref\u001B[0m\u001B[1m  \u001B[0m\u001B[1m \u001B[0m┃\u001B[1m \u001B[0m\u001B[1mitem_name\u001B[0m\u001B[1m \u001B[0m┃\u001B[1m \u001B[0m\u001B[1mitem_price\u001B[0m\u001B[1m \u001B[0m┃\u001B[1m \u001B[0m\u001B[1mcalc_price\u001B[0m\u001B[1m \u001B[0m┃\n",
       "┡━━━━━━━━━━━╇━━━━━━━━━━━━━━━━╇━━━━━━━━━╇━━━━━━━━━━╇━━━━━━━━╇━━━━━━━━━━━━━━━━━━━━━╇━━━━━━━━━━━━━╇━━━━━━━━━━━━━━━╇━━━━━━━━━━━━━━━━━━━━━╇━━━━━━━━━━━━━━━━━━━━╇━━━━━━━━━━━━━━━━━━━━━━━━━━━━━━━━╇━━━━━━━━╇━━━━━━━╇━━━━━━━━━━━━╇━━━━━━━━╇━━━━━━━━━━━╇━━━━━━━━━━━━╇━━━━━━━━━━━━┩\n",
       "│ \u001B[2mint64\u001B[0m     │ \u001B[2mstring\u001B[0m         │ \u001B[2mstring\u001B[0m  │ \u001B[2mint64\u001B[0m    │ \u001B[2mint64\u001B[0m  │ \u001B[2mtimestamp\u001B[0m           │ \u001B[2mstring\u001B[0m      │ \u001B[2mstring\u001B[0m        │ \u001B[2mtimestamp\u001B[0m           │ \u001B[2mstring\u001B[0m             │ \u001B[2mstring\u001B[0m                         │ \u001B[2mstring\u001B[0m │ \u001B[2mint64\u001B[0m │ \u001B[2mdate\u001B[0m       │ \u001B[2mstring\u001B[0m │ \u001B[2mstring\u001B[0m    │ \u001B[2mint64\u001B[0m      │ \u001B[2mint64\u001B[0m      │\n",
       "├───────────┼────────────────┼─────────┼──────────┼────────┼─────────────────────┼─────────────┼───────────────┼─────────────────────┼────────────────────┼────────────────────────────────┼────────┼───────┼────────────┼────────┼───────────┼────────────┼────────────┤\n",
       "│         \u001B[1;36m0\u001B[0m │ \u001B[32mT0000000113   \u001B[0m │ \u001B[32mS005   \u001B[0m │        \u001B[1;36m1\u001B[0m │ \u001B[1;36m210000\u001B[0m │ \u001B[35m2019-02-01 01:36:57\u001B[0m │ \u001B[32mPL563502   \u001B[0m │ \u001B[32m井本 芳正    \u001B[0m │ \u001B[35m2019-01-07 14:34:35\u001B[0m │ \u001B[32mいもと よしまさ   \u001B[0m │ \u001B[32mimoto_yoshimasa@example.com   \u001B[0m │ \u001B[32mM     \u001B[0m │    \u001B[1;36m30\u001B[0m │ \u001B[35m1989-07-15\u001B[0m │ \u001B[32m熊本県\u001B[0m │ \u001B[32mPC-E     \u001B[0m │     \u001B[1;36m210000\u001B[0m │     \u001B[1;36m210000\u001B[0m │\n",
       "│         \u001B[1;36m1\u001B[0m │ \u001B[32mT0000000114   \u001B[0m │ \u001B[32mS001   \u001B[0m │        \u001B[1;36m1\u001B[0m │  \u001B[1;36m50000\u001B[0m │ \u001B[35m2019-02-01 01:37:23\u001B[0m │ \u001B[32mHD678019   \u001B[0m │ \u001B[32m三船 六郎    \u001B[0m │ \u001B[35m2019-01-27 18:00:11\u001B[0m │ \u001B[32mみふね ろくろう   \u001B[0m │ \u001B[32mmifune_rokurou@example.com    \u001B[0m │ \u001B[32mM     \u001B[0m │    \u001B[1;36m73\u001B[0m │ \u001B[35m1945-11-29\u001B[0m │ \u001B[32m京都府\u001B[0m │ \u001B[32mPC-A     \u001B[0m │      \u001B[1;36m50000\u001B[0m │      \u001B[1;36m50000\u001B[0m │\n",
       "│         \u001B[1;36m3\u001B[0m │ \u001B[32mT0000000116   \u001B[0m │ \u001B[32mS005   \u001B[0m │        \u001B[1;36m1\u001B[0m │ \u001B[1;36m210000\u001B[0m │ \u001B[35m2019-02-01 02:47:23\u001B[0m │ \u001B[32mIK452215   \u001B[0m │ \u001B[32m池田 菜摘    \u001B[0m │ \u001B[35m2019-01-10 05:07:38\u001B[0m │ \u001B[32mいけだ なつみ     \u001B[0m │ \u001B[32mikeda_natsumi@example.com     \u001B[0m │ \u001B[32mF     \u001B[0m │    \u001B[1;36m47\u001B[0m │ \u001B[35m1972-03-17\u001B[0m │ \u001B[32m兵庫県\u001B[0m │ \u001B[32mPC-E     \u001B[0m │     \u001B[1;36m210000\u001B[0m │     \u001B[1;36m210000\u001B[0m │\n",
       "│         \u001B[1;36m4\u001B[0m │ \u001B[32mT0000000117   \u001B[0m │ \u001B[32mS002   \u001B[0m │        \u001B[1;36m2\u001B[0m │ \u001B[1;36m170000\u001B[0m │ \u001B[35m2019-02-01 04:33:46\u001B[0m │ \u001B[32mPL542865   \u001B[0m │ \u001B[32m栗田 憲一    \u001B[0m │ \u001B[35m2019-01-25 06:46:05\u001B[0m │ \u001B[32mくりた けんいち   \u001B[0m │ \u001B[32mkurita_kenichi@example.com    \u001B[0m │ \u001B[32mM     \u001B[0m │    \u001B[1;36m74\u001B[0m │ \u001B[35m1944-12-17\u001B[0m │ \u001B[32m長崎県\u001B[0m │ \u001B[32mPC-B     \u001B[0m │      \u001B[1;36m85000\u001B[0m │     \u001B[1;36m170000\u001B[0m │\n",
       "│         \u001B[1;36m5\u001B[0m │ \u001B[32mT0000000118   \u001B[0m │ \u001B[32mS003   \u001B[0m │        \u001B[1;36m1\u001B[0m │ \u001B[1;36m120000\u001B[0m │ \u001B[35m2019-02-01 04:36:50\u001B[0m │ \u001B[32mGD372798   \u001B[0m │ \u001B[32m藤村 充則    \u001B[0m │ \u001B[35m2019-01-24 07:40:30\u001B[0m │ \u001B[32mふじむら みつのり \u001B[0m │ \u001B[32mfujimura_mitsunori@example.com\u001B[0m │ \u001B[32mM     \u001B[0m │    \u001B[1;36m36\u001B[0m │ \u001B[35m1983-07-18\u001B[0m │ \u001B[32m福島県\u001B[0m │ \u001B[32mPC-C     \u001B[0m │     \u001B[1;36m120000\u001B[0m │     \u001B[1;36m120000\u001B[0m │\n",
       "└───────────┴────────────────┴─────────┴──────────┴────────┴─────────────────────┴─────────────┴───────────────┴─────────────────────┴────────────────────┴────────────────────────────────┴────────┴───────┴────────────┴────────┴───────────┴────────────┴────────────┘"
      ],
      "text/html": [
       "<pre style=\"white-space:pre;overflow-x:auto;line-height:normal;font-family:Menlo,'DejaVu Sans Mono',consolas,'Courier New',monospace\">┏━━━━━━━━━━━┳━━━━━━━━━━━━━━━━┳━━━━━━━━━┳━━━━━━━━━━┳━━━━━━━━┳━━━━━━━━━━━━━━━━━━━━━┳━━━━━━━━━━━━━┳━━━━━━━━━━━━━━━┳━━━━━━━━━━━━━━━━━━━━━┳━━━━━━━━━━━━━━━━━━━━┳━━━━━━━━━━━━━━━━━━━━━━━━━━━━━━━━┳━━━━━━━━┳━━━━━━━┳━━━━━━━━━━━━┳━━━━━━━━┳━━━━━━━━━━━┳━━━━━━━━━━━━┳━━━━━━━━━━━━┓\n",
       "┃<span style=\"font-weight: bold\"> detail_id </span>┃<span style=\"font-weight: bold\"> transaction_id </span>┃<span style=\"font-weight: bold\"> item_id </span>┃<span style=\"font-weight: bold\"> quantity </span>┃<span style=\"font-weight: bold\"> price  </span>┃<span style=\"font-weight: bold\"> payment_date        </span>┃<span style=\"font-weight: bold\"> customer_id </span>┃<span style=\"font-weight: bold\"> customer_name </span>┃<span style=\"font-weight: bold\"> registration_date   </span>┃<span style=\"font-weight: bold\"> customer_name_kana </span>┃<span style=\"font-weight: bold\"> email                          </span>┃<span style=\"font-weight: bold\"> gender </span>┃<span style=\"font-weight: bold\"> age   </span>┃<span style=\"font-weight: bold\"> birth      </span>┃<span style=\"font-weight: bold\"> pref   </span>┃<span style=\"font-weight: bold\"> item_name </span>┃<span style=\"font-weight: bold\"> item_price </span>┃<span style=\"font-weight: bold\"> calc_price </span>┃\n",
       "┡━━━━━━━━━━━╇━━━━━━━━━━━━━━━━╇━━━━━━━━━╇━━━━━━━━━━╇━━━━━━━━╇━━━━━━━━━━━━━━━━━━━━━╇━━━━━━━━━━━━━╇━━━━━━━━━━━━━━━╇━━━━━━━━━━━━━━━━━━━━━╇━━━━━━━━━━━━━━━━━━━━╇━━━━━━━━━━━━━━━━━━━━━━━━━━━━━━━━╇━━━━━━━━╇━━━━━━━╇━━━━━━━━━━━━╇━━━━━━━━╇━━━━━━━━━━━╇━━━━━━━━━━━━╇━━━━━━━━━━━━┩\n",
       "│ <span style=\"color: #7f7f7f; text-decoration-color: #7f7f7f\">int64</span>     │ <span style=\"color: #7f7f7f; text-decoration-color: #7f7f7f\">string</span>         │ <span style=\"color: #7f7f7f; text-decoration-color: #7f7f7f\">string</span>  │ <span style=\"color: #7f7f7f; text-decoration-color: #7f7f7f\">int64</span>    │ <span style=\"color: #7f7f7f; text-decoration-color: #7f7f7f\">int64</span>  │ <span style=\"color: #7f7f7f; text-decoration-color: #7f7f7f\">timestamp</span>           │ <span style=\"color: #7f7f7f; text-decoration-color: #7f7f7f\">string</span>      │ <span style=\"color: #7f7f7f; text-decoration-color: #7f7f7f\">string</span>        │ <span style=\"color: #7f7f7f; text-decoration-color: #7f7f7f\">timestamp</span>           │ <span style=\"color: #7f7f7f; text-decoration-color: #7f7f7f\">string</span>             │ <span style=\"color: #7f7f7f; text-decoration-color: #7f7f7f\">string</span>                         │ <span style=\"color: #7f7f7f; text-decoration-color: #7f7f7f\">string</span> │ <span style=\"color: #7f7f7f; text-decoration-color: #7f7f7f\">int64</span> │ <span style=\"color: #7f7f7f; text-decoration-color: #7f7f7f\">date</span>       │ <span style=\"color: #7f7f7f; text-decoration-color: #7f7f7f\">string</span> │ <span style=\"color: #7f7f7f; text-decoration-color: #7f7f7f\">string</span>    │ <span style=\"color: #7f7f7f; text-decoration-color: #7f7f7f\">int64</span>      │ <span style=\"color: #7f7f7f; text-decoration-color: #7f7f7f\">int64</span>      │\n",
       "├───────────┼────────────────┼─────────┼──────────┼────────┼─────────────────────┼─────────────┼───────────────┼─────────────────────┼────────────────────┼────────────────────────────────┼────────┼───────┼────────────┼────────┼───────────┼────────────┼────────────┤\n",
       "│         <span style=\"color: #008080; text-decoration-color: #008080; font-weight: bold\">0</span> │ <span style=\"color: #008000; text-decoration-color: #008000\">T0000000113   </span> │ <span style=\"color: #008000; text-decoration-color: #008000\">S005   </span> │        <span style=\"color: #008080; text-decoration-color: #008080; font-weight: bold\">1</span> │ <span style=\"color: #008080; text-decoration-color: #008080; font-weight: bold\">210000</span> │ <span style=\"color: #800080; text-decoration-color: #800080\">2019-02-01 01:36:57</span> │ <span style=\"color: #008000; text-decoration-color: #008000\">PL563502   </span> │ <span style=\"color: #008000; text-decoration-color: #008000\">井本 芳正    </span> │ <span style=\"color: #800080; text-decoration-color: #800080\">2019-01-07 14:34:35</span> │ <span style=\"color: #008000; text-decoration-color: #008000\">いもと よしまさ   </span> │ <span style=\"color: #008000; text-decoration-color: #008000\">imoto_yoshimasa@example.com   </span> │ <span style=\"color: #008000; text-decoration-color: #008000\">M     </span> │    <span style=\"color: #008080; text-decoration-color: #008080; font-weight: bold\">30</span> │ <span style=\"color: #800080; text-decoration-color: #800080\">1989-07-15</span> │ <span style=\"color: #008000; text-decoration-color: #008000\">熊本県</span> │ <span style=\"color: #008000; text-decoration-color: #008000\">PC-E     </span> │     <span style=\"color: #008080; text-decoration-color: #008080; font-weight: bold\">210000</span> │     <span style=\"color: #008080; text-decoration-color: #008080; font-weight: bold\">210000</span> │\n",
       "│         <span style=\"color: #008080; text-decoration-color: #008080; font-weight: bold\">1</span> │ <span style=\"color: #008000; text-decoration-color: #008000\">T0000000114   </span> │ <span style=\"color: #008000; text-decoration-color: #008000\">S001   </span> │        <span style=\"color: #008080; text-decoration-color: #008080; font-weight: bold\">1</span> │  <span style=\"color: #008080; text-decoration-color: #008080; font-weight: bold\">50000</span> │ <span style=\"color: #800080; text-decoration-color: #800080\">2019-02-01 01:37:23</span> │ <span style=\"color: #008000; text-decoration-color: #008000\">HD678019   </span> │ <span style=\"color: #008000; text-decoration-color: #008000\">三船 六郎    </span> │ <span style=\"color: #800080; text-decoration-color: #800080\">2019-01-27 18:00:11</span> │ <span style=\"color: #008000; text-decoration-color: #008000\">みふね ろくろう   </span> │ <span style=\"color: #008000; text-decoration-color: #008000\">mifune_rokurou@example.com    </span> │ <span style=\"color: #008000; text-decoration-color: #008000\">M     </span> │    <span style=\"color: #008080; text-decoration-color: #008080; font-weight: bold\">73</span> │ <span style=\"color: #800080; text-decoration-color: #800080\">1945-11-29</span> │ <span style=\"color: #008000; text-decoration-color: #008000\">京都府</span> │ <span style=\"color: #008000; text-decoration-color: #008000\">PC-A     </span> │      <span style=\"color: #008080; text-decoration-color: #008080; font-weight: bold\">50000</span> │      <span style=\"color: #008080; text-decoration-color: #008080; font-weight: bold\">50000</span> │\n",
       "│         <span style=\"color: #008080; text-decoration-color: #008080; font-weight: bold\">3</span> │ <span style=\"color: #008000; text-decoration-color: #008000\">T0000000116   </span> │ <span style=\"color: #008000; text-decoration-color: #008000\">S005   </span> │        <span style=\"color: #008080; text-decoration-color: #008080; font-weight: bold\">1</span> │ <span style=\"color: #008080; text-decoration-color: #008080; font-weight: bold\">210000</span> │ <span style=\"color: #800080; text-decoration-color: #800080\">2019-02-01 02:47:23</span> │ <span style=\"color: #008000; text-decoration-color: #008000\">IK452215   </span> │ <span style=\"color: #008000; text-decoration-color: #008000\">池田 菜摘    </span> │ <span style=\"color: #800080; text-decoration-color: #800080\">2019-01-10 05:07:38</span> │ <span style=\"color: #008000; text-decoration-color: #008000\">いけだ なつみ     </span> │ <span style=\"color: #008000; text-decoration-color: #008000\">ikeda_natsumi@example.com     </span> │ <span style=\"color: #008000; text-decoration-color: #008000\">F     </span> │    <span style=\"color: #008080; text-decoration-color: #008080; font-weight: bold\">47</span> │ <span style=\"color: #800080; text-decoration-color: #800080\">1972-03-17</span> │ <span style=\"color: #008000; text-decoration-color: #008000\">兵庫県</span> │ <span style=\"color: #008000; text-decoration-color: #008000\">PC-E     </span> │     <span style=\"color: #008080; text-decoration-color: #008080; font-weight: bold\">210000</span> │     <span style=\"color: #008080; text-decoration-color: #008080; font-weight: bold\">210000</span> │\n",
       "│         <span style=\"color: #008080; text-decoration-color: #008080; font-weight: bold\">4</span> │ <span style=\"color: #008000; text-decoration-color: #008000\">T0000000117   </span> │ <span style=\"color: #008000; text-decoration-color: #008000\">S002   </span> │        <span style=\"color: #008080; text-decoration-color: #008080; font-weight: bold\">2</span> │ <span style=\"color: #008080; text-decoration-color: #008080; font-weight: bold\">170000</span> │ <span style=\"color: #800080; text-decoration-color: #800080\">2019-02-01 04:33:46</span> │ <span style=\"color: #008000; text-decoration-color: #008000\">PL542865   </span> │ <span style=\"color: #008000; text-decoration-color: #008000\">栗田 憲一    </span> │ <span style=\"color: #800080; text-decoration-color: #800080\">2019-01-25 06:46:05</span> │ <span style=\"color: #008000; text-decoration-color: #008000\">くりた けんいち   </span> │ <span style=\"color: #008000; text-decoration-color: #008000\">kurita_kenichi@example.com    </span> │ <span style=\"color: #008000; text-decoration-color: #008000\">M     </span> │    <span style=\"color: #008080; text-decoration-color: #008080; font-weight: bold\">74</span> │ <span style=\"color: #800080; text-decoration-color: #800080\">1944-12-17</span> │ <span style=\"color: #008000; text-decoration-color: #008000\">長崎県</span> │ <span style=\"color: #008000; text-decoration-color: #008000\">PC-B     </span> │      <span style=\"color: #008080; text-decoration-color: #008080; font-weight: bold\">85000</span> │     <span style=\"color: #008080; text-decoration-color: #008080; font-weight: bold\">170000</span> │\n",
       "│         <span style=\"color: #008080; text-decoration-color: #008080; font-weight: bold\">5</span> │ <span style=\"color: #008000; text-decoration-color: #008000\">T0000000118   </span> │ <span style=\"color: #008000; text-decoration-color: #008000\">S003   </span> │        <span style=\"color: #008080; text-decoration-color: #008080; font-weight: bold\">1</span> │ <span style=\"color: #008080; text-decoration-color: #008080; font-weight: bold\">120000</span> │ <span style=\"color: #800080; text-decoration-color: #800080\">2019-02-01 04:36:50</span> │ <span style=\"color: #008000; text-decoration-color: #008000\">GD372798   </span> │ <span style=\"color: #008000; text-decoration-color: #008000\">藤村 充則    </span> │ <span style=\"color: #800080; text-decoration-color: #800080\">2019-01-24 07:40:30</span> │ <span style=\"color: #008000; text-decoration-color: #008000\">ふじむら みつのり </span> │ <span style=\"color: #008000; text-decoration-color: #008000\">fujimura_mitsunori@example.com</span> │ <span style=\"color: #008000; text-decoration-color: #008000\">M     </span> │    <span style=\"color: #008080; text-decoration-color: #008080; font-weight: bold\">36</span> │ <span style=\"color: #800080; text-decoration-color: #800080\">1983-07-18</span> │ <span style=\"color: #008000; text-decoration-color: #008000\">福島県</span> │ <span style=\"color: #008000; text-decoration-color: #008000\">PC-C     </span> │     <span style=\"color: #008080; text-decoration-color: #008080; font-weight: bold\">120000</span> │     <span style=\"color: #008080; text-decoration-color: #008080; font-weight: bold\">120000</span> │\n",
       "└───────────┴────────────────┴─────────┴──────────┴────────┴─────────────────────┴─────────────┴───────────────┴─────────────────────┴────────────────────┴────────────────────────────────┴────────┴───────┴────────────┴────────┴───────────┴────────────┴────────────┘\n",
       "</pre>\n"
      ]
     },
     "execution_count": 12,
     "metadata": {},
     "output_type": "execute_result"
    }
   ],
   "execution_count": 12
  },
  {
   "metadata": {
    "ExecuteTime": {
     "end_time": "2024-04-15T06:35:23.444736Z",
     "start_time": "2024-04-15T06:35:23.130365Z"
    }
   },
   "cell_type": "code",
   "source": [
    "sample = join_data.mutate(compare_price=join_data.price == join_data.calc_price)\n",
    "sample.head()"
   ],
   "id": "3db4dea54fc8691a",
   "outputs": [
    {
     "data": {
      "text/plain": [
       "┏━━━━━━━━━━━┳━━━━━━━━━━━━━━━━┳━━━━━━━━━┳━━━━━━━━━━┳━━━━━━━━┳━━━━━━━━━━━━━━━━━━━━━┳━━━━━━━━━━━━━┳━━━━━━━━━━━━━━━┳━━━━━━━━━━━━━━━━━━━━━┳━━━━━━━━━━━━━━━━━━━━┳━━━━━━━━━━━━━━━━━━━━━━━━━━━━━━━━┳━━━━━━━━┳━━━━━━━┳━━━━━━━━━━━━┳━━━━━━━━┳━━━━━━━━━━━┳━━━━━━━━━━━━┳━━━━━━━━━━━━┳━━━━━━━━━━━━━━━┓\n",
       "┃\u001B[1m \u001B[0m\u001B[1mdetail_id\u001B[0m\u001B[1m \u001B[0m┃\u001B[1m \u001B[0m\u001B[1mtransaction_id\u001B[0m\u001B[1m \u001B[0m┃\u001B[1m \u001B[0m\u001B[1mitem_id\u001B[0m\u001B[1m \u001B[0m┃\u001B[1m \u001B[0m\u001B[1mquantity\u001B[0m\u001B[1m \u001B[0m┃\u001B[1m \u001B[0m\u001B[1mprice\u001B[0m\u001B[1m \u001B[0m\u001B[1m \u001B[0m┃\u001B[1m \u001B[0m\u001B[1mpayment_date\u001B[0m\u001B[1m       \u001B[0m\u001B[1m \u001B[0m┃\u001B[1m \u001B[0m\u001B[1mcustomer_id\u001B[0m\u001B[1m \u001B[0m┃\u001B[1m \u001B[0m\u001B[1mcustomer_name\u001B[0m\u001B[1m \u001B[0m┃\u001B[1m \u001B[0m\u001B[1mregistration_date\u001B[0m\u001B[1m  \u001B[0m\u001B[1m \u001B[0m┃\u001B[1m \u001B[0m\u001B[1mcustomer_name_kana\u001B[0m\u001B[1m \u001B[0m┃\u001B[1m \u001B[0m\u001B[1memail\u001B[0m\u001B[1m                         \u001B[0m\u001B[1m \u001B[0m┃\u001B[1m \u001B[0m\u001B[1mgender\u001B[0m\u001B[1m \u001B[0m┃\u001B[1m \u001B[0m\u001B[1mage\u001B[0m\u001B[1m  \u001B[0m\u001B[1m \u001B[0m┃\u001B[1m \u001B[0m\u001B[1mbirth\u001B[0m\u001B[1m     \u001B[0m\u001B[1m \u001B[0m┃\u001B[1m \u001B[0m\u001B[1mpref\u001B[0m\u001B[1m  \u001B[0m\u001B[1m \u001B[0m┃\u001B[1m \u001B[0m\u001B[1mitem_name\u001B[0m\u001B[1m \u001B[0m┃\u001B[1m \u001B[0m\u001B[1mitem_price\u001B[0m\u001B[1m \u001B[0m┃\u001B[1m \u001B[0m\u001B[1mcalc_price\u001B[0m\u001B[1m \u001B[0m┃\u001B[1m \u001B[0m\u001B[1mcompare_price\u001B[0m\u001B[1m \u001B[0m┃\n",
       "┡━━━━━━━━━━━╇━━━━━━━━━━━━━━━━╇━━━━━━━━━╇━━━━━━━━━━╇━━━━━━━━╇━━━━━━━━━━━━━━━━━━━━━╇━━━━━━━━━━━━━╇━━━━━━━━━━━━━━━╇━━━━━━━━━━━━━━━━━━━━━╇━━━━━━━━━━━━━━━━━━━━╇━━━━━━━━━━━━━━━━━━━━━━━━━━━━━━━━╇━━━━━━━━╇━━━━━━━╇━━━━━━━━━━━━╇━━━━━━━━╇━━━━━━━━━━━╇━━━━━━━━━━━━╇━━━━━━━━━━━━╇━━━━━━━━━━━━━━━┩\n",
       "│ \u001B[2mint64\u001B[0m     │ \u001B[2mstring\u001B[0m         │ \u001B[2mstring\u001B[0m  │ \u001B[2mint64\u001B[0m    │ \u001B[2mint64\u001B[0m  │ \u001B[2mtimestamp\u001B[0m           │ \u001B[2mstring\u001B[0m      │ \u001B[2mstring\u001B[0m        │ \u001B[2mtimestamp\u001B[0m           │ \u001B[2mstring\u001B[0m             │ \u001B[2mstring\u001B[0m                         │ \u001B[2mstring\u001B[0m │ \u001B[2mint64\u001B[0m │ \u001B[2mdate\u001B[0m       │ \u001B[2mstring\u001B[0m │ \u001B[2mstring\u001B[0m    │ \u001B[2mint64\u001B[0m      │ \u001B[2mint64\u001B[0m      │ \u001B[2mboolean\u001B[0m       │\n",
       "├───────────┼────────────────┼─────────┼──────────┼────────┼─────────────────────┼─────────────┼───────────────┼─────────────────────┼────────────────────┼────────────────────────────────┼────────┼───────┼────────────┼────────┼───────────┼────────────┼────────────┼───────────────┤\n",
       "│         \u001B[1;36m0\u001B[0m │ \u001B[32mT0000000113   \u001B[0m │ \u001B[32mS005   \u001B[0m │        \u001B[1;36m1\u001B[0m │ \u001B[1;36m210000\u001B[0m │ \u001B[35m2019-02-01 01:36:57\u001B[0m │ \u001B[32mPL563502   \u001B[0m │ \u001B[32m井本 芳正    \u001B[0m │ \u001B[35m2019-01-07 14:34:35\u001B[0m │ \u001B[32mいもと よしまさ   \u001B[0m │ \u001B[32mimoto_yoshimasa@example.com   \u001B[0m │ \u001B[32mM     \u001B[0m │    \u001B[1;36m30\u001B[0m │ \u001B[35m1989-07-15\u001B[0m │ \u001B[32m熊本県\u001B[0m │ \u001B[32mPC-E     \u001B[0m │     \u001B[1;36m210000\u001B[0m │     \u001B[1;36m210000\u001B[0m │ True          │\n",
       "│         \u001B[1;36m1\u001B[0m │ \u001B[32mT0000000114   \u001B[0m │ \u001B[32mS001   \u001B[0m │        \u001B[1;36m1\u001B[0m │  \u001B[1;36m50000\u001B[0m │ \u001B[35m2019-02-01 01:37:23\u001B[0m │ \u001B[32mHD678019   \u001B[0m │ \u001B[32m三船 六郎    \u001B[0m │ \u001B[35m2019-01-27 18:00:11\u001B[0m │ \u001B[32mみふね ろくろう   \u001B[0m │ \u001B[32mmifune_rokurou@example.com    \u001B[0m │ \u001B[32mM     \u001B[0m │    \u001B[1;36m73\u001B[0m │ \u001B[35m1945-11-29\u001B[0m │ \u001B[32m京都府\u001B[0m │ \u001B[32mPC-A     \u001B[0m │      \u001B[1;36m50000\u001B[0m │      \u001B[1;36m50000\u001B[0m │ True          │\n",
       "│         \u001B[1;36m3\u001B[0m │ \u001B[32mT0000000116   \u001B[0m │ \u001B[32mS005   \u001B[0m │        \u001B[1;36m1\u001B[0m │ \u001B[1;36m210000\u001B[0m │ \u001B[35m2019-02-01 02:47:23\u001B[0m │ \u001B[32mIK452215   \u001B[0m │ \u001B[32m池田 菜摘    \u001B[0m │ \u001B[35m2019-01-10 05:07:38\u001B[0m │ \u001B[32mいけだ なつみ     \u001B[0m │ \u001B[32mikeda_natsumi@example.com     \u001B[0m │ \u001B[32mF     \u001B[0m │    \u001B[1;36m47\u001B[0m │ \u001B[35m1972-03-17\u001B[0m │ \u001B[32m兵庫県\u001B[0m │ \u001B[32mPC-E     \u001B[0m │     \u001B[1;36m210000\u001B[0m │     \u001B[1;36m210000\u001B[0m │ True          │\n",
       "│         \u001B[1;36m4\u001B[0m │ \u001B[32mT0000000117   \u001B[0m │ \u001B[32mS002   \u001B[0m │        \u001B[1;36m2\u001B[0m │ \u001B[1;36m170000\u001B[0m │ \u001B[35m2019-02-01 04:33:46\u001B[0m │ \u001B[32mPL542865   \u001B[0m │ \u001B[32m栗田 憲一    \u001B[0m │ \u001B[35m2019-01-25 06:46:05\u001B[0m │ \u001B[32mくりた けんいち   \u001B[0m │ \u001B[32mkurita_kenichi@example.com    \u001B[0m │ \u001B[32mM     \u001B[0m │    \u001B[1;36m74\u001B[0m │ \u001B[35m1944-12-17\u001B[0m │ \u001B[32m長崎県\u001B[0m │ \u001B[32mPC-B     \u001B[0m │      \u001B[1;36m85000\u001B[0m │     \u001B[1;36m170000\u001B[0m │ True          │\n",
       "│         \u001B[1;36m5\u001B[0m │ \u001B[32mT0000000118   \u001B[0m │ \u001B[32mS003   \u001B[0m │        \u001B[1;36m1\u001B[0m │ \u001B[1;36m120000\u001B[0m │ \u001B[35m2019-02-01 04:36:50\u001B[0m │ \u001B[32mGD372798   \u001B[0m │ \u001B[32m藤村 充則    \u001B[0m │ \u001B[35m2019-01-24 07:40:30\u001B[0m │ \u001B[32mふじむら みつのり \u001B[0m │ \u001B[32mfujimura_mitsunori@example.com\u001B[0m │ \u001B[32mM     \u001B[0m │    \u001B[1;36m36\u001B[0m │ \u001B[35m1983-07-18\u001B[0m │ \u001B[32m福島県\u001B[0m │ \u001B[32mPC-C     \u001B[0m │     \u001B[1;36m120000\u001B[0m │     \u001B[1;36m120000\u001B[0m │ True          │\n",
       "└───────────┴────────────────┴─────────┴──────────┴────────┴─────────────────────┴─────────────┴───────────────┴─────────────────────┴────────────────────┴────────────────────────────────┴────────┴───────┴────────────┴────────┴───────────┴────────────┴────────────┴───────────────┘"
      ],
      "text/html": [
       "<pre style=\"white-space:pre;overflow-x:auto;line-height:normal;font-family:Menlo,'DejaVu Sans Mono',consolas,'Courier New',monospace\">┏━━━━━━━━━━━┳━━━━━━━━━━━━━━━━┳━━━━━━━━━┳━━━━━━━━━━┳━━━━━━━━┳━━━━━━━━━━━━━━━━━━━━━┳━━━━━━━━━━━━━┳━━━━━━━━━━━━━━━┳━━━━━━━━━━━━━━━━━━━━━┳━━━━━━━━━━━━━━━━━━━━┳━━━━━━━━━━━━━━━━━━━━━━━━━━━━━━━━┳━━━━━━━━┳━━━━━━━┳━━━━━━━━━━━━┳━━━━━━━━┳━━━━━━━━━━━┳━━━━━━━━━━━━┳━━━━━━━━━━━━┳━━━━━━━━━━━━━━━┓\n",
       "┃<span style=\"font-weight: bold\"> detail_id </span>┃<span style=\"font-weight: bold\"> transaction_id </span>┃<span style=\"font-weight: bold\"> item_id </span>┃<span style=\"font-weight: bold\"> quantity </span>┃<span style=\"font-weight: bold\"> price  </span>┃<span style=\"font-weight: bold\"> payment_date        </span>┃<span style=\"font-weight: bold\"> customer_id </span>┃<span style=\"font-weight: bold\"> customer_name </span>┃<span style=\"font-weight: bold\"> registration_date   </span>┃<span style=\"font-weight: bold\"> customer_name_kana </span>┃<span style=\"font-weight: bold\"> email                          </span>┃<span style=\"font-weight: bold\"> gender </span>┃<span style=\"font-weight: bold\"> age   </span>┃<span style=\"font-weight: bold\"> birth      </span>┃<span style=\"font-weight: bold\"> pref   </span>┃<span style=\"font-weight: bold\"> item_name </span>┃<span style=\"font-weight: bold\"> item_price </span>┃<span style=\"font-weight: bold\"> calc_price </span>┃<span style=\"font-weight: bold\"> compare_price </span>┃\n",
       "┡━━━━━━━━━━━╇━━━━━━━━━━━━━━━━╇━━━━━━━━━╇━━━━━━━━━━╇━━━━━━━━╇━━━━━━━━━━━━━━━━━━━━━╇━━━━━━━━━━━━━╇━━━━━━━━━━━━━━━╇━━━━━━━━━━━━━━━━━━━━━╇━━━━━━━━━━━━━━━━━━━━╇━━━━━━━━━━━━━━━━━━━━━━━━━━━━━━━━╇━━━━━━━━╇━━━━━━━╇━━━━━━━━━━━━╇━━━━━━━━╇━━━━━━━━━━━╇━━━━━━━━━━━━╇━━━━━━━━━━━━╇━━━━━━━━━━━━━━━┩\n",
       "│ <span style=\"color: #7f7f7f; text-decoration-color: #7f7f7f\">int64</span>     │ <span style=\"color: #7f7f7f; text-decoration-color: #7f7f7f\">string</span>         │ <span style=\"color: #7f7f7f; text-decoration-color: #7f7f7f\">string</span>  │ <span style=\"color: #7f7f7f; text-decoration-color: #7f7f7f\">int64</span>    │ <span style=\"color: #7f7f7f; text-decoration-color: #7f7f7f\">int64</span>  │ <span style=\"color: #7f7f7f; text-decoration-color: #7f7f7f\">timestamp</span>           │ <span style=\"color: #7f7f7f; text-decoration-color: #7f7f7f\">string</span>      │ <span style=\"color: #7f7f7f; text-decoration-color: #7f7f7f\">string</span>        │ <span style=\"color: #7f7f7f; text-decoration-color: #7f7f7f\">timestamp</span>           │ <span style=\"color: #7f7f7f; text-decoration-color: #7f7f7f\">string</span>             │ <span style=\"color: #7f7f7f; text-decoration-color: #7f7f7f\">string</span>                         │ <span style=\"color: #7f7f7f; text-decoration-color: #7f7f7f\">string</span> │ <span style=\"color: #7f7f7f; text-decoration-color: #7f7f7f\">int64</span> │ <span style=\"color: #7f7f7f; text-decoration-color: #7f7f7f\">date</span>       │ <span style=\"color: #7f7f7f; text-decoration-color: #7f7f7f\">string</span> │ <span style=\"color: #7f7f7f; text-decoration-color: #7f7f7f\">string</span>    │ <span style=\"color: #7f7f7f; text-decoration-color: #7f7f7f\">int64</span>      │ <span style=\"color: #7f7f7f; text-decoration-color: #7f7f7f\">int64</span>      │ <span style=\"color: #7f7f7f; text-decoration-color: #7f7f7f\">boolean</span>       │\n",
       "├───────────┼────────────────┼─────────┼──────────┼────────┼─────────────────────┼─────────────┼───────────────┼─────────────────────┼────────────────────┼────────────────────────────────┼────────┼───────┼────────────┼────────┼───────────┼────────────┼────────────┼───────────────┤\n",
       "│         <span style=\"color: #008080; text-decoration-color: #008080; font-weight: bold\">0</span> │ <span style=\"color: #008000; text-decoration-color: #008000\">T0000000113   </span> │ <span style=\"color: #008000; text-decoration-color: #008000\">S005   </span> │        <span style=\"color: #008080; text-decoration-color: #008080; font-weight: bold\">1</span> │ <span style=\"color: #008080; text-decoration-color: #008080; font-weight: bold\">210000</span> │ <span style=\"color: #800080; text-decoration-color: #800080\">2019-02-01 01:36:57</span> │ <span style=\"color: #008000; text-decoration-color: #008000\">PL563502   </span> │ <span style=\"color: #008000; text-decoration-color: #008000\">井本 芳正    </span> │ <span style=\"color: #800080; text-decoration-color: #800080\">2019-01-07 14:34:35</span> │ <span style=\"color: #008000; text-decoration-color: #008000\">いもと よしまさ   </span> │ <span style=\"color: #008000; text-decoration-color: #008000\">imoto_yoshimasa@example.com   </span> │ <span style=\"color: #008000; text-decoration-color: #008000\">M     </span> │    <span style=\"color: #008080; text-decoration-color: #008080; font-weight: bold\">30</span> │ <span style=\"color: #800080; text-decoration-color: #800080\">1989-07-15</span> │ <span style=\"color: #008000; text-decoration-color: #008000\">熊本県</span> │ <span style=\"color: #008000; text-decoration-color: #008000\">PC-E     </span> │     <span style=\"color: #008080; text-decoration-color: #008080; font-weight: bold\">210000</span> │     <span style=\"color: #008080; text-decoration-color: #008080; font-weight: bold\">210000</span> │ True          │\n",
       "│         <span style=\"color: #008080; text-decoration-color: #008080; font-weight: bold\">1</span> │ <span style=\"color: #008000; text-decoration-color: #008000\">T0000000114   </span> │ <span style=\"color: #008000; text-decoration-color: #008000\">S001   </span> │        <span style=\"color: #008080; text-decoration-color: #008080; font-weight: bold\">1</span> │  <span style=\"color: #008080; text-decoration-color: #008080; font-weight: bold\">50000</span> │ <span style=\"color: #800080; text-decoration-color: #800080\">2019-02-01 01:37:23</span> │ <span style=\"color: #008000; text-decoration-color: #008000\">HD678019   </span> │ <span style=\"color: #008000; text-decoration-color: #008000\">三船 六郎    </span> │ <span style=\"color: #800080; text-decoration-color: #800080\">2019-01-27 18:00:11</span> │ <span style=\"color: #008000; text-decoration-color: #008000\">みふね ろくろう   </span> │ <span style=\"color: #008000; text-decoration-color: #008000\">mifune_rokurou@example.com    </span> │ <span style=\"color: #008000; text-decoration-color: #008000\">M     </span> │    <span style=\"color: #008080; text-decoration-color: #008080; font-weight: bold\">73</span> │ <span style=\"color: #800080; text-decoration-color: #800080\">1945-11-29</span> │ <span style=\"color: #008000; text-decoration-color: #008000\">京都府</span> │ <span style=\"color: #008000; text-decoration-color: #008000\">PC-A     </span> │      <span style=\"color: #008080; text-decoration-color: #008080; font-weight: bold\">50000</span> │      <span style=\"color: #008080; text-decoration-color: #008080; font-weight: bold\">50000</span> │ True          │\n",
       "│         <span style=\"color: #008080; text-decoration-color: #008080; font-weight: bold\">3</span> │ <span style=\"color: #008000; text-decoration-color: #008000\">T0000000116   </span> │ <span style=\"color: #008000; text-decoration-color: #008000\">S005   </span> │        <span style=\"color: #008080; text-decoration-color: #008080; font-weight: bold\">1</span> │ <span style=\"color: #008080; text-decoration-color: #008080; font-weight: bold\">210000</span> │ <span style=\"color: #800080; text-decoration-color: #800080\">2019-02-01 02:47:23</span> │ <span style=\"color: #008000; text-decoration-color: #008000\">IK452215   </span> │ <span style=\"color: #008000; text-decoration-color: #008000\">池田 菜摘    </span> │ <span style=\"color: #800080; text-decoration-color: #800080\">2019-01-10 05:07:38</span> │ <span style=\"color: #008000; text-decoration-color: #008000\">いけだ なつみ     </span> │ <span style=\"color: #008000; text-decoration-color: #008000\">ikeda_natsumi@example.com     </span> │ <span style=\"color: #008000; text-decoration-color: #008000\">F     </span> │    <span style=\"color: #008080; text-decoration-color: #008080; font-weight: bold\">47</span> │ <span style=\"color: #800080; text-decoration-color: #800080\">1972-03-17</span> │ <span style=\"color: #008000; text-decoration-color: #008000\">兵庫県</span> │ <span style=\"color: #008000; text-decoration-color: #008000\">PC-E     </span> │     <span style=\"color: #008080; text-decoration-color: #008080; font-weight: bold\">210000</span> │     <span style=\"color: #008080; text-decoration-color: #008080; font-weight: bold\">210000</span> │ True          │\n",
       "│         <span style=\"color: #008080; text-decoration-color: #008080; font-weight: bold\">4</span> │ <span style=\"color: #008000; text-decoration-color: #008000\">T0000000117   </span> │ <span style=\"color: #008000; text-decoration-color: #008000\">S002   </span> │        <span style=\"color: #008080; text-decoration-color: #008080; font-weight: bold\">2</span> │ <span style=\"color: #008080; text-decoration-color: #008080; font-weight: bold\">170000</span> │ <span style=\"color: #800080; text-decoration-color: #800080\">2019-02-01 04:33:46</span> │ <span style=\"color: #008000; text-decoration-color: #008000\">PL542865   </span> │ <span style=\"color: #008000; text-decoration-color: #008000\">栗田 憲一    </span> │ <span style=\"color: #800080; text-decoration-color: #800080\">2019-01-25 06:46:05</span> │ <span style=\"color: #008000; text-decoration-color: #008000\">くりた けんいち   </span> │ <span style=\"color: #008000; text-decoration-color: #008000\">kurita_kenichi@example.com    </span> │ <span style=\"color: #008000; text-decoration-color: #008000\">M     </span> │    <span style=\"color: #008080; text-decoration-color: #008080; font-weight: bold\">74</span> │ <span style=\"color: #800080; text-decoration-color: #800080\">1944-12-17</span> │ <span style=\"color: #008000; text-decoration-color: #008000\">長崎県</span> │ <span style=\"color: #008000; text-decoration-color: #008000\">PC-B     </span> │      <span style=\"color: #008080; text-decoration-color: #008080; font-weight: bold\">85000</span> │     <span style=\"color: #008080; text-decoration-color: #008080; font-weight: bold\">170000</span> │ True          │\n",
       "│         <span style=\"color: #008080; text-decoration-color: #008080; font-weight: bold\">5</span> │ <span style=\"color: #008000; text-decoration-color: #008000\">T0000000118   </span> │ <span style=\"color: #008000; text-decoration-color: #008000\">S003   </span> │        <span style=\"color: #008080; text-decoration-color: #008080; font-weight: bold\">1</span> │ <span style=\"color: #008080; text-decoration-color: #008080; font-weight: bold\">120000</span> │ <span style=\"color: #800080; text-decoration-color: #800080\">2019-02-01 04:36:50</span> │ <span style=\"color: #008000; text-decoration-color: #008000\">GD372798   </span> │ <span style=\"color: #008000; text-decoration-color: #008000\">藤村 充則    </span> │ <span style=\"color: #800080; text-decoration-color: #800080\">2019-01-24 07:40:30</span> │ <span style=\"color: #008000; text-decoration-color: #008000\">ふじむら みつのり </span> │ <span style=\"color: #008000; text-decoration-color: #008000\">fujimura_mitsunori@example.com</span> │ <span style=\"color: #008000; text-decoration-color: #008000\">M     </span> │    <span style=\"color: #008080; text-decoration-color: #008080; font-weight: bold\">36</span> │ <span style=\"color: #800080; text-decoration-color: #800080\">1983-07-18</span> │ <span style=\"color: #008000; text-decoration-color: #008000\">福島県</span> │ <span style=\"color: #008000; text-decoration-color: #008000\">PC-C     </span> │     <span style=\"color: #008080; text-decoration-color: #008080; font-weight: bold\">120000</span> │     <span style=\"color: #008080; text-decoration-color: #008080; font-weight: bold\">120000</span> │ True          │\n",
       "└───────────┴────────────────┴─────────┴──────────┴────────┴─────────────────────┴─────────────┴───────────────┴─────────────────────┴────────────────────┴────────────────────────────────┴────────┴───────┴────────────┴────────┴───────────┴────────────┴────────────┴───────────────┘\n",
       "</pre>\n"
      ]
     },
     "execution_count": 13,
     "metadata": {},
     "output_type": "execute_result"
    }
   ],
   "execution_count": 13
  },
  {
   "metadata": {
    "ExecuteTime": {
     "end_time": "2024-04-15T06:35:23.780618Z",
     "start_time": "2024-04-15T06:35:23.445537Z"
    }
   },
   "cell_type": "code",
   "source": "sample[sample.compare_price == False].head()",
   "id": "1ca14cffccc62b83",
   "outputs": [
    {
     "data": {
      "text/plain": [
       "┏━━━━━━━━━━━┳━━━━━━━━━━━━━━━━┳━━━━━━━━━┳━━━━━━━━━━┳━━━━━━━━┳━━━━━━━━━━━━━━━━━━━━━┳━━━━━━━━━━━━━┳━━━━━━━━━━━━━━━┳━━━━━━━━━━━━━━━━━━━━━┳━━━━━━━━━━━━━━━━━━━━┳━━━━━━━━━━━━━━━━━━━━━━━━━━━━━┳━━━━━━━━┳━━━━━━━┳━━━━━━━━━━━━┳━━━━━━━━┳━━━━━━━━━━━┳━━━━━━━━━━━━┳━━━━━━━━━━━━┳━━━━━━━━━━━━━━━┓\n",
       "┃\u001B[1m \u001B[0m\u001B[1mdetail_id\u001B[0m\u001B[1m \u001B[0m┃\u001B[1m \u001B[0m\u001B[1mtransaction_id\u001B[0m\u001B[1m \u001B[0m┃\u001B[1m \u001B[0m\u001B[1mitem_id\u001B[0m\u001B[1m \u001B[0m┃\u001B[1m \u001B[0m\u001B[1mquantity\u001B[0m\u001B[1m \u001B[0m┃\u001B[1m \u001B[0m\u001B[1mprice\u001B[0m\u001B[1m \u001B[0m\u001B[1m \u001B[0m┃\u001B[1m \u001B[0m\u001B[1mpayment_date\u001B[0m\u001B[1m       \u001B[0m\u001B[1m \u001B[0m┃\u001B[1m \u001B[0m\u001B[1mcustomer_id\u001B[0m\u001B[1m \u001B[0m┃\u001B[1m \u001B[0m\u001B[1mcustomer_name\u001B[0m\u001B[1m \u001B[0m┃\u001B[1m \u001B[0m\u001B[1mregistration_date\u001B[0m\u001B[1m  \u001B[0m\u001B[1m \u001B[0m┃\u001B[1m \u001B[0m\u001B[1mcustomer_name_kana\u001B[0m\u001B[1m \u001B[0m┃\u001B[1m \u001B[0m\u001B[1memail\u001B[0m\u001B[1m                      \u001B[0m\u001B[1m \u001B[0m┃\u001B[1m \u001B[0m\u001B[1mgender\u001B[0m\u001B[1m \u001B[0m┃\u001B[1m \u001B[0m\u001B[1mage\u001B[0m\u001B[1m  \u001B[0m\u001B[1m \u001B[0m┃\u001B[1m \u001B[0m\u001B[1mbirth\u001B[0m\u001B[1m     \u001B[0m\u001B[1m \u001B[0m┃\u001B[1m \u001B[0m\u001B[1mpref\u001B[0m\u001B[1m  \u001B[0m\u001B[1m \u001B[0m┃\u001B[1m \u001B[0m\u001B[1mitem_name\u001B[0m\u001B[1m \u001B[0m┃\u001B[1m \u001B[0m\u001B[1mitem_price\u001B[0m\u001B[1m \u001B[0m┃\u001B[1m \u001B[0m\u001B[1mcalc_price\u001B[0m\u001B[1m \u001B[0m┃\u001B[1m \u001B[0m\u001B[1mcompare_price\u001B[0m\u001B[1m \u001B[0m┃\n",
       "┡━━━━━━━━━━━╇━━━━━━━━━━━━━━━━╇━━━━━━━━━╇━━━━━━━━━━╇━━━━━━━━╇━━━━━━━━━━━━━━━━━━━━━╇━━━━━━━━━━━━━╇━━━━━━━━━━━━━━━╇━━━━━━━━━━━━━━━━━━━━━╇━━━━━━━━━━━━━━━━━━━━╇━━━━━━━━━━━━━━━━━━━━━━━━━━━━━╇━━━━━━━━╇━━━━━━━╇━━━━━━━━━━━━╇━━━━━━━━╇━━━━━━━━━━━╇━━━━━━━━━━━━╇━━━━━━━━━━━━╇━━━━━━━━━━━━━━━┩\n",
       "│ \u001B[2mint64\u001B[0m     │ \u001B[2mstring\u001B[0m         │ \u001B[2mstring\u001B[0m  │ \u001B[2mint64\u001B[0m    │ \u001B[2mint64\u001B[0m  │ \u001B[2mtimestamp\u001B[0m           │ \u001B[2mstring\u001B[0m      │ \u001B[2mstring\u001B[0m        │ \u001B[2mtimestamp\u001B[0m           │ \u001B[2mstring\u001B[0m             │ \u001B[2mstring\u001B[0m                      │ \u001B[2mstring\u001B[0m │ \u001B[2mint64\u001B[0m │ \u001B[2mdate\u001B[0m       │ \u001B[2mstring\u001B[0m │ \u001B[2mstring\u001B[0m    │ \u001B[2mint64\u001B[0m      │ \u001B[2mint64\u001B[0m      │ \u001B[2mboolean\u001B[0m       │\n",
       "├───────────┼────────────────┼─────────┼──────────┼────────┼─────────────────────┼─────────────┼───────────────┼─────────────────────┼────────────────────┼─────────────────────────────┼────────┼───────┼────────────┼────────┼───────────┼────────────┼────────────┼───────────────┤\n",
       "│        \u001B[1;36m82\u001B[0m │ \u001B[32mT0000000194   \u001B[0m │ \u001B[32mS005   \u001B[0m │        \u001B[1;36m1\u001B[0m │ \u001B[1;36m295000\u001B[0m │ \u001B[35m2019-02-03 18:03:07\u001B[0m │ \u001B[32mHD699115   \u001B[0m │ \u001B[32m小西 まなみ  \u001B[0m │ \u001B[35m2019-01-17 13:30:36\u001B[0m │ \u001B[32mこにし まなみ     \u001B[0m │ \u001B[32mkonishi_manami@example.com \u001B[0m │ \u001B[32mF     \u001B[0m │    \u001B[1;36m54\u001B[0m │ \u001B[35m1964-10-13\u001B[0m │ \u001B[32m岡山県\u001B[0m │ \u001B[32mPC-E     \u001B[0m │     \u001B[1;36m210000\u001B[0m │     \u001B[1;36m210000\u001B[0m │ False         │\n",
       "│        \u001B[1;36m97\u001B[0m │ \u001B[32mT0000000208   \u001B[0m │ \u001B[32mS001   \u001B[0m │        \u001B[1;36m1\u001B[0m │ \u001B[1;36m170000\u001B[0m │ \u001B[35m2019-02-04 00:53:35\u001B[0m │ \u001B[32mAS359364   \u001B[0m │ \u001B[32m大場 知世    \u001B[0m │ \u001B[35m2019-01-28 07:06:51\u001B[0m │ \u001B[32mおおば ちせ       \u001B[0m │ \u001B[32mooba_chise@example.com     \u001B[0m │ \u001B[32mF     \u001B[0m │    \u001B[1;36m64\u001B[0m │ \u001B[35m1955-04-25\u001B[0m │ \u001B[32m千葉県\u001B[0m │ \u001B[32mPC-A     \u001B[0m │      \u001B[1;36m50000\u001B[0m │      \u001B[1;36m50000\u001B[0m │ False         │\n",
       "│       \u001B[1;36m109\u001B[0m │ \u001B[32mT0000000219   \u001B[0m │ \u001B[32mS002   \u001B[0m │        \u001B[1;36m1\u001B[0m │ \u001B[1;36m205000\u001B[0m │ \u001B[35m2019-02-04 09:20:01\u001B[0m │ \u001B[32mHD819739   \u001B[0m │ \u001B[32m塩見 はるか  \u001B[0m │ \u001B[35m2019-01-01 08:17:23\u001B[0m │ \u001B[32mしおみ はるか     \u001B[0m │ \u001B[32mshiomi_haruka@example.com  \u001B[0m │ \u001B[32mF     \u001B[0m │    \u001B[1;36m49\u001B[0m │ \u001B[35m1969-10-08\u001B[0m │ \u001B[32m神奈 …\u001B[0m │ \u001B[32mPC-B     \u001B[0m │      \u001B[1;36m85000\u001B[0m │      \u001B[1;36m85000\u001B[0m │ False         │\n",
       "│       \u001B[1;36m158\u001B[0m │ \u001B[32mT0000000265   \u001B[0m │ \u001B[32mS001   \u001B[0m │        \u001B[1;36m2\u001B[0m │ \u001B[1;36m200000\u001B[0m │ \u001B[35m2019-02-05 10:42:31\u001B[0m │ \u001B[32mGD960920   \u001B[0m │ \u001B[32m近藤 菜摘    \u001B[0m │ \u001B[35m2019-01-17 03:04:03\u001B[0m │ \u001B[32mこんどう なつみ   \u001B[0m │ \u001B[32mkonndou_natsumi@example.com\u001B[0m │ \u001B[32mF     \u001B[0m │    \u001B[1;36m50\u001B[0m │ \u001B[35m1968-09-02\u001B[0m │ \u001B[32m和歌 …\u001B[0m │ \u001B[32mPC-A     \u001B[0m │      \u001B[1;36m50000\u001B[0m │     \u001B[1;36m100000\u001B[0m │ False         │\n",
       "│       \u001B[1;36m239\u001B[0m │ \u001B[32mT0000000343   \u001B[0m │ \u001B[32mS002   \u001B[0m │        \u001B[1;36m1\u001B[0m │ \u001B[1;36m265000\u001B[0m │ \u001B[35m2019-02-07 08:54:17\u001B[0m │ \u001B[32mIK345440   \u001B[0m │ \u001B[32m寺本 ヒカル  \u001B[0m │ \u001B[35m2019-01-24 13:14:32\u001B[0m │ \u001B[32mてらもと ひかる   \u001B[0m │ \u001B[32mteramoto_hikaru@example.com\u001B[0m │ \u001B[32mF     \u001B[0m │    \u001B[1;36m47\u001B[0m │ \u001B[35m1972-03-25\u001B[0m │ \u001B[32m新潟県\u001B[0m │ \u001B[32mPC-B     \u001B[0m │      \u001B[1;36m85000\u001B[0m │      \u001B[1;36m85000\u001B[0m │ False         │\n",
       "└───────────┴────────────────┴─────────┴──────────┴────────┴─────────────────────┴─────────────┴───────────────┴─────────────────────┴────────────────────┴─────────────────────────────┴────────┴───────┴────────────┴────────┴───────────┴────────────┴────────────┴───────────────┘"
      ],
      "text/html": [
       "<pre style=\"white-space:pre;overflow-x:auto;line-height:normal;font-family:Menlo,'DejaVu Sans Mono',consolas,'Courier New',monospace\">┏━━━━━━━━━━━┳━━━━━━━━━━━━━━━━┳━━━━━━━━━┳━━━━━━━━━━┳━━━━━━━━┳━━━━━━━━━━━━━━━━━━━━━┳━━━━━━━━━━━━━┳━━━━━━━━━━━━━━━┳━━━━━━━━━━━━━━━━━━━━━┳━━━━━━━━━━━━━━━━━━━━┳━━━━━━━━━━━━━━━━━━━━━━━━━━━━━┳━━━━━━━━┳━━━━━━━┳━━━━━━━━━━━━┳━━━━━━━━┳━━━━━━━━━━━┳━━━━━━━━━━━━┳━━━━━━━━━━━━┳━━━━━━━━━━━━━━━┓\n",
       "┃<span style=\"font-weight: bold\"> detail_id </span>┃<span style=\"font-weight: bold\"> transaction_id </span>┃<span style=\"font-weight: bold\"> item_id </span>┃<span style=\"font-weight: bold\"> quantity </span>┃<span style=\"font-weight: bold\"> price  </span>┃<span style=\"font-weight: bold\"> payment_date        </span>┃<span style=\"font-weight: bold\"> customer_id </span>┃<span style=\"font-weight: bold\"> customer_name </span>┃<span style=\"font-weight: bold\"> registration_date   </span>┃<span style=\"font-weight: bold\"> customer_name_kana </span>┃<span style=\"font-weight: bold\"> email                       </span>┃<span style=\"font-weight: bold\"> gender </span>┃<span style=\"font-weight: bold\"> age   </span>┃<span style=\"font-weight: bold\"> birth      </span>┃<span style=\"font-weight: bold\"> pref   </span>┃<span style=\"font-weight: bold\"> item_name </span>┃<span style=\"font-weight: bold\"> item_price </span>┃<span style=\"font-weight: bold\"> calc_price </span>┃<span style=\"font-weight: bold\"> compare_price </span>┃\n",
       "┡━━━━━━━━━━━╇━━━━━━━━━━━━━━━━╇━━━━━━━━━╇━━━━━━━━━━╇━━━━━━━━╇━━━━━━━━━━━━━━━━━━━━━╇━━━━━━━━━━━━━╇━━━━━━━━━━━━━━━╇━━━━━━━━━━━━━━━━━━━━━╇━━━━━━━━━━━━━━━━━━━━╇━━━━━━━━━━━━━━━━━━━━━━━━━━━━━╇━━━━━━━━╇━━━━━━━╇━━━━━━━━━━━━╇━━━━━━━━╇━━━━━━━━━━━╇━━━━━━━━━━━━╇━━━━━━━━━━━━╇━━━━━━━━━━━━━━━┩\n",
       "│ <span style=\"color: #7f7f7f; text-decoration-color: #7f7f7f\">int64</span>     │ <span style=\"color: #7f7f7f; text-decoration-color: #7f7f7f\">string</span>         │ <span style=\"color: #7f7f7f; text-decoration-color: #7f7f7f\">string</span>  │ <span style=\"color: #7f7f7f; text-decoration-color: #7f7f7f\">int64</span>    │ <span style=\"color: #7f7f7f; text-decoration-color: #7f7f7f\">int64</span>  │ <span style=\"color: #7f7f7f; text-decoration-color: #7f7f7f\">timestamp</span>           │ <span style=\"color: #7f7f7f; text-decoration-color: #7f7f7f\">string</span>      │ <span style=\"color: #7f7f7f; text-decoration-color: #7f7f7f\">string</span>        │ <span style=\"color: #7f7f7f; text-decoration-color: #7f7f7f\">timestamp</span>           │ <span style=\"color: #7f7f7f; text-decoration-color: #7f7f7f\">string</span>             │ <span style=\"color: #7f7f7f; text-decoration-color: #7f7f7f\">string</span>                      │ <span style=\"color: #7f7f7f; text-decoration-color: #7f7f7f\">string</span> │ <span style=\"color: #7f7f7f; text-decoration-color: #7f7f7f\">int64</span> │ <span style=\"color: #7f7f7f; text-decoration-color: #7f7f7f\">date</span>       │ <span style=\"color: #7f7f7f; text-decoration-color: #7f7f7f\">string</span> │ <span style=\"color: #7f7f7f; text-decoration-color: #7f7f7f\">string</span>    │ <span style=\"color: #7f7f7f; text-decoration-color: #7f7f7f\">int64</span>      │ <span style=\"color: #7f7f7f; text-decoration-color: #7f7f7f\">int64</span>      │ <span style=\"color: #7f7f7f; text-decoration-color: #7f7f7f\">boolean</span>       │\n",
       "├───────────┼────────────────┼─────────┼──────────┼────────┼─────────────────────┼─────────────┼───────────────┼─────────────────────┼────────────────────┼─────────────────────────────┼────────┼───────┼────────────┼────────┼───────────┼────────────┼────────────┼───────────────┤\n",
       "│        <span style=\"color: #008080; text-decoration-color: #008080; font-weight: bold\">82</span> │ <span style=\"color: #008000; text-decoration-color: #008000\">T0000000194   </span> │ <span style=\"color: #008000; text-decoration-color: #008000\">S005   </span> │        <span style=\"color: #008080; text-decoration-color: #008080; font-weight: bold\">1</span> │ <span style=\"color: #008080; text-decoration-color: #008080; font-weight: bold\">295000</span> │ <span style=\"color: #800080; text-decoration-color: #800080\">2019-02-03 18:03:07</span> │ <span style=\"color: #008000; text-decoration-color: #008000\">HD699115   </span> │ <span style=\"color: #008000; text-decoration-color: #008000\">小西 まなみ  </span> │ <span style=\"color: #800080; text-decoration-color: #800080\">2019-01-17 13:30:36</span> │ <span style=\"color: #008000; text-decoration-color: #008000\">こにし まなみ     </span> │ <span style=\"color: #008000; text-decoration-color: #008000\">konishi_manami@example.com </span> │ <span style=\"color: #008000; text-decoration-color: #008000\">F     </span> │    <span style=\"color: #008080; text-decoration-color: #008080; font-weight: bold\">54</span> │ <span style=\"color: #800080; text-decoration-color: #800080\">1964-10-13</span> │ <span style=\"color: #008000; text-decoration-color: #008000\">岡山県</span> │ <span style=\"color: #008000; text-decoration-color: #008000\">PC-E     </span> │     <span style=\"color: #008080; text-decoration-color: #008080; font-weight: bold\">210000</span> │     <span style=\"color: #008080; text-decoration-color: #008080; font-weight: bold\">210000</span> │ False         │\n",
       "│        <span style=\"color: #008080; text-decoration-color: #008080; font-weight: bold\">97</span> │ <span style=\"color: #008000; text-decoration-color: #008000\">T0000000208   </span> │ <span style=\"color: #008000; text-decoration-color: #008000\">S001   </span> │        <span style=\"color: #008080; text-decoration-color: #008080; font-weight: bold\">1</span> │ <span style=\"color: #008080; text-decoration-color: #008080; font-weight: bold\">170000</span> │ <span style=\"color: #800080; text-decoration-color: #800080\">2019-02-04 00:53:35</span> │ <span style=\"color: #008000; text-decoration-color: #008000\">AS359364   </span> │ <span style=\"color: #008000; text-decoration-color: #008000\">大場 知世    </span> │ <span style=\"color: #800080; text-decoration-color: #800080\">2019-01-28 07:06:51</span> │ <span style=\"color: #008000; text-decoration-color: #008000\">おおば ちせ       </span> │ <span style=\"color: #008000; text-decoration-color: #008000\">ooba_chise@example.com     </span> │ <span style=\"color: #008000; text-decoration-color: #008000\">F     </span> │    <span style=\"color: #008080; text-decoration-color: #008080; font-weight: bold\">64</span> │ <span style=\"color: #800080; text-decoration-color: #800080\">1955-04-25</span> │ <span style=\"color: #008000; text-decoration-color: #008000\">千葉県</span> │ <span style=\"color: #008000; text-decoration-color: #008000\">PC-A     </span> │      <span style=\"color: #008080; text-decoration-color: #008080; font-weight: bold\">50000</span> │      <span style=\"color: #008080; text-decoration-color: #008080; font-weight: bold\">50000</span> │ False         │\n",
       "│       <span style=\"color: #008080; text-decoration-color: #008080; font-weight: bold\">109</span> │ <span style=\"color: #008000; text-decoration-color: #008000\">T0000000219   </span> │ <span style=\"color: #008000; text-decoration-color: #008000\">S002   </span> │        <span style=\"color: #008080; text-decoration-color: #008080; font-weight: bold\">1</span> │ <span style=\"color: #008080; text-decoration-color: #008080; font-weight: bold\">205000</span> │ <span style=\"color: #800080; text-decoration-color: #800080\">2019-02-04 09:20:01</span> │ <span style=\"color: #008000; text-decoration-color: #008000\">HD819739   </span> │ <span style=\"color: #008000; text-decoration-color: #008000\">塩見 はるか  </span> │ <span style=\"color: #800080; text-decoration-color: #800080\">2019-01-01 08:17:23</span> │ <span style=\"color: #008000; text-decoration-color: #008000\">しおみ はるか     </span> │ <span style=\"color: #008000; text-decoration-color: #008000\">shiomi_haruka@example.com  </span> │ <span style=\"color: #008000; text-decoration-color: #008000\">F     </span> │    <span style=\"color: #008080; text-decoration-color: #008080; font-weight: bold\">49</span> │ <span style=\"color: #800080; text-decoration-color: #800080\">1969-10-08</span> │ <span style=\"color: #008000; text-decoration-color: #008000\">神奈 …</span> │ <span style=\"color: #008000; text-decoration-color: #008000\">PC-B     </span> │      <span style=\"color: #008080; text-decoration-color: #008080; font-weight: bold\">85000</span> │      <span style=\"color: #008080; text-decoration-color: #008080; font-weight: bold\">85000</span> │ False         │\n",
       "│       <span style=\"color: #008080; text-decoration-color: #008080; font-weight: bold\">158</span> │ <span style=\"color: #008000; text-decoration-color: #008000\">T0000000265   </span> │ <span style=\"color: #008000; text-decoration-color: #008000\">S001   </span> │        <span style=\"color: #008080; text-decoration-color: #008080; font-weight: bold\">2</span> │ <span style=\"color: #008080; text-decoration-color: #008080; font-weight: bold\">200000</span> │ <span style=\"color: #800080; text-decoration-color: #800080\">2019-02-05 10:42:31</span> │ <span style=\"color: #008000; text-decoration-color: #008000\">GD960920   </span> │ <span style=\"color: #008000; text-decoration-color: #008000\">近藤 菜摘    </span> │ <span style=\"color: #800080; text-decoration-color: #800080\">2019-01-17 03:04:03</span> │ <span style=\"color: #008000; text-decoration-color: #008000\">こんどう なつみ   </span> │ <span style=\"color: #008000; text-decoration-color: #008000\">konndou_natsumi@example.com</span> │ <span style=\"color: #008000; text-decoration-color: #008000\">F     </span> │    <span style=\"color: #008080; text-decoration-color: #008080; font-weight: bold\">50</span> │ <span style=\"color: #800080; text-decoration-color: #800080\">1968-09-02</span> │ <span style=\"color: #008000; text-decoration-color: #008000\">和歌 …</span> │ <span style=\"color: #008000; text-decoration-color: #008000\">PC-A     </span> │      <span style=\"color: #008080; text-decoration-color: #008080; font-weight: bold\">50000</span> │     <span style=\"color: #008080; text-decoration-color: #008080; font-weight: bold\">100000</span> │ False         │\n",
       "│       <span style=\"color: #008080; text-decoration-color: #008080; font-weight: bold\">239</span> │ <span style=\"color: #008000; text-decoration-color: #008000\">T0000000343   </span> │ <span style=\"color: #008000; text-decoration-color: #008000\">S002   </span> │        <span style=\"color: #008080; text-decoration-color: #008080; font-weight: bold\">1</span> │ <span style=\"color: #008080; text-decoration-color: #008080; font-weight: bold\">265000</span> │ <span style=\"color: #800080; text-decoration-color: #800080\">2019-02-07 08:54:17</span> │ <span style=\"color: #008000; text-decoration-color: #008000\">IK345440   </span> │ <span style=\"color: #008000; text-decoration-color: #008000\">寺本 ヒカル  </span> │ <span style=\"color: #800080; text-decoration-color: #800080\">2019-01-24 13:14:32</span> │ <span style=\"color: #008000; text-decoration-color: #008000\">てらもと ひかる   </span> │ <span style=\"color: #008000; text-decoration-color: #008000\">teramoto_hikaru@example.com</span> │ <span style=\"color: #008000; text-decoration-color: #008000\">F     </span> │    <span style=\"color: #008080; text-decoration-color: #008080; font-weight: bold\">47</span> │ <span style=\"color: #800080; text-decoration-color: #800080\">1972-03-25</span> │ <span style=\"color: #008000; text-decoration-color: #008000\">新潟県</span> │ <span style=\"color: #008000; text-decoration-color: #008000\">PC-B     </span> │      <span style=\"color: #008080; text-decoration-color: #008080; font-weight: bold\">85000</span> │      <span style=\"color: #008080; text-decoration-color: #008080; font-weight: bold\">85000</span> │ False         │\n",
       "└───────────┴────────────────┴─────────┴──────────┴────────┴─────────────────────┴─────────────┴───────────────┴─────────────────────┴────────────────────┴─────────────────────────────┴────────┴───────┴────────────┴────────┴───────────┴────────────┴────────────┴───────────────┘\n",
       "</pre>\n"
      ]
     },
     "execution_count": 14,
     "metadata": {},
     "output_type": "execute_result"
    }
   ],
   "execution_count": 14
  },
  {
   "metadata": {
    "ExecuteTime": {
     "end_time": "2024-04-15T06:35:24.105606Z",
     "start_time": "2024-04-15T06:35:23.783284Z"
    }
   },
   "cell_type": "code",
   "source": [
    "from ibis import _\n",
    "\n",
    "isnull = sample.aggregate(\n",
    "    s.across(s.all(), _.isnull().sum())\n",
    ")\n",
    "isnull.head(5)"
   ],
   "id": "f8b47685258a2db2",
   "outputs": [
    {
     "data": {
      "text/plain": [
       "┏━━━━━━━━━━━┳━━━━━━━━━━━━━━━━┳━━━━━━━━━┳━━━━━━━━━━┳━━━━━━━┳━━━━━━━━━━━━━━┳━━━━━━━━━━━━━┳━━━━━━━━━━━━━━━┳━━━━━━━━━━━━━━━━━━━┳━━━━━━━━━━━━━━━━━━━━┳━━━━━━━┳━━━━━━━━┳━━━━━━━┳━━━━━━━┳━━━━━━━┳━━━━━━━━━━━┳━━━━━━━━━━━━┳━━━━━━━━━━━━┳━━━━━━━━━━━━━━━┓\n",
       "┃\u001B[1m \u001B[0m\u001B[1mdetail_id\u001B[0m\u001B[1m \u001B[0m┃\u001B[1m \u001B[0m\u001B[1mtransaction_id\u001B[0m\u001B[1m \u001B[0m┃\u001B[1m \u001B[0m\u001B[1mitem_id\u001B[0m\u001B[1m \u001B[0m┃\u001B[1m \u001B[0m\u001B[1mquantity\u001B[0m\u001B[1m \u001B[0m┃\u001B[1m \u001B[0m\u001B[1mprice\u001B[0m\u001B[1m \u001B[0m┃\u001B[1m \u001B[0m\u001B[1mpayment_date\u001B[0m\u001B[1m \u001B[0m┃\u001B[1m \u001B[0m\u001B[1mcustomer_id\u001B[0m\u001B[1m \u001B[0m┃\u001B[1m \u001B[0m\u001B[1mcustomer_name\u001B[0m\u001B[1m \u001B[0m┃\u001B[1m \u001B[0m\u001B[1mregistration_date\u001B[0m\u001B[1m \u001B[0m┃\u001B[1m \u001B[0m\u001B[1mcustomer_name_kana\u001B[0m\u001B[1m \u001B[0m┃\u001B[1m \u001B[0m\u001B[1memail\u001B[0m\u001B[1m \u001B[0m┃\u001B[1m \u001B[0m\u001B[1mgender\u001B[0m\u001B[1m \u001B[0m┃\u001B[1m \u001B[0m\u001B[1mage\u001B[0m\u001B[1m  \u001B[0m\u001B[1m \u001B[0m┃\u001B[1m \u001B[0m\u001B[1mbirth\u001B[0m\u001B[1m \u001B[0m┃\u001B[1m \u001B[0m\u001B[1mpref\u001B[0m\u001B[1m \u001B[0m\u001B[1m \u001B[0m┃\u001B[1m \u001B[0m\u001B[1mitem_name\u001B[0m\u001B[1m \u001B[0m┃\u001B[1m \u001B[0m\u001B[1mitem_price\u001B[0m\u001B[1m \u001B[0m┃\u001B[1m \u001B[0m\u001B[1mcalc_price\u001B[0m\u001B[1m \u001B[0m┃\u001B[1m \u001B[0m\u001B[1mcompare_price\u001B[0m\u001B[1m \u001B[0m┃\n",
       "┡━━━━━━━━━━━╇━━━━━━━━━━━━━━━━╇━━━━━━━━━╇━━━━━━━━━━╇━━━━━━━╇━━━━━━━━━━━━━━╇━━━━━━━━━━━━━╇━━━━━━━━━━━━━━━╇━━━━━━━━━━━━━━━━━━━╇━━━━━━━━━━━━━━━━━━━━╇━━━━━━━╇━━━━━━━━╇━━━━━━━╇━━━━━━━╇━━━━━━━╇━━━━━━━━━━━╇━━━━━━━━━━━━╇━━━━━━━━━━━━╇━━━━━━━━━━━━━━━┩\n",
       "│ \u001B[2mint64\u001B[0m     │ \u001B[2mint64\u001B[0m          │ \u001B[2mint64\u001B[0m   │ \u001B[2mint64\u001B[0m    │ \u001B[2mint64\u001B[0m │ \u001B[2mint64\u001B[0m        │ \u001B[2mint64\u001B[0m       │ \u001B[2mint64\u001B[0m         │ \u001B[2mint64\u001B[0m             │ \u001B[2mint64\u001B[0m              │ \u001B[2mint64\u001B[0m │ \u001B[2mint64\u001B[0m  │ \u001B[2mint64\u001B[0m │ \u001B[2mint64\u001B[0m │ \u001B[2mint64\u001B[0m │ \u001B[2mint64\u001B[0m     │ \u001B[2mint64\u001B[0m      │ \u001B[2mint64\u001B[0m      │ \u001B[2mint64\u001B[0m         │\n",
       "├───────────┼────────────────┼─────────┼──────────┼───────┼──────────────┼─────────────┼───────────────┼───────────────────┼────────────────────┼───────┼────────┼───────┼───────┼───────┼───────────┼────────────┼────────────┼───────────────┤\n",
       "│         \u001B[1;36m0\u001B[0m │              \u001B[1;36m0\u001B[0m │       \u001B[1;36m0\u001B[0m │        \u001B[1;36m0\u001B[0m │     \u001B[1;36m0\u001B[0m │            \u001B[1;36m0\u001B[0m │           \u001B[1;36m0\u001B[0m │             \u001B[1;36m0\u001B[0m │                 \u001B[1;36m0\u001B[0m │                  \u001B[1;36m0\u001B[0m │     \u001B[1;36m0\u001B[0m │      \u001B[1;36m0\u001B[0m │     \u001B[1;36m0\u001B[0m │     \u001B[1;36m0\u001B[0m │     \u001B[1;36m0\u001B[0m │         \u001B[1;36m0\u001B[0m │          \u001B[1;36m0\u001B[0m │          \u001B[1;36m0\u001B[0m │             \u001B[1;36m0\u001B[0m │\n",
       "└───────────┴────────────────┴─────────┴──────────┴───────┴──────────────┴─────────────┴───────────────┴───────────────────┴────────────────────┴───────┴────────┴───────┴───────┴───────┴───────────┴────────────┴────────────┴───────────────┘"
      ],
      "text/html": [
       "<pre style=\"white-space:pre;overflow-x:auto;line-height:normal;font-family:Menlo,'DejaVu Sans Mono',consolas,'Courier New',monospace\">┏━━━━━━━━━━━┳━━━━━━━━━━━━━━━━┳━━━━━━━━━┳━━━━━━━━━━┳━━━━━━━┳━━━━━━━━━━━━━━┳━━━━━━━━━━━━━┳━━━━━━━━━━━━━━━┳━━━━━━━━━━━━━━━━━━━┳━━━━━━━━━━━━━━━━━━━━┳━━━━━━━┳━━━━━━━━┳━━━━━━━┳━━━━━━━┳━━━━━━━┳━━━━━━━━━━━┳━━━━━━━━━━━━┳━━━━━━━━━━━━┳━━━━━━━━━━━━━━━┓\n",
       "┃<span style=\"font-weight: bold\"> detail_id </span>┃<span style=\"font-weight: bold\"> transaction_id </span>┃<span style=\"font-weight: bold\"> item_id </span>┃<span style=\"font-weight: bold\"> quantity </span>┃<span style=\"font-weight: bold\"> price </span>┃<span style=\"font-weight: bold\"> payment_date </span>┃<span style=\"font-weight: bold\"> customer_id </span>┃<span style=\"font-weight: bold\"> customer_name </span>┃<span style=\"font-weight: bold\"> registration_date </span>┃<span style=\"font-weight: bold\"> customer_name_kana </span>┃<span style=\"font-weight: bold\"> email </span>┃<span style=\"font-weight: bold\"> gender </span>┃<span style=\"font-weight: bold\"> age   </span>┃<span style=\"font-weight: bold\"> birth </span>┃<span style=\"font-weight: bold\"> pref  </span>┃<span style=\"font-weight: bold\"> item_name </span>┃<span style=\"font-weight: bold\"> item_price </span>┃<span style=\"font-weight: bold\"> calc_price </span>┃<span style=\"font-weight: bold\"> compare_price </span>┃\n",
       "┡━━━━━━━━━━━╇━━━━━━━━━━━━━━━━╇━━━━━━━━━╇━━━━━━━━━━╇━━━━━━━╇━━━━━━━━━━━━━━╇━━━━━━━━━━━━━╇━━━━━━━━━━━━━━━╇━━━━━━━━━━━━━━━━━━━╇━━━━━━━━━━━━━━━━━━━━╇━━━━━━━╇━━━━━━━━╇━━━━━━━╇━━━━━━━╇━━━━━━━╇━━━━━━━━━━━╇━━━━━━━━━━━━╇━━━━━━━━━━━━╇━━━━━━━━━━━━━━━┩\n",
       "│ <span style=\"color: #7f7f7f; text-decoration-color: #7f7f7f\">int64</span>     │ <span style=\"color: #7f7f7f; text-decoration-color: #7f7f7f\">int64</span>          │ <span style=\"color: #7f7f7f; text-decoration-color: #7f7f7f\">int64</span>   │ <span style=\"color: #7f7f7f; text-decoration-color: #7f7f7f\">int64</span>    │ <span style=\"color: #7f7f7f; text-decoration-color: #7f7f7f\">int64</span> │ <span style=\"color: #7f7f7f; text-decoration-color: #7f7f7f\">int64</span>        │ <span style=\"color: #7f7f7f; text-decoration-color: #7f7f7f\">int64</span>       │ <span style=\"color: #7f7f7f; text-decoration-color: #7f7f7f\">int64</span>         │ <span style=\"color: #7f7f7f; text-decoration-color: #7f7f7f\">int64</span>             │ <span style=\"color: #7f7f7f; text-decoration-color: #7f7f7f\">int64</span>              │ <span style=\"color: #7f7f7f; text-decoration-color: #7f7f7f\">int64</span> │ <span style=\"color: #7f7f7f; text-decoration-color: #7f7f7f\">int64</span>  │ <span style=\"color: #7f7f7f; text-decoration-color: #7f7f7f\">int64</span> │ <span style=\"color: #7f7f7f; text-decoration-color: #7f7f7f\">int64</span> │ <span style=\"color: #7f7f7f; text-decoration-color: #7f7f7f\">int64</span> │ <span style=\"color: #7f7f7f; text-decoration-color: #7f7f7f\">int64</span>     │ <span style=\"color: #7f7f7f; text-decoration-color: #7f7f7f\">int64</span>      │ <span style=\"color: #7f7f7f; text-decoration-color: #7f7f7f\">int64</span>      │ <span style=\"color: #7f7f7f; text-decoration-color: #7f7f7f\">int64</span>         │\n",
       "├───────────┼────────────────┼─────────┼──────────┼───────┼──────────────┼─────────────┼───────────────┼───────────────────┼────────────────────┼───────┼────────┼───────┼───────┼───────┼───────────┼────────────┼────────────┼───────────────┤\n",
       "│         <span style=\"color: #008080; text-decoration-color: #008080; font-weight: bold\">0</span> │              <span style=\"color: #008080; text-decoration-color: #008080; font-weight: bold\">0</span> │       <span style=\"color: #008080; text-decoration-color: #008080; font-weight: bold\">0</span> │        <span style=\"color: #008080; text-decoration-color: #008080; font-weight: bold\">0</span> │     <span style=\"color: #008080; text-decoration-color: #008080; font-weight: bold\">0</span> │            <span style=\"color: #008080; text-decoration-color: #008080; font-weight: bold\">0</span> │           <span style=\"color: #008080; text-decoration-color: #008080; font-weight: bold\">0</span> │             <span style=\"color: #008080; text-decoration-color: #008080; font-weight: bold\">0</span> │                 <span style=\"color: #008080; text-decoration-color: #008080; font-weight: bold\">0</span> │                  <span style=\"color: #008080; text-decoration-color: #008080; font-weight: bold\">0</span> │     <span style=\"color: #008080; text-decoration-color: #008080; font-weight: bold\">0</span> │      <span style=\"color: #008080; text-decoration-color: #008080; font-weight: bold\">0</span> │     <span style=\"color: #008080; text-decoration-color: #008080; font-weight: bold\">0</span> │     <span style=\"color: #008080; text-decoration-color: #008080; font-weight: bold\">0</span> │     <span style=\"color: #008080; text-decoration-color: #008080; font-weight: bold\">0</span> │         <span style=\"color: #008080; text-decoration-color: #008080; font-weight: bold\">0</span> │          <span style=\"color: #008080; text-decoration-color: #008080; font-weight: bold\">0</span> │          <span style=\"color: #008080; text-decoration-color: #008080; font-weight: bold\">0</span> │             <span style=\"color: #008080; text-decoration-color: #008080; font-weight: bold\">0</span> │\n",
       "└───────────┴────────────────┴─────────┴──────────┴───────┴──────────────┴─────────────┴───────────────┴───────────────────┴────────────────────┴───────┴────────┴───────┴───────┴───────┴───────────┴────────────┴────────────┴───────────────┘\n",
       "</pre>\n"
      ]
     },
     "execution_count": 15,
     "metadata": {},
     "output_type": "execute_result"
    }
   ],
   "execution_count": 15
  },
  {
   "metadata": {
    "ExecuteTime": {
     "end_time": "2024-04-15T06:41:34.767444Z",
     "start_time": "2024-04-15T06:41:34.398894Z"
    }
   },
   "cell_type": "code",
   "source": [
    "# 統計計算のための式を作成\n",
    "stats = {\n",
    "    'count': _.count(),\n",
    "    'mean': _.mean(),\n",
    "    'std': _.std(),\n",
    "    'min': _.min(),\n",
    "    'max': _.max(),\n",
    "    'median': _.median(),\n",
    "}\n",
    "\n",
    "result = join_data.aggregate(s.across(s.of_type('int64'), stats))\n",
    "result"
   ],
   "id": "65bc9ebf712212b",
   "outputs": [
    {
     "data": {
      "text/plain": [
       "┏━━━━━━━━━━━━━━━━━┳━━━━━━━━━━━━━━━━┳━━━━━━━━━━━━━┳━━━━━━━━━━━┳━━━━━━━━━━━━━━━━━━┳━━━━━━━━━━━━━━━━━━┳━━━━━━━━━━━━━━━━┳━━━━━━━━━━━━━━━┳━━━━━━━━━━━━━━━┳━━━━━━━━━━━┳━━━━━━━━━━━━━━━━━┳━━━━━━━━━━━━━━━━━┳━━━━━━━━━━━━━━━┳━━━━━━━━━━━━━━┳━━━━━━━━━━━━━━┳━━━━━━━━━━━┳━━━━━━━━━━━━━━━━┳━━━━━━━━━━━━━━━━┳━━━━━━━━━━━━━━━┳━━━━━━━━━━━━━━┳━━━━━━━━━━━┳━━━━━━━━━┳━━━━━━━━━━━━━━━━┳━━━━━━━━━━━━━━━━┳━━━━━━━━━━━━━━━┳━━━━━━━━━━━━━━┳━━━━━━━━━━━┳━━━━━━━━━┳━━━━━━━━━━━━━━━━┳━━━━━━━━━━━━━━━━┳━━━━━━━━━━━━━━━━━━┳━━━━━━━━━━━━━━━━━┳━━━━━━━━━━━━━━┳━━━━━━━━━━━━┳━━━━━━━━━━━━━━━━━━━┳━━━━━━━━━━━━━━━━━━━┓\n",
       "┃\u001B[1m \u001B[0m\u001B[1mdetail_id_count\u001B[0m\u001B[1m \u001B[0m┃\u001B[1m \u001B[0m\u001B[1mquantity_count\u001B[0m\u001B[1m \u001B[0m┃\u001B[1m \u001B[0m\u001B[1mprice_count\u001B[0m\u001B[1m \u001B[0m┃\u001B[1m \u001B[0m\u001B[1mage_count\u001B[0m\u001B[1m \u001B[0m┃\u001B[1m \u001B[0m\u001B[1mitem_price_count\u001B[0m\u001B[1m \u001B[0m┃\u001B[1m \u001B[0m\u001B[1mcalc_price_count\u001B[0m\u001B[1m \u001B[0m┃\u001B[1m \u001B[0m\u001B[1mdetail_id_mean\u001B[0m\u001B[1m \u001B[0m┃\u001B[1m \u001B[0m\u001B[1mquantity_mean\u001B[0m\u001B[1m \u001B[0m┃\u001B[1m \u001B[0m\u001B[1mprice_mean\u001B[0m\u001B[1m   \u001B[0m\u001B[1m \u001B[0m┃\u001B[1m \u001B[0m\u001B[1mage_mean\u001B[0m\u001B[1m \u001B[0m\u001B[1m \u001B[0m┃\u001B[1m \u001B[0m\u001B[1mitem_price_mean\u001B[0m\u001B[1m \u001B[0m┃\u001B[1m \u001B[0m\u001B[1mcalc_price_mean\u001B[0m\u001B[1m \u001B[0m┃\u001B[1m \u001B[0m\u001B[1mdetail_id_std\u001B[0m\u001B[1m \u001B[0m┃\u001B[1m \u001B[0m\u001B[1mquantity_std\u001B[0m\u001B[1m \u001B[0m┃\u001B[1m \u001B[0m\u001B[1mprice_std\u001B[0m\u001B[1m   \u001B[0m\u001B[1m \u001B[0m┃\u001B[1m \u001B[0m\u001B[1mage_std\u001B[0m\u001B[1m  \u001B[0m\u001B[1m \u001B[0m┃\u001B[1m \u001B[0m\u001B[1mitem_price_std\u001B[0m\u001B[1m \u001B[0m┃\u001B[1m \u001B[0m\u001B[1mcalc_price_std\u001B[0m\u001B[1m \u001B[0m┃\u001B[1m \u001B[0m\u001B[1mdetail_id_min\u001B[0m\u001B[1m \u001B[0m┃\u001B[1m \u001B[0m\u001B[1mquantity_min\u001B[0m\u001B[1m \u001B[0m┃\u001B[1m \u001B[0m\u001B[1mprice_min\u001B[0m\u001B[1m \u001B[0m┃\u001B[1m \u001B[0m\u001B[1mage_min\u001B[0m\u001B[1m \u001B[0m┃\u001B[1m \u001B[0m\u001B[1mitem_price_min\u001B[0m\u001B[1m \u001B[0m┃\u001B[1m \u001B[0m\u001B[1mcalc_price_min\u001B[0m\u001B[1m \u001B[0m┃\u001B[1m \u001B[0m\u001B[1mdetail_id_max\u001B[0m\u001B[1m \u001B[0m┃\u001B[1m \u001B[0m\u001B[1mquantity_max\u001B[0m\u001B[1m \u001B[0m┃\u001B[1m \u001B[0m\u001B[1mprice_max\u001B[0m\u001B[1m \u001B[0m┃\u001B[1m \u001B[0m\u001B[1mage_max\u001B[0m\u001B[1m \u001B[0m┃\u001B[1m \u001B[0m\u001B[1mitem_price_max\u001B[0m\u001B[1m \u001B[0m┃\u001B[1m \u001B[0m\u001B[1mcalc_price_max\u001B[0m\u001B[1m \u001B[0m┃\u001B[1m \u001B[0m\u001B[1mdetail_id_median\u001B[0m\u001B[1m \u001B[0m┃\u001B[1m \u001B[0m\u001B[1mquantity_median\u001B[0m\u001B[1m \u001B[0m┃\u001B[1m \u001B[0m\u001B[1mprice_median\u001B[0m\u001B[1m \u001B[0m┃\u001B[1m \u001B[0m\u001B[1mage_median\u001B[0m\u001B[1m \u001B[0m┃\u001B[1m \u001B[0m\u001B[1mitem_price_median\u001B[0m\u001B[1m \u001B[0m┃\u001B[1m \u001B[0m\u001B[1mcalc_price_median\u001B[0m\u001B[1m \u001B[0m┃\n",
       "┡━━━━━━━━━━━━━━━━━╇━━━━━━━━━━━━━━━━╇━━━━━━━━━━━━━╇━━━━━━━━━━━╇━━━━━━━━━━━━━━━━━━╇━━━━━━━━━━━━━━━━━━╇━━━━━━━━━━━━━━━━╇━━━━━━━━━━━━━━━╇━━━━━━━━━━━━━━━╇━━━━━━━━━━━╇━━━━━━━━━━━━━━━━━╇━━━━━━━━━━━━━━━━━╇━━━━━━━━━━━━━━━╇━━━━━━━━━━━━━━╇━━━━━━━━━━━━━━╇━━━━━━━━━━━╇━━━━━━━━━━━━━━━━╇━━━━━━━━━━━━━━━━╇━━━━━━━━━━━━━━━╇━━━━━━━━━━━━━━╇━━━━━━━━━━━╇━━━━━━━━━╇━━━━━━━━━━━━━━━━╇━━━━━━━━━━━━━━━━╇━━━━━━━━━━━━━━━╇━━━━━━━━━━━━━━╇━━━━━━━━━━━╇━━━━━━━━━╇━━━━━━━━━━━━━━━━╇━━━━━━━━━━━━━━━━╇━━━━━━━━━━━━━━━━━━╇━━━━━━━━━━━━━━━━━╇━━━━━━━━━━━━━━╇━━━━━━━━━━━━╇━━━━━━━━━━━━━━━━━━━╇━━━━━━━━━━━━━━━━━━━┩\n",
       "│ \u001B[2mint64\u001B[0m           │ \u001B[2mint64\u001B[0m          │ \u001B[2mint64\u001B[0m       │ \u001B[2mint64\u001B[0m     │ \u001B[2mint64\u001B[0m            │ \u001B[2mint64\u001B[0m            │ \u001B[2mfloat64\u001B[0m        │ \u001B[2mfloat64\u001B[0m       │ \u001B[2mfloat64\u001B[0m       │ \u001B[2mfloat64\u001B[0m   │ \u001B[2mfloat64\u001B[0m         │ \u001B[2mfloat64\u001B[0m         │ \u001B[2mfloat64\u001B[0m       │ \u001B[2mfloat64\u001B[0m      │ \u001B[2mfloat64\u001B[0m      │ \u001B[2mfloat64\u001B[0m   │ \u001B[2mfloat64\u001B[0m        │ \u001B[2mfloat64\u001B[0m        │ \u001B[2mint64\u001B[0m         │ \u001B[2mint64\u001B[0m        │ \u001B[2mint64\u001B[0m     │ \u001B[2mint64\u001B[0m   │ \u001B[2mint64\u001B[0m          │ \u001B[2mint64\u001B[0m          │ \u001B[2mint64\u001B[0m         │ \u001B[2mint64\u001B[0m        │ \u001B[2mint64\u001B[0m     │ \u001B[2mint64\u001B[0m   │ \u001B[2mint64\u001B[0m          │ \u001B[2mint64\u001B[0m          │ \u001B[2mfloat64\u001B[0m          │ \u001B[2mfloat64\u001B[0m         │ \u001B[2mfloat64\u001B[0m      │ \u001B[2mfloat64\u001B[0m    │ \u001B[2mfloat64\u001B[0m           │ \u001B[2mfloat64\u001B[0m           │\n",
       "├─────────────────┼────────────────┼─────────────┼───────────┼──────────────────┼──────────────────┼────────────────┼───────────────┼───────────────┼───────────┼─────────────────┼─────────────────┼───────────────┼──────────────┼──────────────┼───────────┼────────────────┼────────────────┼───────────────┼──────────────┼───────────┼─────────┼────────────────┼────────────────┼───────────────┼──────────────┼───────────┼─────────┼────────────────┼────────────────┼──────────────────┼─────────────────┼──────────────┼────────────┼───────────────────┼───────────────────┤\n",
       "│            \u001B[1;36m7144\u001B[0m │           \u001B[1;36m7144\u001B[0m │        \u001B[1;36m7144\u001B[0m │      \u001B[1;36m7144\u001B[0m │             \u001B[1;36m7144\u001B[0m │             \u001B[1;36m7144\u001B[0m │         \u001B[1;36m3571.5\u001B[0m │      \u001B[1;36m1.199888\u001B[0m │ \u001B[1;36m150440.929451\u001B[0m │ \u001B[1;36m50.265677\u001B[0m │   \u001B[1;36m121698.628219\u001B[0m │   \u001B[1;36m135937.150056\u001B[0m │   \u001B[1;36m2062.439494\u001B[0m │     \u001B[1;36m0.513647\u001B[0m │ \u001B[1;36m85991.561558\u001B[0m │ \u001B[1;36m17.190314\u001B[0m │    \u001B[1;36m64571.31183\u001B[0m │   \u001B[1;36m68511.453297\u001B[0m │             \u001B[1;36m0\u001B[0m │            \u001B[1;36m1\u001B[0m │     \u001B[1;36m50000\u001B[0m │      \u001B[1;36m20\u001B[0m │          \u001B[1;36m50000\u001B[0m │          \u001B[1;36m50000\u001B[0m │          \u001B[1;36m7143\u001B[0m │            \u001B[1;36m4\u001B[0m │    \u001B[1;36m750000\u001B[0m │      \u001B[1;36m80\u001B[0m │         \u001B[1;36m210000\u001B[0m │         \u001B[1;36m420000\u001B[0m │           \u001B[1;36m3571.5\u001B[0m │             \u001B[1;36m1.0\u001B[0m │     \u001B[1;36m135000.0\u001B[0m │       \u001B[1;36m50.0\u001B[0m │          \u001B[1;36m102500.0\u001B[0m │          \u001B[1;36m120000.0\u001B[0m │\n",
       "└─────────────────┴────────────────┴─────────────┴───────────┴──────────────────┴──────────────────┴────────────────┴───────────────┴───────────────┴───────────┴─────────────────┴─────────────────┴───────────────┴──────────────┴──────────────┴───────────┴────────────────┴────────────────┴───────────────┴──────────────┴───────────┴─────────┴────────────────┴────────────────┴───────────────┴──────────────┴───────────┴─────────┴────────────────┴────────────────┴──────────────────┴─────────────────┴──────────────┴────────────┴───────────────────┴───────────────────┘"
      ],
      "text/html": [
       "<pre style=\"white-space:pre;overflow-x:auto;line-height:normal;font-family:Menlo,'DejaVu Sans Mono',consolas,'Courier New',monospace\">┏━━━━━━━━━━━━━━━━━┳━━━━━━━━━━━━━━━━┳━━━━━━━━━━━━━┳━━━━━━━━━━━┳━━━━━━━━━━━━━━━━━━┳━━━━━━━━━━━━━━━━━━┳━━━━━━━━━━━━━━━━┳━━━━━━━━━━━━━━━┳━━━━━━━━━━━━━━━┳━━━━━━━━━━━┳━━━━━━━━━━━━━━━━━┳━━━━━━━━━━━━━━━━━┳━━━━━━━━━━━━━━━┳━━━━━━━━━━━━━━┳━━━━━━━━━━━━━━┳━━━━━━━━━━━┳━━━━━━━━━━━━━━━━┳━━━━━━━━━━━━━━━━┳━━━━━━━━━━━━━━━┳━━━━━━━━━━━━━━┳━━━━━━━━━━━┳━━━━━━━━━┳━━━━━━━━━━━━━━━━┳━━━━━━━━━━━━━━━━┳━━━━━━━━━━━━━━━┳━━━━━━━━━━━━━━┳━━━━━━━━━━━┳━━━━━━━━━┳━━━━━━━━━━━━━━━━┳━━━━━━━━━━━━━━━━┳━━━━━━━━━━━━━━━━━━┳━━━━━━━━━━━━━━━━━┳━━━━━━━━━━━━━━┳━━━━━━━━━━━━┳━━━━━━━━━━━━━━━━━━━┳━━━━━━━━━━━━━━━━━━━┓\n",
       "┃<span style=\"font-weight: bold\"> detail_id_count </span>┃<span style=\"font-weight: bold\"> quantity_count </span>┃<span style=\"font-weight: bold\"> price_count </span>┃<span style=\"font-weight: bold\"> age_count </span>┃<span style=\"font-weight: bold\"> item_price_count </span>┃<span style=\"font-weight: bold\"> calc_price_count </span>┃<span style=\"font-weight: bold\"> detail_id_mean </span>┃<span style=\"font-weight: bold\"> quantity_mean </span>┃<span style=\"font-weight: bold\"> price_mean    </span>┃<span style=\"font-weight: bold\"> age_mean  </span>┃<span style=\"font-weight: bold\"> item_price_mean </span>┃<span style=\"font-weight: bold\"> calc_price_mean </span>┃<span style=\"font-weight: bold\"> detail_id_std </span>┃<span style=\"font-weight: bold\"> quantity_std </span>┃<span style=\"font-weight: bold\"> price_std    </span>┃<span style=\"font-weight: bold\"> age_std   </span>┃<span style=\"font-weight: bold\"> item_price_std </span>┃<span style=\"font-weight: bold\"> calc_price_std </span>┃<span style=\"font-weight: bold\"> detail_id_min </span>┃<span style=\"font-weight: bold\"> quantity_min </span>┃<span style=\"font-weight: bold\"> price_min </span>┃<span style=\"font-weight: bold\"> age_min </span>┃<span style=\"font-weight: bold\"> item_price_min </span>┃<span style=\"font-weight: bold\"> calc_price_min </span>┃<span style=\"font-weight: bold\"> detail_id_max </span>┃<span style=\"font-weight: bold\"> quantity_max </span>┃<span style=\"font-weight: bold\"> price_max </span>┃<span style=\"font-weight: bold\"> age_max </span>┃<span style=\"font-weight: bold\"> item_price_max </span>┃<span style=\"font-weight: bold\"> calc_price_max </span>┃<span style=\"font-weight: bold\"> detail_id_median </span>┃<span style=\"font-weight: bold\"> quantity_median </span>┃<span style=\"font-weight: bold\"> price_median </span>┃<span style=\"font-weight: bold\"> age_median </span>┃<span style=\"font-weight: bold\"> item_price_median </span>┃<span style=\"font-weight: bold\"> calc_price_median </span>┃\n",
       "┡━━━━━━━━━━━━━━━━━╇━━━━━━━━━━━━━━━━╇━━━━━━━━━━━━━╇━━━━━━━━━━━╇━━━━━━━━━━━━━━━━━━╇━━━━━━━━━━━━━━━━━━╇━━━━━━━━━━━━━━━━╇━━━━━━━━━━━━━━━╇━━━━━━━━━━━━━━━╇━━━━━━━━━━━╇━━━━━━━━━━━━━━━━━╇━━━━━━━━━━━━━━━━━╇━━━━━━━━━━━━━━━╇━━━━━━━━━━━━━━╇━━━━━━━━━━━━━━╇━━━━━━━━━━━╇━━━━━━━━━━━━━━━━╇━━━━━━━━━━━━━━━━╇━━━━━━━━━━━━━━━╇━━━━━━━━━━━━━━╇━━━━━━━━━━━╇━━━━━━━━━╇━━━━━━━━━━━━━━━━╇━━━━━━━━━━━━━━━━╇━━━━━━━━━━━━━━━╇━━━━━━━━━━━━━━╇━━━━━━━━━━━╇━━━━━━━━━╇━━━━━━━━━━━━━━━━╇━━━━━━━━━━━━━━━━╇━━━━━━━━━━━━━━━━━━╇━━━━━━━━━━━━━━━━━╇━━━━━━━━━━━━━━╇━━━━━━━━━━━━╇━━━━━━━━━━━━━━━━━━━╇━━━━━━━━━━━━━━━━━━━┩\n",
       "│ <span style=\"color: #7f7f7f; text-decoration-color: #7f7f7f\">int64</span>           │ <span style=\"color: #7f7f7f; text-decoration-color: #7f7f7f\">int64</span>          │ <span style=\"color: #7f7f7f; text-decoration-color: #7f7f7f\">int64</span>       │ <span style=\"color: #7f7f7f; text-decoration-color: #7f7f7f\">int64</span>     │ <span style=\"color: #7f7f7f; text-decoration-color: #7f7f7f\">int64</span>            │ <span style=\"color: #7f7f7f; text-decoration-color: #7f7f7f\">int64</span>            │ <span style=\"color: #7f7f7f; text-decoration-color: #7f7f7f\">float64</span>        │ <span style=\"color: #7f7f7f; text-decoration-color: #7f7f7f\">float64</span>       │ <span style=\"color: #7f7f7f; text-decoration-color: #7f7f7f\">float64</span>       │ <span style=\"color: #7f7f7f; text-decoration-color: #7f7f7f\">float64</span>   │ <span style=\"color: #7f7f7f; text-decoration-color: #7f7f7f\">float64</span>         │ <span style=\"color: #7f7f7f; text-decoration-color: #7f7f7f\">float64</span>         │ <span style=\"color: #7f7f7f; text-decoration-color: #7f7f7f\">float64</span>       │ <span style=\"color: #7f7f7f; text-decoration-color: #7f7f7f\">float64</span>      │ <span style=\"color: #7f7f7f; text-decoration-color: #7f7f7f\">float64</span>      │ <span style=\"color: #7f7f7f; text-decoration-color: #7f7f7f\">float64</span>   │ <span style=\"color: #7f7f7f; text-decoration-color: #7f7f7f\">float64</span>        │ <span style=\"color: #7f7f7f; text-decoration-color: #7f7f7f\">float64</span>        │ <span style=\"color: #7f7f7f; text-decoration-color: #7f7f7f\">int64</span>         │ <span style=\"color: #7f7f7f; text-decoration-color: #7f7f7f\">int64</span>        │ <span style=\"color: #7f7f7f; text-decoration-color: #7f7f7f\">int64</span>     │ <span style=\"color: #7f7f7f; text-decoration-color: #7f7f7f\">int64</span>   │ <span style=\"color: #7f7f7f; text-decoration-color: #7f7f7f\">int64</span>          │ <span style=\"color: #7f7f7f; text-decoration-color: #7f7f7f\">int64</span>          │ <span style=\"color: #7f7f7f; text-decoration-color: #7f7f7f\">int64</span>         │ <span style=\"color: #7f7f7f; text-decoration-color: #7f7f7f\">int64</span>        │ <span style=\"color: #7f7f7f; text-decoration-color: #7f7f7f\">int64</span>     │ <span style=\"color: #7f7f7f; text-decoration-color: #7f7f7f\">int64</span>   │ <span style=\"color: #7f7f7f; text-decoration-color: #7f7f7f\">int64</span>          │ <span style=\"color: #7f7f7f; text-decoration-color: #7f7f7f\">int64</span>          │ <span style=\"color: #7f7f7f; text-decoration-color: #7f7f7f\">float64</span>          │ <span style=\"color: #7f7f7f; text-decoration-color: #7f7f7f\">float64</span>         │ <span style=\"color: #7f7f7f; text-decoration-color: #7f7f7f\">float64</span>      │ <span style=\"color: #7f7f7f; text-decoration-color: #7f7f7f\">float64</span>    │ <span style=\"color: #7f7f7f; text-decoration-color: #7f7f7f\">float64</span>           │ <span style=\"color: #7f7f7f; text-decoration-color: #7f7f7f\">float64</span>           │\n",
       "├─────────────────┼────────────────┼─────────────┼───────────┼──────────────────┼──────────────────┼────────────────┼───────────────┼───────────────┼───────────┼─────────────────┼─────────────────┼───────────────┼──────────────┼──────────────┼───────────┼────────────────┼────────────────┼───────────────┼──────────────┼───────────┼─────────┼────────────────┼────────────────┼───────────────┼──────────────┼───────────┼─────────┼────────────────┼────────────────┼──────────────────┼─────────────────┼──────────────┼────────────┼───────────────────┼───────────────────┤\n",
       "│            <span style=\"color: #008080; text-decoration-color: #008080; font-weight: bold\">7144</span> │           <span style=\"color: #008080; text-decoration-color: #008080; font-weight: bold\">7144</span> │        <span style=\"color: #008080; text-decoration-color: #008080; font-weight: bold\">7144</span> │      <span style=\"color: #008080; text-decoration-color: #008080; font-weight: bold\">7144</span> │             <span style=\"color: #008080; text-decoration-color: #008080; font-weight: bold\">7144</span> │             <span style=\"color: #008080; text-decoration-color: #008080; font-weight: bold\">7144</span> │         <span style=\"color: #008080; text-decoration-color: #008080; font-weight: bold\">3571.5</span> │      <span style=\"color: #008080; text-decoration-color: #008080; font-weight: bold\">1.199888</span> │ <span style=\"color: #008080; text-decoration-color: #008080; font-weight: bold\">150440.929451</span> │ <span style=\"color: #008080; text-decoration-color: #008080; font-weight: bold\">50.265677</span> │   <span style=\"color: #008080; text-decoration-color: #008080; font-weight: bold\">121698.628219</span> │   <span style=\"color: #008080; text-decoration-color: #008080; font-weight: bold\">135937.150056</span> │   <span style=\"color: #008080; text-decoration-color: #008080; font-weight: bold\">2062.439494</span> │     <span style=\"color: #008080; text-decoration-color: #008080; font-weight: bold\">0.513647</span> │ <span style=\"color: #008080; text-decoration-color: #008080; font-weight: bold\">85991.561558</span> │ <span style=\"color: #008080; text-decoration-color: #008080; font-weight: bold\">17.190314</span> │    <span style=\"color: #008080; text-decoration-color: #008080; font-weight: bold\">64571.31183</span> │   <span style=\"color: #008080; text-decoration-color: #008080; font-weight: bold\">68511.453297</span> │             <span style=\"color: #008080; text-decoration-color: #008080; font-weight: bold\">0</span> │            <span style=\"color: #008080; text-decoration-color: #008080; font-weight: bold\">1</span> │     <span style=\"color: #008080; text-decoration-color: #008080; font-weight: bold\">50000</span> │      <span style=\"color: #008080; text-decoration-color: #008080; font-weight: bold\">20</span> │          <span style=\"color: #008080; text-decoration-color: #008080; font-weight: bold\">50000</span> │          <span style=\"color: #008080; text-decoration-color: #008080; font-weight: bold\">50000</span> │          <span style=\"color: #008080; text-decoration-color: #008080; font-weight: bold\">7143</span> │            <span style=\"color: #008080; text-decoration-color: #008080; font-weight: bold\">4</span> │    <span style=\"color: #008080; text-decoration-color: #008080; font-weight: bold\">750000</span> │      <span style=\"color: #008080; text-decoration-color: #008080; font-weight: bold\">80</span> │         <span style=\"color: #008080; text-decoration-color: #008080; font-weight: bold\">210000</span> │         <span style=\"color: #008080; text-decoration-color: #008080; font-weight: bold\">420000</span> │           <span style=\"color: #008080; text-decoration-color: #008080; font-weight: bold\">3571.5</span> │             <span style=\"color: #008080; text-decoration-color: #008080; font-weight: bold\">1.0</span> │     <span style=\"color: #008080; text-decoration-color: #008080; font-weight: bold\">135000.0</span> │       <span style=\"color: #008080; text-decoration-color: #008080; font-weight: bold\">50.0</span> │          <span style=\"color: #008080; text-decoration-color: #008080; font-weight: bold\">102500.0</span> │          <span style=\"color: #008080; text-decoration-color: #008080; font-weight: bold\">120000.0</span> │\n",
       "└─────────────────┴────────────────┴─────────────┴───────────┴──────────────────┴──────────────────┴────────────────┴───────────────┴───────────────┴───────────┴─────────────────┴─────────────────┴───────────────┴──────────────┴──────────────┴───────────┴────────────────┴────────────────┴───────────────┴──────────────┴───────────┴─────────┴────────────────┴────────────────┴───────────────┴──────────────┴───────────┴─────────┴────────────────┴────────────────┴──────────────────┴─────────────────┴──────────────┴────────────┴───────────────────┴───────────────────┘\n",
       "</pre>\n"
      ]
     },
     "execution_count": 19,
     "metadata": {},
     "output_type": "execute_result"
    }
   ],
   "execution_count": 19
  },
  {
   "metadata": {
    "ExecuteTime": {
     "end_time": "2024-04-15T06:44:48.319145Z",
     "start_time": "2024-04-15T06:44:47.918719Z"
    }
   },
   "cell_type": "code",
   "source": [
    "join_data = join_data.mutate(payment_date=_.payment_date.cast('timestamp'))\n",
    "join_data.head()"
   ],
   "id": "cf5d6d508f44e17",
   "outputs": [
    {
     "data": {
      "text/plain": [
       "┏━━━━━━━━━━━┳━━━━━━━━━━━━━━━━┳━━━━━━━━━┳━━━━━━━━━━┳━━━━━━━━┳━━━━━━━━━━━━━━━━━━━━━┳━━━━━━━━━━━━━┳━━━━━━━━━━━━━━━┳━━━━━━━━━━━━━━━━━━━━━┳━━━━━━━━━━━━━━━━━━━━┳━━━━━━━━━━━━━━━━━━━━━━━━━━━━━━━━┳━━━━━━━━┳━━━━━━━┳━━━━━━━━━━━━┳━━━━━━━━┳━━━━━━━━━━━┳━━━━━━━━━━━━┳━━━━━━━━━━━━┳━━━━━━━━━━━━━━━┓\n",
       "┃\u001B[1m \u001B[0m\u001B[1mdetail_id\u001B[0m\u001B[1m \u001B[0m┃\u001B[1m \u001B[0m\u001B[1mtransaction_id\u001B[0m\u001B[1m \u001B[0m┃\u001B[1m \u001B[0m\u001B[1mitem_id\u001B[0m\u001B[1m \u001B[0m┃\u001B[1m \u001B[0m\u001B[1mquantity\u001B[0m\u001B[1m \u001B[0m┃\u001B[1m \u001B[0m\u001B[1mprice\u001B[0m\u001B[1m \u001B[0m\u001B[1m \u001B[0m┃\u001B[1m \u001B[0m\u001B[1mpayment_date\u001B[0m\u001B[1m       \u001B[0m\u001B[1m \u001B[0m┃\u001B[1m \u001B[0m\u001B[1mcustomer_id\u001B[0m\u001B[1m \u001B[0m┃\u001B[1m \u001B[0m\u001B[1mcustomer_name\u001B[0m\u001B[1m \u001B[0m┃\u001B[1m \u001B[0m\u001B[1mregistration_date\u001B[0m\u001B[1m  \u001B[0m\u001B[1m \u001B[0m┃\u001B[1m \u001B[0m\u001B[1mcustomer_name_kana\u001B[0m\u001B[1m \u001B[0m┃\u001B[1m \u001B[0m\u001B[1memail\u001B[0m\u001B[1m                         \u001B[0m\u001B[1m \u001B[0m┃\u001B[1m \u001B[0m\u001B[1mgender\u001B[0m\u001B[1m \u001B[0m┃\u001B[1m \u001B[0m\u001B[1mage\u001B[0m\u001B[1m  \u001B[0m\u001B[1m \u001B[0m┃\u001B[1m \u001B[0m\u001B[1mbirth\u001B[0m\u001B[1m     \u001B[0m\u001B[1m \u001B[0m┃\u001B[1m \u001B[0m\u001B[1mpref\u001B[0m\u001B[1m  \u001B[0m\u001B[1m \u001B[0m┃\u001B[1m \u001B[0m\u001B[1mitem_name\u001B[0m\u001B[1m \u001B[0m┃\u001B[1m \u001B[0m\u001B[1mitem_price\u001B[0m\u001B[1m \u001B[0m┃\u001B[1m \u001B[0m\u001B[1mcalc_price\u001B[0m\u001B[1m \u001B[0m┃\u001B[1m \u001B[0m\u001B[1mpayment_month\u001B[0m\u001B[1m \u001B[0m┃\n",
       "┡━━━━━━━━━━━╇━━━━━━━━━━━━━━━━╇━━━━━━━━━╇━━━━━━━━━━╇━━━━━━━━╇━━━━━━━━━━━━━━━━━━━━━╇━━━━━━━━━━━━━╇━━━━━━━━━━━━━━━╇━━━━━━━━━━━━━━━━━━━━━╇━━━━━━━━━━━━━━━━━━━━╇━━━━━━━━━━━━━━━━━━━━━━━━━━━━━━━━╇━━━━━━━━╇━━━━━━━╇━━━━━━━━━━━━╇━━━━━━━━╇━━━━━━━━━━━╇━━━━━━━━━━━━╇━━━━━━━━━━━━╇━━━━━━━━━━━━━━━┩\n",
       "│ \u001B[2mint64\u001B[0m     │ \u001B[2mstring\u001B[0m         │ \u001B[2mstring\u001B[0m  │ \u001B[2mint64\u001B[0m    │ \u001B[2mint64\u001B[0m  │ \u001B[2mtimestamp\u001B[0m           │ \u001B[2mstring\u001B[0m      │ \u001B[2mstring\u001B[0m        │ \u001B[2mtimestamp\u001B[0m           │ \u001B[2mstring\u001B[0m             │ \u001B[2mstring\u001B[0m                         │ \u001B[2mstring\u001B[0m │ \u001B[2mint64\u001B[0m │ \u001B[2mdate\u001B[0m       │ \u001B[2mstring\u001B[0m │ \u001B[2mstring\u001B[0m    │ \u001B[2mint64\u001B[0m      │ \u001B[2mint64\u001B[0m      │ \u001B[2mstring\u001B[0m        │\n",
       "├───────────┼────────────────┼─────────┼──────────┼────────┼─────────────────────┼─────────────┼───────────────┼─────────────────────┼────────────────────┼────────────────────────────────┼────────┼───────┼────────────┼────────┼───────────┼────────────┼────────────┼───────────────┤\n",
       "│         \u001B[1;36m0\u001B[0m │ \u001B[32mT0000000113   \u001B[0m │ \u001B[32mS005   \u001B[0m │        \u001B[1;36m1\u001B[0m │ \u001B[1;36m210000\u001B[0m │ \u001B[35m2019-02-01 01:36:57\u001B[0m │ \u001B[32mPL563502   \u001B[0m │ \u001B[32m井本 芳正    \u001B[0m │ \u001B[35m2019-01-07 14:34:35\u001B[0m │ \u001B[32mいもと よしまさ   \u001B[0m │ \u001B[32mimoto_yoshimasa@example.com   \u001B[0m │ \u001B[32mM     \u001B[0m │    \u001B[1;36m30\u001B[0m │ \u001B[35m1989-07-15\u001B[0m │ \u001B[32m熊本県\u001B[0m │ \u001B[32mPC-E     \u001B[0m │     \u001B[1;36m210000\u001B[0m │     \u001B[1;36m210000\u001B[0m │ \u001B[32m2019-02      \u001B[0m │\n",
       "│         \u001B[1;36m1\u001B[0m │ \u001B[32mT0000000114   \u001B[0m │ \u001B[32mS001   \u001B[0m │        \u001B[1;36m1\u001B[0m │  \u001B[1;36m50000\u001B[0m │ \u001B[35m2019-02-01 01:37:23\u001B[0m │ \u001B[32mHD678019   \u001B[0m │ \u001B[32m三船 六郎    \u001B[0m │ \u001B[35m2019-01-27 18:00:11\u001B[0m │ \u001B[32mみふね ろくろう   \u001B[0m │ \u001B[32mmifune_rokurou@example.com    \u001B[0m │ \u001B[32mM     \u001B[0m │    \u001B[1;36m73\u001B[0m │ \u001B[35m1945-11-29\u001B[0m │ \u001B[32m京都府\u001B[0m │ \u001B[32mPC-A     \u001B[0m │      \u001B[1;36m50000\u001B[0m │      \u001B[1;36m50000\u001B[0m │ \u001B[32m2019-02      \u001B[0m │\n",
       "│         \u001B[1;36m3\u001B[0m │ \u001B[32mT0000000116   \u001B[0m │ \u001B[32mS005   \u001B[0m │        \u001B[1;36m1\u001B[0m │ \u001B[1;36m210000\u001B[0m │ \u001B[35m2019-02-01 02:47:23\u001B[0m │ \u001B[32mIK452215   \u001B[0m │ \u001B[32m池田 菜摘    \u001B[0m │ \u001B[35m2019-01-10 05:07:38\u001B[0m │ \u001B[32mいけだ なつみ     \u001B[0m │ \u001B[32mikeda_natsumi@example.com     \u001B[0m │ \u001B[32mF     \u001B[0m │    \u001B[1;36m47\u001B[0m │ \u001B[35m1972-03-17\u001B[0m │ \u001B[32m兵庫県\u001B[0m │ \u001B[32mPC-E     \u001B[0m │     \u001B[1;36m210000\u001B[0m │     \u001B[1;36m210000\u001B[0m │ \u001B[32m2019-02      \u001B[0m │\n",
       "│         \u001B[1;36m4\u001B[0m │ \u001B[32mT0000000117   \u001B[0m │ \u001B[32mS002   \u001B[0m │        \u001B[1;36m2\u001B[0m │ \u001B[1;36m170000\u001B[0m │ \u001B[35m2019-02-01 04:33:46\u001B[0m │ \u001B[32mPL542865   \u001B[0m │ \u001B[32m栗田 憲一    \u001B[0m │ \u001B[35m2019-01-25 06:46:05\u001B[0m │ \u001B[32mくりた けんいち   \u001B[0m │ \u001B[32mkurita_kenichi@example.com    \u001B[0m │ \u001B[32mM     \u001B[0m │    \u001B[1;36m74\u001B[0m │ \u001B[35m1944-12-17\u001B[0m │ \u001B[32m長崎県\u001B[0m │ \u001B[32mPC-B     \u001B[0m │      \u001B[1;36m85000\u001B[0m │     \u001B[1;36m170000\u001B[0m │ \u001B[32m2019-02      \u001B[0m │\n",
       "│         \u001B[1;36m5\u001B[0m │ \u001B[32mT0000000118   \u001B[0m │ \u001B[32mS003   \u001B[0m │        \u001B[1;36m1\u001B[0m │ \u001B[1;36m120000\u001B[0m │ \u001B[35m2019-02-01 04:36:50\u001B[0m │ \u001B[32mGD372798   \u001B[0m │ \u001B[32m藤村 充則    \u001B[0m │ \u001B[35m2019-01-24 07:40:30\u001B[0m │ \u001B[32mふじむら みつのり \u001B[0m │ \u001B[32mfujimura_mitsunori@example.com\u001B[0m │ \u001B[32mM     \u001B[0m │    \u001B[1;36m36\u001B[0m │ \u001B[35m1983-07-18\u001B[0m │ \u001B[32m福島県\u001B[0m │ \u001B[32mPC-C     \u001B[0m │     \u001B[1;36m120000\u001B[0m │     \u001B[1;36m120000\u001B[0m │ \u001B[32m2019-02      \u001B[0m │\n",
       "└───────────┴────────────────┴─────────┴──────────┴────────┴─────────────────────┴─────────────┴───────────────┴─────────────────────┴────────────────────┴────────────────────────────────┴────────┴───────┴────────────┴────────┴───────────┴────────────┴────────────┴───────────────┘"
      ],
      "text/html": [
       "<pre style=\"white-space:pre;overflow-x:auto;line-height:normal;font-family:Menlo,'DejaVu Sans Mono',consolas,'Courier New',monospace\">┏━━━━━━━━━━━┳━━━━━━━━━━━━━━━━┳━━━━━━━━━┳━━━━━━━━━━┳━━━━━━━━┳━━━━━━━━━━━━━━━━━━━━━┳━━━━━━━━━━━━━┳━━━━━━━━━━━━━━━┳━━━━━━━━━━━━━━━━━━━━━┳━━━━━━━━━━━━━━━━━━━━┳━━━━━━━━━━━━━━━━━━━━━━━━━━━━━━━━┳━━━━━━━━┳━━━━━━━┳━━━━━━━━━━━━┳━━━━━━━━┳━━━━━━━━━━━┳━━━━━━━━━━━━┳━━━━━━━━━━━━┳━━━━━━━━━━━━━━━┓\n",
       "┃<span style=\"font-weight: bold\"> detail_id </span>┃<span style=\"font-weight: bold\"> transaction_id </span>┃<span style=\"font-weight: bold\"> item_id </span>┃<span style=\"font-weight: bold\"> quantity </span>┃<span style=\"font-weight: bold\"> price  </span>┃<span style=\"font-weight: bold\"> payment_date        </span>┃<span style=\"font-weight: bold\"> customer_id </span>┃<span style=\"font-weight: bold\"> customer_name </span>┃<span style=\"font-weight: bold\"> registration_date   </span>┃<span style=\"font-weight: bold\"> customer_name_kana </span>┃<span style=\"font-weight: bold\"> email                          </span>┃<span style=\"font-weight: bold\"> gender </span>┃<span style=\"font-weight: bold\"> age   </span>┃<span style=\"font-weight: bold\"> birth      </span>┃<span style=\"font-weight: bold\"> pref   </span>┃<span style=\"font-weight: bold\"> item_name </span>┃<span style=\"font-weight: bold\"> item_price </span>┃<span style=\"font-weight: bold\"> calc_price </span>┃<span style=\"font-weight: bold\"> payment_month </span>┃\n",
       "┡━━━━━━━━━━━╇━━━━━━━━━━━━━━━━╇━━━━━━━━━╇━━━━━━━━━━╇━━━━━━━━╇━━━━━━━━━━━━━━━━━━━━━╇━━━━━━━━━━━━━╇━━━━━━━━━━━━━━━╇━━━━━━━━━━━━━━━━━━━━━╇━━━━━━━━━━━━━━━━━━━━╇━━━━━━━━━━━━━━━━━━━━━━━━━━━━━━━━╇━━━━━━━━╇━━━━━━━╇━━━━━━━━━━━━╇━━━━━━━━╇━━━━━━━━━━━╇━━━━━━━━━━━━╇━━━━━━━━━━━━╇━━━━━━━━━━━━━━━┩\n",
       "│ <span style=\"color: #7f7f7f; text-decoration-color: #7f7f7f\">int64</span>     │ <span style=\"color: #7f7f7f; text-decoration-color: #7f7f7f\">string</span>         │ <span style=\"color: #7f7f7f; text-decoration-color: #7f7f7f\">string</span>  │ <span style=\"color: #7f7f7f; text-decoration-color: #7f7f7f\">int64</span>    │ <span style=\"color: #7f7f7f; text-decoration-color: #7f7f7f\">int64</span>  │ <span style=\"color: #7f7f7f; text-decoration-color: #7f7f7f\">timestamp</span>           │ <span style=\"color: #7f7f7f; text-decoration-color: #7f7f7f\">string</span>      │ <span style=\"color: #7f7f7f; text-decoration-color: #7f7f7f\">string</span>        │ <span style=\"color: #7f7f7f; text-decoration-color: #7f7f7f\">timestamp</span>           │ <span style=\"color: #7f7f7f; text-decoration-color: #7f7f7f\">string</span>             │ <span style=\"color: #7f7f7f; text-decoration-color: #7f7f7f\">string</span>                         │ <span style=\"color: #7f7f7f; text-decoration-color: #7f7f7f\">string</span> │ <span style=\"color: #7f7f7f; text-decoration-color: #7f7f7f\">int64</span> │ <span style=\"color: #7f7f7f; text-decoration-color: #7f7f7f\">date</span>       │ <span style=\"color: #7f7f7f; text-decoration-color: #7f7f7f\">string</span> │ <span style=\"color: #7f7f7f; text-decoration-color: #7f7f7f\">string</span>    │ <span style=\"color: #7f7f7f; text-decoration-color: #7f7f7f\">int64</span>      │ <span style=\"color: #7f7f7f; text-decoration-color: #7f7f7f\">int64</span>      │ <span style=\"color: #7f7f7f; text-decoration-color: #7f7f7f\">string</span>        │\n",
       "├───────────┼────────────────┼─────────┼──────────┼────────┼─────────────────────┼─────────────┼───────────────┼─────────────────────┼────────────────────┼────────────────────────────────┼────────┼───────┼────────────┼────────┼───────────┼────────────┼────────────┼───────────────┤\n",
       "│         <span style=\"color: #008080; text-decoration-color: #008080; font-weight: bold\">0</span> │ <span style=\"color: #008000; text-decoration-color: #008000\">T0000000113   </span> │ <span style=\"color: #008000; text-decoration-color: #008000\">S005   </span> │        <span style=\"color: #008080; text-decoration-color: #008080; font-weight: bold\">1</span> │ <span style=\"color: #008080; text-decoration-color: #008080; font-weight: bold\">210000</span> │ <span style=\"color: #800080; text-decoration-color: #800080\">2019-02-01 01:36:57</span> │ <span style=\"color: #008000; text-decoration-color: #008000\">PL563502   </span> │ <span style=\"color: #008000; text-decoration-color: #008000\">井本 芳正    </span> │ <span style=\"color: #800080; text-decoration-color: #800080\">2019-01-07 14:34:35</span> │ <span style=\"color: #008000; text-decoration-color: #008000\">いもと よしまさ   </span> │ <span style=\"color: #008000; text-decoration-color: #008000\">imoto_yoshimasa@example.com   </span> │ <span style=\"color: #008000; text-decoration-color: #008000\">M     </span> │    <span style=\"color: #008080; text-decoration-color: #008080; font-weight: bold\">30</span> │ <span style=\"color: #800080; text-decoration-color: #800080\">1989-07-15</span> │ <span style=\"color: #008000; text-decoration-color: #008000\">熊本県</span> │ <span style=\"color: #008000; text-decoration-color: #008000\">PC-E     </span> │     <span style=\"color: #008080; text-decoration-color: #008080; font-weight: bold\">210000</span> │     <span style=\"color: #008080; text-decoration-color: #008080; font-weight: bold\">210000</span> │ <span style=\"color: #008000; text-decoration-color: #008000\">2019-02      </span> │\n",
       "│         <span style=\"color: #008080; text-decoration-color: #008080; font-weight: bold\">1</span> │ <span style=\"color: #008000; text-decoration-color: #008000\">T0000000114   </span> │ <span style=\"color: #008000; text-decoration-color: #008000\">S001   </span> │        <span style=\"color: #008080; text-decoration-color: #008080; font-weight: bold\">1</span> │  <span style=\"color: #008080; text-decoration-color: #008080; font-weight: bold\">50000</span> │ <span style=\"color: #800080; text-decoration-color: #800080\">2019-02-01 01:37:23</span> │ <span style=\"color: #008000; text-decoration-color: #008000\">HD678019   </span> │ <span style=\"color: #008000; text-decoration-color: #008000\">三船 六郎    </span> │ <span style=\"color: #800080; text-decoration-color: #800080\">2019-01-27 18:00:11</span> │ <span style=\"color: #008000; text-decoration-color: #008000\">みふね ろくろう   </span> │ <span style=\"color: #008000; text-decoration-color: #008000\">mifune_rokurou@example.com    </span> │ <span style=\"color: #008000; text-decoration-color: #008000\">M     </span> │    <span style=\"color: #008080; text-decoration-color: #008080; font-weight: bold\">73</span> │ <span style=\"color: #800080; text-decoration-color: #800080\">1945-11-29</span> │ <span style=\"color: #008000; text-decoration-color: #008000\">京都府</span> │ <span style=\"color: #008000; text-decoration-color: #008000\">PC-A     </span> │      <span style=\"color: #008080; text-decoration-color: #008080; font-weight: bold\">50000</span> │      <span style=\"color: #008080; text-decoration-color: #008080; font-weight: bold\">50000</span> │ <span style=\"color: #008000; text-decoration-color: #008000\">2019-02      </span> │\n",
       "│         <span style=\"color: #008080; text-decoration-color: #008080; font-weight: bold\">3</span> │ <span style=\"color: #008000; text-decoration-color: #008000\">T0000000116   </span> │ <span style=\"color: #008000; text-decoration-color: #008000\">S005   </span> │        <span style=\"color: #008080; text-decoration-color: #008080; font-weight: bold\">1</span> │ <span style=\"color: #008080; text-decoration-color: #008080; font-weight: bold\">210000</span> │ <span style=\"color: #800080; text-decoration-color: #800080\">2019-02-01 02:47:23</span> │ <span style=\"color: #008000; text-decoration-color: #008000\">IK452215   </span> │ <span style=\"color: #008000; text-decoration-color: #008000\">池田 菜摘    </span> │ <span style=\"color: #800080; text-decoration-color: #800080\">2019-01-10 05:07:38</span> │ <span style=\"color: #008000; text-decoration-color: #008000\">いけだ なつみ     </span> │ <span style=\"color: #008000; text-decoration-color: #008000\">ikeda_natsumi@example.com     </span> │ <span style=\"color: #008000; text-decoration-color: #008000\">F     </span> │    <span style=\"color: #008080; text-decoration-color: #008080; font-weight: bold\">47</span> │ <span style=\"color: #800080; text-decoration-color: #800080\">1972-03-17</span> │ <span style=\"color: #008000; text-decoration-color: #008000\">兵庫県</span> │ <span style=\"color: #008000; text-decoration-color: #008000\">PC-E     </span> │     <span style=\"color: #008080; text-decoration-color: #008080; font-weight: bold\">210000</span> │     <span style=\"color: #008080; text-decoration-color: #008080; font-weight: bold\">210000</span> │ <span style=\"color: #008000; text-decoration-color: #008000\">2019-02      </span> │\n",
       "│         <span style=\"color: #008080; text-decoration-color: #008080; font-weight: bold\">4</span> │ <span style=\"color: #008000; text-decoration-color: #008000\">T0000000117   </span> │ <span style=\"color: #008000; text-decoration-color: #008000\">S002   </span> │        <span style=\"color: #008080; text-decoration-color: #008080; font-weight: bold\">2</span> │ <span style=\"color: #008080; text-decoration-color: #008080; font-weight: bold\">170000</span> │ <span style=\"color: #800080; text-decoration-color: #800080\">2019-02-01 04:33:46</span> │ <span style=\"color: #008000; text-decoration-color: #008000\">PL542865   </span> │ <span style=\"color: #008000; text-decoration-color: #008000\">栗田 憲一    </span> │ <span style=\"color: #800080; text-decoration-color: #800080\">2019-01-25 06:46:05</span> │ <span style=\"color: #008000; text-decoration-color: #008000\">くりた けんいち   </span> │ <span style=\"color: #008000; text-decoration-color: #008000\">kurita_kenichi@example.com    </span> │ <span style=\"color: #008000; text-decoration-color: #008000\">M     </span> │    <span style=\"color: #008080; text-decoration-color: #008080; font-weight: bold\">74</span> │ <span style=\"color: #800080; text-decoration-color: #800080\">1944-12-17</span> │ <span style=\"color: #008000; text-decoration-color: #008000\">長崎県</span> │ <span style=\"color: #008000; text-decoration-color: #008000\">PC-B     </span> │      <span style=\"color: #008080; text-decoration-color: #008080; font-weight: bold\">85000</span> │     <span style=\"color: #008080; text-decoration-color: #008080; font-weight: bold\">170000</span> │ <span style=\"color: #008000; text-decoration-color: #008000\">2019-02      </span> │\n",
       "│         <span style=\"color: #008080; text-decoration-color: #008080; font-weight: bold\">5</span> │ <span style=\"color: #008000; text-decoration-color: #008000\">T0000000118   </span> │ <span style=\"color: #008000; text-decoration-color: #008000\">S003   </span> │        <span style=\"color: #008080; text-decoration-color: #008080; font-weight: bold\">1</span> │ <span style=\"color: #008080; text-decoration-color: #008080; font-weight: bold\">120000</span> │ <span style=\"color: #800080; text-decoration-color: #800080\">2019-02-01 04:36:50</span> │ <span style=\"color: #008000; text-decoration-color: #008000\">GD372798   </span> │ <span style=\"color: #008000; text-decoration-color: #008000\">藤村 充則    </span> │ <span style=\"color: #800080; text-decoration-color: #800080\">2019-01-24 07:40:30</span> │ <span style=\"color: #008000; text-decoration-color: #008000\">ふじむら みつのり </span> │ <span style=\"color: #008000; text-decoration-color: #008000\">fujimura_mitsunori@example.com</span> │ <span style=\"color: #008000; text-decoration-color: #008000\">M     </span> │    <span style=\"color: #008080; text-decoration-color: #008080; font-weight: bold\">36</span> │ <span style=\"color: #800080; text-decoration-color: #800080\">1983-07-18</span> │ <span style=\"color: #008000; text-decoration-color: #008000\">福島県</span> │ <span style=\"color: #008000; text-decoration-color: #008000\">PC-C     </span> │     <span style=\"color: #008080; text-decoration-color: #008080; font-weight: bold\">120000</span> │     <span style=\"color: #008080; text-decoration-color: #008080; font-weight: bold\">120000</span> │ <span style=\"color: #008000; text-decoration-color: #008000\">2019-02      </span> │\n",
       "└───────────┴────────────────┴─────────┴──────────┴────────┴─────────────────────┴─────────────┴───────────────┴─────────────────────┴────────────────────┴────────────────────────────────┴────────┴───────┴────────────┴────────┴───────────┴────────────┴────────────┴───────────────┘\n",
       "</pre>\n"
      ]
     },
     "execution_count": 22,
     "metadata": {},
     "output_type": "execute_result"
    }
   ],
   "execution_count": 22
  },
  {
   "metadata": {
    "ExecuteTime": {
     "end_time": "2024-04-15T06:45:23.471355Z",
     "start_time": "2024-04-15T06:45:23.028185Z"
    }
   },
   "cell_type": "code",
   "source": [
    "join_data = join_data.mutate(payment_month=_.payment_date.strftime('%Y%m'))\n",
    "join_data.select(['payment_date', 'payment_month']).head()"
   ],
   "id": "74a176ac75aceef0",
   "outputs": [
    {
     "data": {
      "text/plain": [
       "┏━━━━━━━━━━━━━━━━━━━━━┳━━━━━━━━━━━━━━━┓\n",
       "┃\u001B[1m \u001B[0m\u001B[1mpayment_date\u001B[0m\u001B[1m       \u001B[0m\u001B[1m \u001B[0m┃\u001B[1m \u001B[0m\u001B[1mpayment_month\u001B[0m\u001B[1m \u001B[0m┃\n",
       "┡━━━━━━━━━━━━━━━━━━━━━╇━━━━━━━━━━━━━━━┩\n",
       "│ \u001B[2mtimestamp\u001B[0m           │ \u001B[2mstring\u001B[0m        │\n",
       "├─────────────────────┼───────────────┤\n",
       "│ \u001B[35m2019-02-01 01:36:57\u001B[0m │ \u001B[32m201902       \u001B[0m │\n",
       "│ \u001B[35m2019-02-01 01:37:23\u001B[0m │ \u001B[32m201902       \u001B[0m │\n",
       "│ \u001B[35m2019-02-01 02:47:23\u001B[0m │ \u001B[32m201902       \u001B[0m │\n",
       "│ \u001B[35m2019-02-01 04:33:46\u001B[0m │ \u001B[32m201902       \u001B[0m │\n",
       "│ \u001B[35m2019-02-01 04:36:50\u001B[0m │ \u001B[32m201902       \u001B[0m │\n",
       "└─────────────────────┴───────────────┘"
      ],
      "text/html": [
       "<pre style=\"white-space:pre;overflow-x:auto;line-height:normal;font-family:Menlo,'DejaVu Sans Mono',consolas,'Courier New',monospace\">┏━━━━━━━━━━━━━━━━━━━━━┳━━━━━━━━━━━━━━━┓\n",
       "┃<span style=\"font-weight: bold\"> payment_date        </span>┃<span style=\"font-weight: bold\"> payment_month </span>┃\n",
       "┡━━━━━━━━━━━━━━━━━━━━━╇━━━━━━━━━━━━━━━┩\n",
       "│ <span style=\"color: #7f7f7f; text-decoration-color: #7f7f7f\">timestamp</span>           │ <span style=\"color: #7f7f7f; text-decoration-color: #7f7f7f\">string</span>        │\n",
       "├─────────────────────┼───────────────┤\n",
       "│ <span style=\"color: #800080; text-decoration-color: #800080\">2019-02-01 01:36:57</span> │ <span style=\"color: #008000; text-decoration-color: #008000\">201902       </span> │\n",
       "│ <span style=\"color: #800080; text-decoration-color: #800080\">2019-02-01 01:37:23</span> │ <span style=\"color: #008000; text-decoration-color: #008000\">201902       </span> │\n",
       "│ <span style=\"color: #800080; text-decoration-color: #800080\">2019-02-01 02:47:23</span> │ <span style=\"color: #008000; text-decoration-color: #008000\">201902       </span> │\n",
       "│ <span style=\"color: #800080; text-decoration-color: #800080\">2019-02-01 04:33:46</span> │ <span style=\"color: #008000; text-decoration-color: #008000\">201902       </span> │\n",
       "│ <span style=\"color: #800080; text-decoration-color: #800080\">2019-02-01 04:36:50</span> │ <span style=\"color: #008000; text-decoration-color: #008000\">201902       </span> │\n",
       "└─────────────────────┴───────────────┘\n",
       "</pre>\n"
      ]
     },
     "execution_count": 24,
     "metadata": {},
     "output_type": "execute_result"
    }
   ],
   "execution_count": 24
  },
  {
   "metadata": {
    "ExecuteTime": {
     "end_time": "2024-04-15T06:46:10.149243Z",
     "start_time": "2024-04-15T06:46:09.790334Z"
    }
   },
   "cell_type": "code",
   "source": [
    "join_data.group_by('payment_month').aggregate(\n",
    "    total_price=_.calc_price.sum()\n",
    ").order_by('payment_month').head()"
   ],
   "id": "dc4b2fc08473f763",
   "outputs": [
    {
     "data": {
      "text/plain": [
       "┏━━━━━━━━━━━━━━━┳━━━━━━━━━━━━━┓\n",
       "┃\u001B[1m \u001B[0m\u001B[1mpayment_month\u001B[0m\u001B[1m \u001B[0m┃\u001B[1m \u001B[0m\u001B[1mtotal_price\u001B[0m\u001B[1m \u001B[0m┃\n",
       "┡━━━━━━━━━━━━━━━╇━━━━━━━━━━━━━┩\n",
       "│ \u001B[2mstring\u001B[0m        │ \u001B[2mint64\u001B[0m       │\n",
       "├───────────────┼─────────────┤\n",
       "│ \u001B[32m201902       \u001B[0m │   \u001B[1;36m160185000\u001B[0m │\n",
       "│ \u001B[32m201903       \u001B[0m │   \u001B[1;36m160370000\u001B[0m │\n",
       "│ \u001B[32m201904       \u001B[0m │   \u001B[1;36m160510000\u001B[0m │\n",
       "│ \u001B[32m201905       \u001B[0m │   \u001B[1;36m155420000\u001B[0m │\n",
       "│ \u001B[32m201906       \u001B[0m │   \u001B[1;36m164030000\u001B[0m │\n",
       "└───────────────┴─────────────┘"
      ],
      "text/html": [
       "<pre style=\"white-space:pre;overflow-x:auto;line-height:normal;font-family:Menlo,'DejaVu Sans Mono',consolas,'Courier New',monospace\">┏━━━━━━━━━━━━━━━┳━━━━━━━━━━━━━┓\n",
       "┃<span style=\"font-weight: bold\"> payment_month </span>┃<span style=\"font-weight: bold\"> total_price </span>┃\n",
       "┡━━━━━━━━━━━━━━━╇━━━━━━━━━━━━━┩\n",
       "│ <span style=\"color: #7f7f7f; text-decoration-color: #7f7f7f\">string</span>        │ <span style=\"color: #7f7f7f; text-decoration-color: #7f7f7f\">int64</span>       │\n",
       "├───────────────┼─────────────┤\n",
       "│ <span style=\"color: #008000; text-decoration-color: #008000\">201902       </span> │   <span style=\"color: #008080; text-decoration-color: #008080; font-weight: bold\">160185000</span> │\n",
       "│ <span style=\"color: #008000; text-decoration-color: #008000\">201903       </span> │   <span style=\"color: #008080; text-decoration-color: #008080; font-weight: bold\">160370000</span> │\n",
       "│ <span style=\"color: #008000; text-decoration-color: #008000\">201904       </span> │   <span style=\"color: #008080; text-decoration-color: #008080; font-weight: bold\">160510000</span> │\n",
       "│ <span style=\"color: #008000; text-decoration-color: #008000\">201905       </span> │   <span style=\"color: #008080; text-decoration-color: #008080; font-weight: bold\">155420000</span> │\n",
       "│ <span style=\"color: #008000; text-decoration-color: #008000\">201906       </span> │   <span style=\"color: #008080; text-decoration-color: #008080; font-weight: bold\">164030000</span> │\n",
       "└───────────────┴─────────────┘\n",
       "</pre>\n"
      ]
     },
     "execution_count": 26,
     "metadata": {},
     "output_type": "execute_result"
    }
   ],
   "execution_count": 26
  },
  {
   "metadata": {
    "ExecuteTime": {
     "end_time": "2024-04-15T07:01:17.765116Z",
     "start_time": "2024-04-15T07:01:17.342849Z"
    }
   },
   "cell_type": "code",
   "source": [
    "grouped = join_data.group_by(['payment_month', 'item_name']).aggregate(\n",
    "    total_price=_.calc_price.sum()\n",
    ").order_by(['payment_month', 'total_price'])\n",
    "grouped.head()"
   ],
   "id": "b8473c487fa9f3d7",
   "outputs": [
    {
     "data": {
      "text/plain": [
       "┏━━━━━━━━━━━━━━━┳━━━━━━━━━━━┳━━━━━━━━━━━━━┓\n",
       "┃\u001B[1m \u001B[0m\u001B[1mpayment_month\u001B[0m\u001B[1m \u001B[0m┃\u001B[1m \u001B[0m\u001B[1mitem_name\u001B[0m\u001B[1m \u001B[0m┃\u001B[1m \u001B[0m\u001B[1mtotal_price\u001B[0m\u001B[1m \u001B[0m┃\n",
       "┡━━━━━━━━━━━━━━━╇━━━━━━━━━━━╇━━━━━━━━━━━━━┩\n",
       "│ \u001B[2mstring\u001B[0m        │ \u001B[2mstring\u001B[0m    │ \u001B[2mint64\u001B[0m       │\n",
       "├───────────────┼───────────┼─────────────┤\n",
       "│ \u001B[32m201902       \u001B[0m │ \u001B[32mPC-C     \u001B[0m │    \u001B[1;36m19800000\u001B[0m │\n",
       "│ \u001B[32m201902       \u001B[0m │ \u001B[32mPC-A     \u001B[0m │    \u001B[1;36m24150000\u001B[0m │\n",
       "│ \u001B[32m201902       \u001B[0m │ \u001B[32mPC-B     \u001B[0m │    \u001B[1;36m25245000\u001B[0m │\n",
       "│ \u001B[32m201902       \u001B[0m │ \u001B[32mPC-D     \u001B[0m │    \u001B[1;36m31140000\u001B[0m │\n",
       "│ \u001B[32m201902       \u001B[0m │ \u001B[32mPC-E     \u001B[0m │    \u001B[1;36m59850000\u001B[0m │\n",
       "└───────────────┴───────────┴─────────────┘"
      ],
      "text/html": [
       "<pre style=\"white-space:pre;overflow-x:auto;line-height:normal;font-family:Menlo,'DejaVu Sans Mono',consolas,'Courier New',monospace\">┏━━━━━━━━━━━━━━━┳━━━━━━━━━━━┳━━━━━━━━━━━━━┓\n",
       "┃<span style=\"font-weight: bold\"> payment_month </span>┃<span style=\"font-weight: bold\"> item_name </span>┃<span style=\"font-weight: bold\"> total_price </span>┃\n",
       "┡━━━━━━━━━━━━━━━╇━━━━━━━━━━━╇━━━━━━━━━━━━━┩\n",
       "│ <span style=\"color: #7f7f7f; text-decoration-color: #7f7f7f\">string</span>        │ <span style=\"color: #7f7f7f; text-decoration-color: #7f7f7f\">string</span>    │ <span style=\"color: #7f7f7f; text-decoration-color: #7f7f7f\">int64</span>       │\n",
       "├───────────────┼───────────┼─────────────┤\n",
       "│ <span style=\"color: #008000; text-decoration-color: #008000\">201902       </span> │ <span style=\"color: #008000; text-decoration-color: #008000\">PC-C     </span> │    <span style=\"color: #008080; text-decoration-color: #008080; font-weight: bold\">19800000</span> │\n",
       "│ <span style=\"color: #008000; text-decoration-color: #008000\">201902       </span> │ <span style=\"color: #008000; text-decoration-color: #008000\">PC-A     </span> │    <span style=\"color: #008080; text-decoration-color: #008080; font-weight: bold\">24150000</span> │\n",
       "│ <span style=\"color: #008000; text-decoration-color: #008000\">201902       </span> │ <span style=\"color: #008000; text-decoration-color: #008000\">PC-B     </span> │    <span style=\"color: #008080; text-decoration-color: #008080; font-weight: bold\">25245000</span> │\n",
       "│ <span style=\"color: #008000; text-decoration-color: #008000\">201902       </span> │ <span style=\"color: #008000; text-decoration-color: #008000\">PC-D     </span> │    <span style=\"color: #008080; text-decoration-color: #008080; font-weight: bold\">31140000</span> │\n",
       "│ <span style=\"color: #008000; text-decoration-color: #008000\">201902       </span> │ <span style=\"color: #008000; text-decoration-color: #008000\">PC-E     </span> │    <span style=\"color: #008080; text-decoration-color: #008080; font-weight: bold\">59850000</span> │\n",
       "└───────────────┴───────────┴─────────────┘\n",
       "</pre>\n"
      ]
     },
     "execution_count": 35,
     "metadata": {},
     "output_type": "execute_result"
    }
   ],
   "execution_count": 35
  },
  {
   "metadata": {
    "ExecuteTime": {
     "end_time": "2024-04-15T07:01:19.917989Z",
     "start_time": "2024-04-15T07:01:19.586671Z"
    }
   },
   "cell_type": "code",
   "source": [
    "import pandas as pd\n",
    "\n",
    "pd.pivot_table(\n",
    "    grouped.execute(),\n",
    "    index='item_name',\n",
    "    columns='payment_month',\n",
    "    values='total_price',\n",
    "    aggfunc='sum',\n",
    ")"
   ],
   "id": "be5c6807ff368d8a",
   "outputs": [
    {
     "data": {
      "text/plain": [
       "payment_month    201902    201903    201904    201905    201906    201907\n",
       "item_name                                                                \n",
       "PC-A           24150000  26000000  25900000  24850000  26000000  25250000\n",
       "PC-B           25245000  25500000  23460000  25330000  23970000  28220000\n",
       "PC-C           19800000  19080000  21960000  20520000  21840000  19440000\n",
       "PC-D           31140000  25740000  24300000  25920000  28800000  26100000\n",
       "PC-E           59850000  64050000  64890000  58800000  63420000  71610000"
      ],
      "text/html": [
       "<div>\n",
       "<style scoped>\n",
       "    .dataframe tbody tr th:only-of-type {\n",
       "        vertical-align: middle;\n",
       "    }\n",
       "\n",
       "    .dataframe tbody tr th {\n",
       "        vertical-align: top;\n",
       "    }\n",
       "\n",
       "    .dataframe thead th {\n",
       "        text-align: right;\n",
       "    }\n",
       "</style>\n",
       "<table border=\"1\" class=\"dataframe\">\n",
       "  <thead>\n",
       "    <tr style=\"text-align: right;\">\n",
       "      <th>payment_month</th>\n",
       "      <th>201902</th>\n",
       "      <th>201903</th>\n",
       "      <th>201904</th>\n",
       "      <th>201905</th>\n",
       "      <th>201906</th>\n",
       "      <th>201907</th>\n",
       "    </tr>\n",
       "    <tr>\n",
       "      <th>item_name</th>\n",
       "      <th></th>\n",
       "      <th></th>\n",
       "      <th></th>\n",
       "      <th></th>\n",
       "      <th></th>\n",
       "      <th></th>\n",
       "    </tr>\n",
       "  </thead>\n",
       "  <tbody>\n",
       "    <tr>\n",
       "      <th>PC-A</th>\n",
       "      <td>24150000</td>\n",
       "      <td>26000000</td>\n",
       "      <td>25900000</td>\n",
       "      <td>24850000</td>\n",
       "      <td>26000000</td>\n",
       "      <td>25250000</td>\n",
       "    </tr>\n",
       "    <tr>\n",
       "      <th>PC-B</th>\n",
       "      <td>25245000</td>\n",
       "      <td>25500000</td>\n",
       "      <td>23460000</td>\n",
       "      <td>25330000</td>\n",
       "      <td>23970000</td>\n",
       "      <td>28220000</td>\n",
       "    </tr>\n",
       "    <tr>\n",
       "      <th>PC-C</th>\n",
       "      <td>19800000</td>\n",
       "      <td>19080000</td>\n",
       "      <td>21960000</td>\n",
       "      <td>20520000</td>\n",
       "      <td>21840000</td>\n",
       "      <td>19440000</td>\n",
       "    </tr>\n",
       "    <tr>\n",
       "      <th>PC-D</th>\n",
       "      <td>31140000</td>\n",
       "      <td>25740000</td>\n",
       "      <td>24300000</td>\n",
       "      <td>25920000</td>\n",
       "      <td>28800000</td>\n",
       "      <td>26100000</td>\n",
       "    </tr>\n",
       "    <tr>\n",
       "      <th>PC-E</th>\n",
       "      <td>59850000</td>\n",
       "      <td>64050000</td>\n",
       "      <td>64890000</td>\n",
       "      <td>58800000</td>\n",
       "      <td>63420000</td>\n",
       "      <td>71610000</td>\n",
       "    </tr>\n",
       "  </tbody>\n",
       "</table>\n",
       "</div>"
      ]
     },
     "execution_count": 36,
     "metadata": {},
     "output_type": "execute_result"
    }
   ],
   "execution_count": 36
  },
  {
   "metadata": {
    "ExecuteTime": {
     "end_time": "2024-04-15T07:05:24.463252Z",
     "start_time": "2024-04-15T07:05:23.888507Z"
    }
   },
   "cell_type": "code",
   "source": [
    "import altair as alt\n",
    "alt.Chart(grouped.execute()).mark_line().encode(\n",
    "    x='payment_month',\n",
    "    y='total_price',\n",
    "    color='item_name').properties(width=800, height=400)"
   ],
   "id": "4424f53cd5f4783e",
   "outputs": [
    {
     "data": {
      "text/html": [
       "\n",
       "<style>\n",
       "  #altair-viz-86a7c01947a24063bcddc7d91d8401a9.vega-embed {\n",
       "    width: 100%;\n",
       "    display: flex;\n",
       "  }\n",
       "\n",
       "  #altair-viz-86a7c01947a24063bcddc7d91d8401a9.vega-embed details,\n",
       "  #altair-viz-86a7c01947a24063bcddc7d91d8401a9.vega-embed details summary {\n",
       "    position: relative;\n",
       "  }\n",
       "</style>\n",
       "<div id=\"altair-viz-86a7c01947a24063bcddc7d91d8401a9\"></div>\n",
       "<script type=\"text/javascript\">\n",
       "  var VEGA_DEBUG = (typeof VEGA_DEBUG == \"undefined\") ? {} : VEGA_DEBUG;\n",
       "  (function(spec, embedOpt){\n",
       "    let outputDiv = document.currentScript.previousElementSibling;\n",
       "    if (outputDiv.id !== \"altair-viz-86a7c01947a24063bcddc7d91d8401a9\") {\n",
       "      outputDiv = document.getElementById(\"altair-viz-86a7c01947a24063bcddc7d91d8401a9\");\n",
       "    }\n",
       "    const paths = {\n",
       "      \"vega\": \"https://cdn.jsdelivr.net/npm/vega@5?noext\",\n",
       "      \"vega-lib\": \"https://cdn.jsdelivr.net/npm/vega-lib?noext\",\n",
       "      \"vega-lite\": \"https://cdn.jsdelivr.net/npm/vega-lite@5.17.0?noext\",\n",
       "      \"vega-embed\": \"https://cdn.jsdelivr.net/npm/vega-embed@6?noext\",\n",
       "    };\n",
       "\n",
       "    function maybeLoadScript(lib, version) {\n",
       "      var key = `${lib.replace(\"-\", \"\")}_version`;\n",
       "      return (VEGA_DEBUG[key] == version) ?\n",
       "        Promise.resolve(paths[lib]) :\n",
       "        new Promise(function(resolve, reject) {\n",
       "          var s = document.createElement('script');\n",
       "          document.getElementsByTagName(\"head\")[0].appendChild(s);\n",
       "          s.async = true;\n",
       "          s.onload = () => {\n",
       "            VEGA_DEBUG[key] = version;\n",
       "            return resolve(paths[lib]);\n",
       "          };\n",
       "          s.onerror = () => reject(`Error loading script: ${paths[lib]}`);\n",
       "          s.src = paths[lib];\n",
       "        });\n",
       "    }\n",
       "\n",
       "    function showError(err) {\n",
       "      outputDiv.innerHTML = `<div class=\"error\" style=\"color:red;\">${err}</div>`;\n",
       "      throw err;\n",
       "    }\n",
       "\n",
       "    function displayChart(vegaEmbed) {\n",
       "      vegaEmbed(outputDiv, spec, embedOpt)\n",
       "        .catch(err => showError(`Javascript Error: ${err.message}<br>This usually means there's a typo in your chart specification. See the javascript console for the full traceback.`));\n",
       "    }\n",
       "\n",
       "    if(typeof define === \"function\" && define.amd) {\n",
       "      requirejs.config({paths});\n",
       "      require([\"vega-embed\"], displayChart, err => showError(`Error loading script: ${err.message}`));\n",
       "    } else {\n",
       "      maybeLoadScript(\"vega\", \"5\")\n",
       "        .then(() => maybeLoadScript(\"vega-lite\", \"5.17.0\"))\n",
       "        .then(() => maybeLoadScript(\"vega-embed\", \"6\"))\n",
       "        .catch(showError)\n",
       "        .then(() => displayChart(vegaEmbed));\n",
       "    }\n",
       "  })({\"config\": {\"view\": {\"continuousWidth\": 300, \"continuousHeight\": 300}}, \"data\": {\"name\": \"data-89ff6d58ec6de35a5085dd66ffbc29e7\"}, \"mark\": {\"type\": \"line\"}, \"encoding\": {\"color\": {\"field\": \"item_name\", \"type\": \"nominal\"}, \"x\": {\"field\": \"payment_month\", \"type\": \"nominal\"}, \"y\": {\"field\": \"total_price\", \"type\": \"quantitative\"}}, \"height\": 400, \"width\": 800, \"$schema\": \"https://vega.github.io/schema/vega-lite/v5.17.0.json\", \"datasets\": {\"data-89ff6d58ec6de35a5085dd66ffbc29e7\": [{\"payment_month\": \"201902\", \"item_name\": \"PC-C\", \"total_price\": 19800000}, {\"payment_month\": \"201902\", \"item_name\": \"PC-A\", \"total_price\": 24150000}, {\"payment_month\": \"201902\", \"item_name\": \"PC-B\", \"total_price\": 25245000}, {\"payment_month\": \"201902\", \"item_name\": \"PC-D\", \"total_price\": 31140000}, {\"payment_month\": \"201902\", \"item_name\": \"PC-E\", \"total_price\": 59850000}, {\"payment_month\": \"201903\", \"item_name\": \"PC-C\", \"total_price\": 19080000}, {\"payment_month\": \"201903\", \"item_name\": \"PC-B\", \"total_price\": 25500000}, {\"payment_month\": \"201903\", \"item_name\": \"PC-D\", \"total_price\": 25740000}, {\"payment_month\": \"201903\", \"item_name\": \"PC-A\", \"total_price\": 26000000}, {\"payment_month\": \"201903\", \"item_name\": \"PC-E\", \"total_price\": 64050000}, {\"payment_month\": \"201904\", \"item_name\": \"PC-C\", \"total_price\": 21960000}, {\"payment_month\": \"201904\", \"item_name\": \"PC-B\", \"total_price\": 23460000}, {\"payment_month\": \"201904\", \"item_name\": \"PC-D\", \"total_price\": 24300000}, {\"payment_month\": \"201904\", \"item_name\": \"PC-A\", \"total_price\": 25900000}, {\"payment_month\": \"201904\", \"item_name\": \"PC-E\", \"total_price\": 64890000}, {\"payment_month\": \"201905\", \"item_name\": \"PC-C\", \"total_price\": 20520000}, {\"payment_month\": \"201905\", \"item_name\": \"PC-A\", \"total_price\": 24850000}, {\"payment_month\": \"201905\", \"item_name\": \"PC-B\", \"total_price\": 25330000}, {\"payment_month\": \"201905\", \"item_name\": \"PC-D\", \"total_price\": 25920000}, {\"payment_month\": \"201905\", \"item_name\": \"PC-E\", \"total_price\": 58800000}, {\"payment_month\": \"201906\", \"item_name\": \"PC-C\", \"total_price\": 21840000}, {\"payment_month\": \"201906\", \"item_name\": \"PC-B\", \"total_price\": 23970000}, {\"payment_month\": \"201906\", \"item_name\": \"PC-A\", \"total_price\": 26000000}, {\"payment_month\": \"201906\", \"item_name\": \"PC-D\", \"total_price\": 28800000}, {\"payment_month\": \"201906\", \"item_name\": \"PC-E\", \"total_price\": 63420000}, {\"payment_month\": \"201907\", \"item_name\": \"PC-C\", \"total_price\": 19440000}, {\"payment_month\": \"201907\", \"item_name\": \"PC-A\", \"total_price\": 25250000}, {\"payment_month\": \"201907\", \"item_name\": \"PC-D\", \"total_price\": 26100000}, {\"payment_month\": \"201907\", \"item_name\": \"PC-B\", \"total_price\": 28220000}, {\"payment_month\": \"201907\", \"item_name\": \"PC-E\", \"total_price\": 71610000}]}}, {\"mode\": \"vega-lite\"});\n",
       "</script>"
      ],
      "text/plain": [
       "alt.Chart(...)"
      ]
     },
     "execution_count": 39,
     "metadata": {},
     "output_type": "execute_result"
    }
   ],
   "execution_count": 39
  },
  {
   "metadata": {},
   "cell_type": "code",
   "outputs": [],
   "execution_count": null,
   "source": "",
   "id": "7d3af012c8270c0b"
  }
 ],
 "metadata": {
  "kernelspec": {
   "display_name": "Python 3",
   "language": "python",
   "name": "python3"
  },
  "language_info": {
   "codemirror_mode": {
    "name": "ipython",
    "version": 2
   },
   "file_extension": ".py",
   "mimetype": "text/x-python",
   "name": "python",
   "nbconvert_exporter": "python",
   "pygments_lexer": "ipython2",
   "version": "2.7.6"
  }
 },
 "nbformat": 4,
 "nbformat_minor": 5
}
